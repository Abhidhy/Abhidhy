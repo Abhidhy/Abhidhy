{
 "cells": [
  {
   "cell_type": "code",
   "execution_count": 1,
   "id": "ec26bec9",
   "metadata": {},
   "outputs": [],
   "source": [
    "import numpy as np\n",
    "import pandas as pd"
   ]
  },
  {
   "cell_type": "code",
   "execution_count": 2,
   "id": "416de330",
   "metadata": {},
   "outputs": [
    {
     "data": {
      "text/html": [
       "<div>\n",
       "<style scoped>\n",
       "    .dataframe tbody tr th:only-of-type {\n",
       "        vertical-align: middle;\n",
       "    }\n",
       "\n",
       "    .dataframe tbody tr th {\n",
       "        vertical-align: top;\n",
       "    }\n",
       "\n",
       "    .dataframe thead th {\n",
       "        text-align: right;\n",
       "    }\n",
       "</style>\n",
       "<table border=\"1\" class=\"dataframe\">\n",
       "  <thead>\n",
       "    <tr style=\"text-align: right;\">\n",
       "      <th></th>\n",
       "      <th>UNIXTime</th>\n",
       "      <th>Data</th>\n",
       "      <th>Time</th>\n",
       "      <th>Radiation</th>\n",
       "      <th>Temperature</th>\n",
       "      <th>Pressure</th>\n",
       "      <th>Humidity</th>\n",
       "      <th>WindDirection(Degrees)</th>\n",
       "      <th>Speed</th>\n",
       "      <th>TimeSunRise</th>\n",
       "      <th>TimeSunSet</th>\n",
       "    </tr>\n",
       "  </thead>\n",
       "  <tbody>\n",
       "    <tr>\n",
       "      <th>0</th>\n",
       "      <td>1475229326</td>\n",
       "      <td>9/29/2016 12:00:00 AM</td>\n",
       "      <td>23:55:26</td>\n",
       "      <td>1.21</td>\n",
       "      <td>48</td>\n",
       "      <td>30.46</td>\n",
       "      <td>59</td>\n",
       "      <td>177.39</td>\n",
       "      <td>5.62</td>\n",
       "      <td>06:13:00</td>\n",
       "      <td>18:13:00</td>\n",
       "    </tr>\n",
       "    <tr>\n",
       "      <th>1</th>\n",
       "      <td>1475229023</td>\n",
       "      <td>9/29/2016 12:00:00 AM</td>\n",
       "      <td>23:50:23</td>\n",
       "      <td>1.21</td>\n",
       "      <td>48</td>\n",
       "      <td>30.46</td>\n",
       "      <td>58</td>\n",
       "      <td>176.78</td>\n",
       "      <td>3.37</td>\n",
       "      <td>06:13:00</td>\n",
       "      <td>18:13:00</td>\n",
       "    </tr>\n",
       "    <tr>\n",
       "      <th>2</th>\n",
       "      <td>1475228726</td>\n",
       "      <td>9/29/2016 12:00:00 AM</td>\n",
       "      <td>23:45:26</td>\n",
       "      <td>1.23</td>\n",
       "      <td>48</td>\n",
       "      <td>30.46</td>\n",
       "      <td>57</td>\n",
       "      <td>158.75</td>\n",
       "      <td>3.37</td>\n",
       "      <td>06:13:00</td>\n",
       "      <td>18:13:00</td>\n",
       "    </tr>\n",
       "    <tr>\n",
       "      <th>3</th>\n",
       "      <td>1475228421</td>\n",
       "      <td>9/29/2016 12:00:00 AM</td>\n",
       "      <td>23:40:21</td>\n",
       "      <td>1.21</td>\n",
       "      <td>48</td>\n",
       "      <td>30.46</td>\n",
       "      <td>60</td>\n",
       "      <td>137.71</td>\n",
       "      <td>3.37</td>\n",
       "      <td>06:13:00</td>\n",
       "      <td>18:13:00</td>\n",
       "    </tr>\n",
       "    <tr>\n",
       "      <th>4</th>\n",
       "      <td>1475228124</td>\n",
       "      <td>9/29/2016 12:00:00 AM</td>\n",
       "      <td>23:35:24</td>\n",
       "      <td>1.17</td>\n",
       "      <td>48</td>\n",
       "      <td>30.46</td>\n",
       "      <td>62</td>\n",
       "      <td>104.95</td>\n",
       "      <td>5.62</td>\n",
       "      <td>06:13:00</td>\n",
       "      <td>18:13:00</td>\n",
       "    </tr>\n",
       "  </tbody>\n",
       "</table>\n",
       "</div>"
      ],
      "text/plain": [
       "     UNIXTime                   Data      Time  Radiation  Temperature  \\\n",
       "0  1475229326  9/29/2016 12:00:00 AM  23:55:26       1.21           48   \n",
       "1  1475229023  9/29/2016 12:00:00 AM  23:50:23       1.21           48   \n",
       "2  1475228726  9/29/2016 12:00:00 AM  23:45:26       1.23           48   \n",
       "3  1475228421  9/29/2016 12:00:00 AM  23:40:21       1.21           48   \n",
       "4  1475228124  9/29/2016 12:00:00 AM  23:35:24       1.17           48   \n",
       "\n",
       "   Pressure  Humidity  WindDirection(Degrees)  Speed TimeSunRise TimeSunSet  \n",
       "0     30.46        59                  177.39   5.62    06:13:00   18:13:00  \n",
       "1     30.46        58                  176.78   3.37    06:13:00   18:13:00  \n",
       "2     30.46        57                  158.75   3.37    06:13:00   18:13:00  \n",
       "3     30.46        60                  137.71   3.37    06:13:00   18:13:00  \n",
       "4     30.46        62                  104.95   5.62    06:13:00   18:13:00  "
      ]
     },
     "execution_count": 2,
     "metadata": {},
     "output_type": "execute_result"
    }
   ],
   "source": [
    "df=pd.read_csv('SolarPrediction.csv')\n",
    "df.head()"
   ]
  },
  {
   "cell_type": "code",
   "execution_count": 3,
   "id": "4cf0942b",
   "metadata": {},
   "outputs": [
    {
     "name": "stdout",
     "output_type": "stream",
     "text": [
      "<class 'pandas.core.frame.DataFrame'>\n",
      "RangeIndex: 32686 entries, 0 to 32685\n",
      "Data columns (total 11 columns):\n",
      " #   Column                  Non-Null Count  Dtype  \n",
      "---  ------                  --------------  -----  \n",
      " 0   UNIXTime                32686 non-null  int64  \n",
      " 1   Data                    32686 non-null  object \n",
      " 2   Time                    32686 non-null  object \n",
      " 3   Radiation               32686 non-null  float64\n",
      " 4   Temperature             32686 non-null  int64  \n",
      " 5   Pressure                32686 non-null  float64\n",
      " 6   Humidity                32686 non-null  int64  \n",
      " 7   WindDirection(Degrees)  32686 non-null  float64\n",
      " 8   Speed                   32686 non-null  float64\n",
      " 9   TimeSunRise             32686 non-null  object \n",
      " 10  TimeSunSet              32686 non-null  object \n",
      "dtypes: float64(4), int64(3), object(4)\n",
      "memory usage: 2.7+ MB\n"
     ]
    }
   ],
   "source": [
    "df.info()"
   ]
  },
  {
   "cell_type": "code",
   "execution_count": 4,
   "id": "5f1a0e61",
   "metadata": {},
   "outputs": [
    {
     "data": {
      "text/plain": [
       "UNIXTime                  0\n",
       "Data                      0\n",
       "Time                      0\n",
       "Radiation                 0\n",
       "Temperature               0\n",
       "Pressure                  0\n",
       "Humidity                  0\n",
       "WindDirection(Degrees)    0\n",
       "Speed                     0\n",
       "TimeSunRise               0\n",
       "TimeSunSet                0\n",
       "dtype: int64"
      ]
     },
     "execution_count": 4,
     "metadata": {},
     "output_type": "execute_result"
    }
   ],
   "source": [
    "df.isnull().sum()"
   ]
  },
  {
   "cell_type": "code",
   "execution_count": 5,
   "id": "27e872f0",
   "metadata": {},
   "outputs": [
    {
     "data": {
      "text/plain": [
       "(32686, 11)"
      ]
     },
     "execution_count": 5,
     "metadata": {},
     "output_type": "execute_result"
    }
   ],
   "source": [
    "df.shape"
   ]
  },
  {
   "cell_type": "code",
   "execution_count": 6,
   "id": "98ebb0b2",
   "metadata": {},
   "outputs": [
    {
     "data": {
      "text/html": [
       "<div>\n",
       "<style scoped>\n",
       "    .dataframe tbody tr th:only-of-type {\n",
       "        vertical-align: middle;\n",
       "    }\n",
       "\n",
       "    .dataframe tbody tr th {\n",
       "        vertical-align: top;\n",
       "    }\n",
       "\n",
       "    .dataframe thead th {\n",
       "        text-align: right;\n",
       "    }\n",
       "</style>\n",
       "<table border=\"1\" class=\"dataframe\">\n",
       "  <thead>\n",
       "    <tr style=\"text-align: right;\">\n",
       "      <th></th>\n",
       "      <th>count</th>\n",
       "      <th>mean</th>\n",
       "      <th>std</th>\n",
       "      <th>min</th>\n",
       "      <th>25%</th>\n",
       "      <th>50%</th>\n",
       "      <th>75%</th>\n",
       "      <th>max</th>\n",
       "    </tr>\n",
       "  </thead>\n",
       "  <tbody>\n",
       "    <tr>\n",
       "      <th>UNIXTime</th>\n",
       "      <td>32686.0</td>\n",
       "      <td>1.478047e+09</td>\n",
       "      <td>3.005037e+06</td>\n",
       "      <td>1.472724e+09</td>\n",
       "      <td>1.475546e+09</td>\n",
       "      <td>1.478026e+09</td>\n",
       "      <td>1.480480e+09</td>\n",
       "      <td>1.483265e+09</td>\n",
       "    </tr>\n",
       "    <tr>\n",
       "      <th>Radiation</th>\n",
       "      <td>32686.0</td>\n",
       "      <td>2.071247e+02</td>\n",
       "      <td>3.159164e+02</td>\n",
       "      <td>1.110000e+00</td>\n",
       "      <td>1.230000e+00</td>\n",
       "      <td>2.660000e+00</td>\n",
       "      <td>3.542350e+02</td>\n",
       "      <td>1.601260e+03</td>\n",
       "    </tr>\n",
       "    <tr>\n",
       "      <th>Temperature</th>\n",
       "      <td>32686.0</td>\n",
       "      <td>5.110326e+01</td>\n",
       "      <td>6.201157e+00</td>\n",
       "      <td>3.400000e+01</td>\n",
       "      <td>4.600000e+01</td>\n",
       "      <td>5.000000e+01</td>\n",
       "      <td>5.500000e+01</td>\n",
       "      <td>7.100000e+01</td>\n",
       "    </tr>\n",
       "    <tr>\n",
       "      <th>Pressure</th>\n",
       "      <td>32686.0</td>\n",
       "      <td>3.042288e+01</td>\n",
       "      <td>5.467316e-02</td>\n",
       "      <td>3.019000e+01</td>\n",
       "      <td>3.040000e+01</td>\n",
       "      <td>3.043000e+01</td>\n",
       "      <td>3.046000e+01</td>\n",
       "      <td>3.056000e+01</td>\n",
       "    </tr>\n",
       "    <tr>\n",
       "      <th>Humidity</th>\n",
       "      <td>32686.0</td>\n",
       "      <td>7.501631e+01</td>\n",
       "      <td>2.599022e+01</td>\n",
       "      <td>8.000000e+00</td>\n",
       "      <td>5.600000e+01</td>\n",
       "      <td>8.500000e+01</td>\n",
       "      <td>9.700000e+01</td>\n",
       "      <td>1.030000e+02</td>\n",
       "    </tr>\n",
       "    <tr>\n",
       "      <th>WindDirection(Degrees)</th>\n",
       "      <td>32686.0</td>\n",
       "      <td>1.434898e+02</td>\n",
       "      <td>8.316750e+01</td>\n",
       "      <td>9.000000e-02</td>\n",
       "      <td>8.222750e+01</td>\n",
       "      <td>1.477000e+02</td>\n",
       "      <td>1.793100e+02</td>\n",
       "      <td>3.599500e+02</td>\n",
       "    </tr>\n",
       "    <tr>\n",
       "      <th>Speed</th>\n",
       "      <td>32686.0</td>\n",
       "      <td>6.243869e+00</td>\n",
       "      <td>3.490474e+00</td>\n",
       "      <td>0.000000e+00</td>\n",
       "      <td>3.370000e+00</td>\n",
       "      <td>5.620000e+00</td>\n",
       "      <td>7.870000e+00</td>\n",
       "      <td>4.050000e+01</td>\n",
       "    </tr>\n",
       "  </tbody>\n",
       "</table>\n",
       "</div>"
      ],
      "text/plain": [
       "                          count          mean           std           min  \\\n",
       "UNIXTime                32686.0  1.478047e+09  3.005037e+06  1.472724e+09   \n",
       "Radiation               32686.0  2.071247e+02  3.159164e+02  1.110000e+00   \n",
       "Temperature             32686.0  5.110326e+01  6.201157e+00  3.400000e+01   \n",
       "Pressure                32686.0  3.042288e+01  5.467316e-02  3.019000e+01   \n",
       "Humidity                32686.0  7.501631e+01  2.599022e+01  8.000000e+00   \n",
       "WindDirection(Degrees)  32686.0  1.434898e+02  8.316750e+01  9.000000e-02   \n",
       "Speed                   32686.0  6.243869e+00  3.490474e+00  0.000000e+00   \n",
       "\n",
       "                                 25%           50%           75%           max  \n",
       "UNIXTime                1.475546e+09  1.478026e+09  1.480480e+09  1.483265e+09  \n",
       "Radiation               1.230000e+00  2.660000e+00  3.542350e+02  1.601260e+03  \n",
       "Temperature             4.600000e+01  5.000000e+01  5.500000e+01  7.100000e+01  \n",
       "Pressure                3.040000e+01  3.043000e+01  3.046000e+01  3.056000e+01  \n",
       "Humidity                5.600000e+01  8.500000e+01  9.700000e+01  1.030000e+02  \n",
       "WindDirection(Degrees)  8.222750e+01  1.477000e+02  1.793100e+02  3.599500e+02  \n",
       "Speed                   3.370000e+00  5.620000e+00  7.870000e+00  4.050000e+01  "
      ]
     },
     "execution_count": 6,
     "metadata": {},
     "output_type": "execute_result"
    }
   ],
   "source": [
    "df.describe().T"
   ]
  },
  {
   "cell_type": "code",
   "execution_count": 9,
   "id": "0d0ce729",
   "metadata": {},
   "outputs": [],
   "source": [
    "import re"
   ]
  },
  {
   "cell_type": "code",
   "execution_count": 10,
   "id": "250e8fb2",
   "metadata": {},
   "outputs": [
    {
     "data": {
      "text/html": [
       "<div>\n",
       "<style scoped>\n",
       "    .dataframe tbody tr th:only-of-type {\n",
       "        vertical-align: middle;\n",
       "    }\n",
       "\n",
       "    .dataframe tbody tr th {\n",
       "        vertical-align: top;\n",
       "    }\n",
       "\n",
       "    .dataframe thead th {\n",
       "        text-align: right;\n",
       "    }\n",
       "</style>\n",
       "<table border=\"1\" class=\"dataframe\">\n",
       "  <thead>\n",
       "    <tr style=\"text-align: right;\">\n",
       "      <th></th>\n",
       "      <th>UNIXTime</th>\n",
       "      <th>Data</th>\n",
       "      <th>Time</th>\n",
       "      <th>Radiation</th>\n",
       "      <th>Temperature</th>\n",
       "      <th>Pressure</th>\n",
       "      <th>Humidity</th>\n",
       "      <th>WindDirection(Degrees)</th>\n",
       "      <th>Speed</th>\n",
       "      <th>TimeSunRise</th>\n",
       "      <th>TimeSunSet</th>\n",
       "      <th>month</th>\n",
       "    </tr>\n",
       "  </thead>\n",
       "  <tbody>\n",
       "    <tr>\n",
       "      <th>0</th>\n",
       "      <td>1475229326</td>\n",
       "      <td>9/29/2016 12:00:00 AM</td>\n",
       "      <td>23:55:26</td>\n",
       "      <td>1.21</td>\n",
       "      <td>48</td>\n",
       "      <td>30.46</td>\n",
       "      <td>59</td>\n",
       "      <td>177.39</td>\n",
       "      <td>5.62</td>\n",
       "      <td>06:13:00</td>\n",
       "      <td>18:13:00</td>\n",
       "      <td>9</td>\n",
       "    </tr>\n",
       "    <tr>\n",
       "      <th>1</th>\n",
       "      <td>1475229023</td>\n",
       "      <td>9/29/2016 12:00:00 AM</td>\n",
       "      <td>23:50:23</td>\n",
       "      <td>1.21</td>\n",
       "      <td>48</td>\n",
       "      <td>30.46</td>\n",
       "      <td>58</td>\n",
       "      <td>176.78</td>\n",
       "      <td>3.37</td>\n",
       "      <td>06:13:00</td>\n",
       "      <td>18:13:00</td>\n",
       "      <td>9</td>\n",
       "    </tr>\n",
       "    <tr>\n",
       "      <th>2</th>\n",
       "      <td>1475228726</td>\n",
       "      <td>9/29/2016 12:00:00 AM</td>\n",
       "      <td>23:45:26</td>\n",
       "      <td>1.23</td>\n",
       "      <td>48</td>\n",
       "      <td>30.46</td>\n",
       "      <td>57</td>\n",
       "      <td>158.75</td>\n",
       "      <td>3.37</td>\n",
       "      <td>06:13:00</td>\n",
       "      <td>18:13:00</td>\n",
       "      <td>9</td>\n",
       "    </tr>\n",
       "    <tr>\n",
       "      <th>3</th>\n",
       "      <td>1475228421</td>\n",
       "      <td>9/29/2016 12:00:00 AM</td>\n",
       "      <td>23:40:21</td>\n",
       "      <td>1.21</td>\n",
       "      <td>48</td>\n",
       "      <td>30.46</td>\n",
       "      <td>60</td>\n",
       "      <td>137.71</td>\n",
       "      <td>3.37</td>\n",
       "      <td>06:13:00</td>\n",
       "      <td>18:13:00</td>\n",
       "      <td>9</td>\n",
       "    </tr>\n",
       "    <tr>\n",
       "      <th>4</th>\n",
       "      <td>1475228124</td>\n",
       "      <td>9/29/2016 12:00:00 AM</td>\n",
       "      <td>23:35:24</td>\n",
       "      <td>1.17</td>\n",
       "      <td>48</td>\n",
       "      <td>30.46</td>\n",
       "      <td>62</td>\n",
       "      <td>104.95</td>\n",
       "      <td>5.62</td>\n",
       "      <td>06:13:00</td>\n",
       "      <td>18:13:00</td>\n",
       "      <td>9</td>\n",
       "    </tr>\n",
       "  </tbody>\n",
       "</table>\n",
       "</div>"
      ],
      "text/plain": [
       "     UNIXTime                   Data      Time  Radiation  Temperature  \\\n",
       "0  1475229326  9/29/2016 12:00:00 AM  23:55:26       1.21           48   \n",
       "1  1475229023  9/29/2016 12:00:00 AM  23:50:23       1.21           48   \n",
       "2  1475228726  9/29/2016 12:00:00 AM  23:45:26       1.23           48   \n",
       "3  1475228421  9/29/2016 12:00:00 AM  23:40:21       1.21           48   \n",
       "4  1475228124  9/29/2016 12:00:00 AM  23:35:24       1.17           48   \n",
       "\n",
       "   Pressure  Humidity  WindDirection(Degrees)  Speed TimeSunRise TimeSunSet  \\\n",
       "0     30.46        59                  177.39   5.62    06:13:00   18:13:00   \n",
       "1     30.46        58                  176.78   3.37    06:13:00   18:13:00   \n",
       "2     30.46        57                  158.75   3.37    06:13:00   18:13:00   \n",
       "3     30.46        60                  137.71   3.37    06:13:00   18:13:00   \n",
       "4     30.46        62                  104.95   5.62    06:13:00   18:13:00   \n",
       "\n",
       "   month  \n",
       "0      9  \n",
       "1      9  \n",
       "2      9  \n",
       "3      9  \n",
       "4      9  "
      ]
     },
     "execution_count": 10,
     "metadata": {},
     "output_type": "execute_result"
    }
   ],
   "source": [
    "df['month'] = df['Data'].apply(lambda x : re.search(r'^\\d+', x).group(0)).astype(int)\n",
    "df.head()"
   ]
  },
  {
   "cell_type": "code",
   "execution_count": 11,
   "id": "f0e91323",
   "metadata": {},
   "outputs": [
    {
     "data": {
      "text/html": [
       "<div>\n",
       "<style scoped>\n",
       "    .dataframe tbody tr th:only-of-type {\n",
       "        vertical-align: middle;\n",
       "    }\n",
       "\n",
       "    .dataframe tbody tr th {\n",
       "        vertical-align: top;\n",
       "    }\n",
       "\n",
       "    .dataframe thead th {\n",
       "        text-align: right;\n",
       "    }\n",
       "</style>\n",
       "<table border=\"1\" class=\"dataframe\">\n",
       "  <thead>\n",
       "    <tr style=\"text-align: right;\">\n",
       "      <th></th>\n",
       "      <th>UNIXTime</th>\n",
       "      <th>Data</th>\n",
       "      <th>Time</th>\n",
       "      <th>Radiation</th>\n",
       "      <th>Temperature</th>\n",
       "      <th>Pressure</th>\n",
       "      <th>Humidity</th>\n",
       "      <th>WindDirection(Degrees)</th>\n",
       "      <th>Speed</th>\n",
       "      <th>TimeSunRise</th>\n",
       "      <th>TimeSunSet</th>\n",
       "      <th>month</th>\n",
       "      <th>date</th>\n",
       "      <th>year</th>\n",
       "    </tr>\n",
       "  </thead>\n",
       "  <tbody>\n",
       "    <tr>\n",
       "      <th>0</th>\n",
       "      <td>1475229326</td>\n",
       "      <td>9/29/2016 12:00:00 AM</td>\n",
       "      <td>23:55:26</td>\n",
       "      <td>1.21</td>\n",
       "      <td>48</td>\n",
       "      <td>30.46</td>\n",
       "      <td>59</td>\n",
       "      <td>177.39</td>\n",
       "      <td>5.62</td>\n",
       "      <td>06:13:00</td>\n",
       "      <td>18:13:00</td>\n",
       "      <td>9</td>\n",
       "      <td>29</td>\n",
       "      <td>2016</td>\n",
       "    </tr>\n",
       "    <tr>\n",
       "      <th>1</th>\n",
       "      <td>1475229023</td>\n",
       "      <td>9/29/2016 12:00:00 AM</td>\n",
       "      <td>23:50:23</td>\n",
       "      <td>1.21</td>\n",
       "      <td>48</td>\n",
       "      <td>30.46</td>\n",
       "      <td>58</td>\n",
       "      <td>176.78</td>\n",
       "      <td>3.37</td>\n",
       "      <td>06:13:00</td>\n",
       "      <td>18:13:00</td>\n",
       "      <td>9</td>\n",
       "      <td>29</td>\n",
       "      <td>2016</td>\n",
       "    </tr>\n",
       "    <tr>\n",
       "      <th>2</th>\n",
       "      <td>1475228726</td>\n",
       "      <td>9/29/2016 12:00:00 AM</td>\n",
       "      <td>23:45:26</td>\n",
       "      <td>1.23</td>\n",
       "      <td>48</td>\n",
       "      <td>30.46</td>\n",
       "      <td>57</td>\n",
       "      <td>158.75</td>\n",
       "      <td>3.37</td>\n",
       "      <td>06:13:00</td>\n",
       "      <td>18:13:00</td>\n",
       "      <td>9</td>\n",
       "      <td>29</td>\n",
       "      <td>2016</td>\n",
       "    </tr>\n",
       "    <tr>\n",
       "      <th>3</th>\n",
       "      <td>1475228421</td>\n",
       "      <td>9/29/2016 12:00:00 AM</td>\n",
       "      <td>23:40:21</td>\n",
       "      <td>1.21</td>\n",
       "      <td>48</td>\n",
       "      <td>30.46</td>\n",
       "      <td>60</td>\n",
       "      <td>137.71</td>\n",
       "      <td>3.37</td>\n",
       "      <td>06:13:00</td>\n",
       "      <td>18:13:00</td>\n",
       "      <td>9</td>\n",
       "      <td>29</td>\n",
       "      <td>2016</td>\n",
       "    </tr>\n",
       "    <tr>\n",
       "      <th>4</th>\n",
       "      <td>1475228124</td>\n",
       "      <td>9/29/2016 12:00:00 AM</td>\n",
       "      <td>23:35:24</td>\n",
       "      <td>1.17</td>\n",
       "      <td>48</td>\n",
       "      <td>30.46</td>\n",
       "      <td>62</td>\n",
       "      <td>104.95</td>\n",
       "      <td>5.62</td>\n",
       "      <td>06:13:00</td>\n",
       "      <td>18:13:00</td>\n",
       "      <td>9</td>\n",
       "      <td>29</td>\n",
       "      <td>2016</td>\n",
       "    </tr>\n",
       "  </tbody>\n",
       "</table>\n",
       "</div>"
      ],
      "text/plain": [
       "     UNIXTime                   Data      Time  Radiation  Temperature  \\\n",
       "0  1475229326  9/29/2016 12:00:00 AM  23:55:26       1.21           48   \n",
       "1  1475229023  9/29/2016 12:00:00 AM  23:50:23       1.21           48   \n",
       "2  1475228726  9/29/2016 12:00:00 AM  23:45:26       1.23           48   \n",
       "3  1475228421  9/29/2016 12:00:00 AM  23:40:21       1.21           48   \n",
       "4  1475228124  9/29/2016 12:00:00 AM  23:35:24       1.17           48   \n",
       "\n",
       "   Pressure  Humidity  WindDirection(Degrees)  Speed TimeSunRise TimeSunSet  \\\n",
       "0     30.46        59                  177.39   5.62    06:13:00   18:13:00   \n",
       "1     30.46        58                  176.78   3.37    06:13:00   18:13:00   \n",
       "2     30.46        57                  158.75   3.37    06:13:00   18:13:00   \n",
       "3     30.46        60                  137.71   3.37    06:13:00   18:13:00   \n",
       "4     30.46        62                  104.95   5.62    06:13:00   18:13:00   \n",
       "\n",
       "   month  date  year  \n",
       "0      9    29  2016  \n",
       "1      9    29  2016  \n",
       "2      9    29  2016  \n",
       "3      9    29  2016  \n",
       "4      9    29  2016  "
      ]
     },
     "execution_count": 11,
     "metadata": {},
     "output_type": "execute_result"
    }
   ],
   "source": [
    "df['date'] = df['Data'].apply(lambda x : re.search(r'(?<=\\/)\\d+(?=\\/)', x).group(0)).astype(int)\n",
    "df['year'] = df['Data'].apply(lambda x : re.search(r'(?<=\\/)\\d+(?=\\s)', x).group(0)).astype(int)\n",
    "df.head()"
   ]
  },
  {
   "cell_type": "code",
   "execution_count": 12,
   "id": "72e1d4bd",
   "metadata": {},
   "outputs": [],
   "source": [
    "df['hour'] = df['Time'].apply(lambda x : re.search(r'^\\d+', x).group(0)).astype(int)\n",
    "df['minute'] = df['Time'].apply(lambda x : re.search(r'(?<=\\:)\\d+(?=\\:)', x).group(0)).astype(int)\n",
    "df['second'] = df['Time'].apply(lambda x : re.search(r'\\d+$', x).group(0)).astype(int)"
   ]
  },
  {
   "cell_type": "code",
   "execution_count": 13,
   "id": "e5071ba7",
   "metadata": {},
   "outputs": [],
   "source": [
    "df['risehour'] = df['TimeSunRise'].apply(lambda x : re.search(r'^\\d+', x).group(0)).astype(int)\n",
    "df['riseminuter'] = df['TimeSunRise'].apply(lambda x : re.search(r'(?<=\\:)\\d+(?=\\:)', x).group(0)).astype(int)\n",
    "\n",
    "df['sethour'] = df['TimeSunSet'].apply(lambda x : re.search(r'^\\d+', x).group(0)).astype(int)\n",
    "df['setminute'] = df['TimeSunSet'].apply(lambda x : re.search(r'(?<=\\:)\\d+(?=\\:)', x).group(0)).astype(int)"
   ]
  },
  {
   "cell_type": "code",
   "execution_count": 14,
   "id": "e8824a8f",
   "metadata": {},
   "outputs": [
    {
     "data": {
      "text/html": [
       "<div>\n",
       "<style scoped>\n",
       "    .dataframe tbody tr th:only-of-type {\n",
       "        vertical-align: middle;\n",
       "    }\n",
       "\n",
       "    .dataframe tbody tr th {\n",
       "        vertical-align: top;\n",
       "    }\n",
       "\n",
       "    .dataframe thead th {\n",
       "        text-align: right;\n",
       "    }\n",
       "</style>\n",
       "<table border=\"1\" class=\"dataframe\">\n",
       "  <thead>\n",
       "    <tr style=\"text-align: right;\">\n",
       "      <th></th>\n",
       "      <th>UNIXTime</th>\n",
       "      <th>Data</th>\n",
       "      <th>Time</th>\n",
       "      <th>Radiation</th>\n",
       "      <th>Temperature</th>\n",
       "      <th>Pressure</th>\n",
       "      <th>Humidity</th>\n",
       "      <th>WindDirection(Degrees)</th>\n",
       "      <th>Speed</th>\n",
       "      <th>TimeSunRise</th>\n",
       "      <th>...</th>\n",
       "      <th>month</th>\n",
       "      <th>date</th>\n",
       "      <th>year</th>\n",
       "      <th>hour</th>\n",
       "      <th>minute</th>\n",
       "      <th>second</th>\n",
       "      <th>risehour</th>\n",
       "      <th>riseminuter</th>\n",
       "      <th>sethour</th>\n",
       "      <th>setminute</th>\n",
       "    </tr>\n",
       "  </thead>\n",
       "  <tbody>\n",
       "    <tr>\n",
       "      <th>0</th>\n",
       "      <td>1475229326</td>\n",
       "      <td>9/29/2016 12:00:00 AM</td>\n",
       "      <td>23:55:26</td>\n",
       "      <td>1.21</td>\n",
       "      <td>48</td>\n",
       "      <td>30.46</td>\n",
       "      <td>59</td>\n",
       "      <td>177.39</td>\n",
       "      <td>5.62</td>\n",
       "      <td>06:13:00</td>\n",
       "      <td>...</td>\n",
       "      <td>9</td>\n",
       "      <td>29</td>\n",
       "      <td>2016</td>\n",
       "      <td>23</td>\n",
       "      <td>55</td>\n",
       "      <td>26</td>\n",
       "      <td>6</td>\n",
       "      <td>13</td>\n",
       "      <td>18</td>\n",
       "      <td>13</td>\n",
       "    </tr>\n",
       "    <tr>\n",
       "      <th>1</th>\n",
       "      <td>1475229023</td>\n",
       "      <td>9/29/2016 12:00:00 AM</td>\n",
       "      <td>23:50:23</td>\n",
       "      <td>1.21</td>\n",
       "      <td>48</td>\n",
       "      <td>30.46</td>\n",
       "      <td>58</td>\n",
       "      <td>176.78</td>\n",
       "      <td>3.37</td>\n",
       "      <td>06:13:00</td>\n",
       "      <td>...</td>\n",
       "      <td>9</td>\n",
       "      <td>29</td>\n",
       "      <td>2016</td>\n",
       "      <td>23</td>\n",
       "      <td>50</td>\n",
       "      <td>23</td>\n",
       "      <td>6</td>\n",
       "      <td>13</td>\n",
       "      <td>18</td>\n",
       "      <td>13</td>\n",
       "    </tr>\n",
       "    <tr>\n",
       "      <th>2</th>\n",
       "      <td>1475228726</td>\n",
       "      <td>9/29/2016 12:00:00 AM</td>\n",
       "      <td>23:45:26</td>\n",
       "      <td>1.23</td>\n",
       "      <td>48</td>\n",
       "      <td>30.46</td>\n",
       "      <td>57</td>\n",
       "      <td>158.75</td>\n",
       "      <td>3.37</td>\n",
       "      <td>06:13:00</td>\n",
       "      <td>...</td>\n",
       "      <td>9</td>\n",
       "      <td>29</td>\n",
       "      <td>2016</td>\n",
       "      <td>23</td>\n",
       "      <td>45</td>\n",
       "      <td>26</td>\n",
       "      <td>6</td>\n",
       "      <td>13</td>\n",
       "      <td>18</td>\n",
       "      <td>13</td>\n",
       "    </tr>\n",
       "    <tr>\n",
       "      <th>3</th>\n",
       "      <td>1475228421</td>\n",
       "      <td>9/29/2016 12:00:00 AM</td>\n",
       "      <td>23:40:21</td>\n",
       "      <td>1.21</td>\n",
       "      <td>48</td>\n",
       "      <td>30.46</td>\n",
       "      <td>60</td>\n",
       "      <td>137.71</td>\n",
       "      <td>3.37</td>\n",
       "      <td>06:13:00</td>\n",
       "      <td>...</td>\n",
       "      <td>9</td>\n",
       "      <td>29</td>\n",
       "      <td>2016</td>\n",
       "      <td>23</td>\n",
       "      <td>40</td>\n",
       "      <td>21</td>\n",
       "      <td>6</td>\n",
       "      <td>13</td>\n",
       "      <td>18</td>\n",
       "      <td>13</td>\n",
       "    </tr>\n",
       "    <tr>\n",
       "      <th>4</th>\n",
       "      <td>1475228124</td>\n",
       "      <td>9/29/2016 12:00:00 AM</td>\n",
       "      <td>23:35:24</td>\n",
       "      <td>1.17</td>\n",
       "      <td>48</td>\n",
       "      <td>30.46</td>\n",
       "      <td>62</td>\n",
       "      <td>104.95</td>\n",
       "      <td>5.62</td>\n",
       "      <td>06:13:00</td>\n",
       "      <td>...</td>\n",
       "      <td>9</td>\n",
       "      <td>29</td>\n",
       "      <td>2016</td>\n",
       "      <td>23</td>\n",
       "      <td>35</td>\n",
       "      <td>24</td>\n",
       "      <td>6</td>\n",
       "      <td>13</td>\n",
       "      <td>18</td>\n",
       "      <td>13</td>\n",
       "    </tr>\n",
       "  </tbody>\n",
       "</table>\n",
       "<p>5 rows × 21 columns</p>\n",
       "</div>"
      ],
      "text/plain": [
       "     UNIXTime                   Data      Time  Radiation  Temperature  \\\n",
       "0  1475229326  9/29/2016 12:00:00 AM  23:55:26       1.21           48   \n",
       "1  1475229023  9/29/2016 12:00:00 AM  23:50:23       1.21           48   \n",
       "2  1475228726  9/29/2016 12:00:00 AM  23:45:26       1.23           48   \n",
       "3  1475228421  9/29/2016 12:00:00 AM  23:40:21       1.21           48   \n",
       "4  1475228124  9/29/2016 12:00:00 AM  23:35:24       1.17           48   \n",
       "\n",
       "   Pressure  Humidity  WindDirection(Degrees)  Speed TimeSunRise  ... month  \\\n",
       "0     30.46        59                  177.39   5.62    06:13:00  ...     9   \n",
       "1     30.46        58                  176.78   3.37    06:13:00  ...     9   \n",
       "2     30.46        57                  158.75   3.37    06:13:00  ...     9   \n",
       "3     30.46        60                  137.71   3.37    06:13:00  ...     9   \n",
       "4     30.46        62                  104.95   5.62    06:13:00  ...     9   \n",
       "\n",
       "   date  year  hour  minute  second  risehour  riseminuter  sethour  setminute  \n",
       "0    29  2016    23      55      26         6           13       18         13  \n",
       "1    29  2016    23      50      23         6           13       18         13  \n",
       "2    29  2016    23      45      26         6           13       18         13  \n",
       "3    29  2016    23      40      21         6           13       18         13  \n",
       "4    29  2016    23      35      24         6           13       18         13  \n",
       "\n",
       "[5 rows x 21 columns]"
      ]
     },
     "execution_count": 14,
     "metadata": {},
     "output_type": "execute_result"
    }
   ],
   "source": [
    "df.head()"
   ]
  },
  {
   "cell_type": "code",
   "execution_count": 15,
   "id": "b4abb314",
   "metadata": {},
   "outputs": [
    {
     "data": {
      "text/html": [
       "<div>\n",
       "<style scoped>\n",
       "    .dataframe tbody tr th:only-of-type {\n",
       "        vertical-align: middle;\n",
       "    }\n",
       "\n",
       "    .dataframe tbody tr th {\n",
       "        vertical-align: top;\n",
       "    }\n",
       "\n",
       "    .dataframe thead th {\n",
       "        text-align: right;\n",
       "    }\n",
       "</style>\n",
       "<table border=\"1\" class=\"dataframe\">\n",
       "  <thead>\n",
       "    <tr style=\"text-align: right;\">\n",
       "      <th></th>\n",
       "      <th>UNIXTime</th>\n",
       "      <th>Radiation</th>\n",
       "      <th>Temperature</th>\n",
       "      <th>Pressure</th>\n",
       "      <th>Humidity</th>\n",
       "      <th>WindDirection(Degrees)</th>\n",
       "      <th>Speed</th>\n",
       "      <th>month</th>\n",
       "      <th>date</th>\n",
       "      <th>year</th>\n",
       "      <th>hour</th>\n",
       "      <th>minute</th>\n",
       "      <th>second</th>\n",
       "      <th>risehour</th>\n",
       "      <th>riseminuter</th>\n",
       "      <th>sethour</th>\n",
       "      <th>setminute</th>\n",
       "    </tr>\n",
       "  </thead>\n",
       "  <tbody>\n",
       "    <tr>\n",
       "      <th>0</th>\n",
       "      <td>1475229326</td>\n",
       "      <td>1.21</td>\n",
       "      <td>48</td>\n",
       "      <td>30.46</td>\n",
       "      <td>59</td>\n",
       "      <td>177.39</td>\n",
       "      <td>5.62</td>\n",
       "      <td>9</td>\n",
       "      <td>29</td>\n",
       "      <td>2016</td>\n",
       "      <td>23</td>\n",
       "      <td>55</td>\n",
       "      <td>26</td>\n",
       "      <td>6</td>\n",
       "      <td>13</td>\n",
       "      <td>18</td>\n",
       "      <td>13</td>\n",
       "    </tr>\n",
       "    <tr>\n",
       "      <th>1</th>\n",
       "      <td>1475229023</td>\n",
       "      <td>1.21</td>\n",
       "      <td>48</td>\n",
       "      <td>30.46</td>\n",
       "      <td>58</td>\n",
       "      <td>176.78</td>\n",
       "      <td>3.37</td>\n",
       "      <td>9</td>\n",
       "      <td>29</td>\n",
       "      <td>2016</td>\n",
       "      <td>23</td>\n",
       "      <td>50</td>\n",
       "      <td>23</td>\n",
       "      <td>6</td>\n",
       "      <td>13</td>\n",
       "      <td>18</td>\n",
       "      <td>13</td>\n",
       "    </tr>\n",
       "    <tr>\n",
       "      <th>2</th>\n",
       "      <td>1475228726</td>\n",
       "      <td>1.23</td>\n",
       "      <td>48</td>\n",
       "      <td>30.46</td>\n",
       "      <td>57</td>\n",
       "      <td>158.75</td>\n",
       "      <td>3.37</td>\n",
       "      <td>9</td>\n",
       "      <td>29</td>\n",
       "      <td>2016</td>\n",
       "      <td>23</td>\n",
       "      <td>45</td>\n",
       "      <td>26</td>\n",
       "      <td>6</td>\n",
       "      <td>13</td>\n",
       "      <td>18</td>\n",
       "      <td>13</td>\n",
       "    </tr>\n",
       "    <tr>\n",
       "      <th>3</th>\n",
       "      <td>1475228421</td>\n",
       "      <td>1.21</td>\n",
       "      <td>48</td>\n",
       "      <td>30.46</td>\n",
       "      <td>60</td>\n",
       "      <td>137.71</td>\n",
       "      <td>3.37</td>\n",
       "      <td>9</td>\n",
       "      <td>29</td>\n",
       "      <td>2016</td>\n",
       "      <td>23</td>\n",
       "      <td>40</td>\n",
       "      <td>21</td>\n",
       "      <td>6</td>\n",
       "      <td>13</td>\n",
       "      <td>18</td>\n",
       "      <td>13</td>\n",
       "    </tr>\n",
       "    <tr>\n",
       "      <th>4</th>\n",
       "      <td>1475228124</td>\n",
       "      <td>1.17</td>\n",
       "      <td>48</td>\n",
       "      <td>30.46</td>\n",
       "      <td>62</td>\n",
       "      <td>104.95</td>\n",
       "      <td>5.62</td>\n",
       "      <td>9</td>\n",
       "      <td>29</td>\n",
       "      <td>2016</td>\n",
       "      <td>23</td>\n",
       "      <td>35</td>\n",
       "      <td>24</td>\n",
       "      <td>6</td>\n",
       "      <td>13</td>\n",
       "      <td>18</td>\n",
       "      <td>13</td>\n",
       "    </tr>\n",
       "  </tbody>\n",
       "</table>\n",
       "</div>"
      ],
      "text/plain": [
       "     UNIXTime  Radiation  Temperature  Pressure  Humidity  \\\n",
       "0  1475229326       1.21           48     30.46        59   \n",
       "1  1475229023       1.21           48     30.46        58   \n",
       "2  1475228726       1.23           48     30.46        57   \n",
       "3  1475228421       1.21           48     30.46        60   \n",
       "4  1475228124       1.17           48     30.46        62   \n",
       "\n",
       "   WindDirection(Degrees)  Speed  month  date  year  hour  minute  second  \\\n",
       "0                  177.39   5.62      9    29  2016    23      55      26   \n",
       "1                  176.78   3.37      9    29  2016    23      50      23   \n",
       "2                  158.75   3.37      9    29  2016    23      45      26   \n",
       "3                  137.71   3.37      9    29  2016    23      40      21   \n",
       "4                  104.95   5.62      9    29  2016    23      35      24   \n",
       "\n",
       "   risehour  riseminuter  sethour  setminute  \n",
       "0         6           13       18         13  \n",
       "1         6           13       18         13  \n",
       "2         6           13       18         13  \n",
       "3         6           13       18         13  \n",
       "4         6           13       18         13  "
      ]
     },
     "execution_count": 15,
     "metadata": {},
     "output_type": "execute_result"
    }
   ],
   "source": [
    "df.drop(['Data', 'Time', 'TimeSunRise', 'TimeSunSet'], axis = 1, inplace = True)\n",
    "df.head()"
   ]
  },
  {
   "cell_type": "code",
   "execution_count": 17,
   "id": "33d120dc",
   "metadata": {},
   "outputs": [
    {
     "data": {
      "text/plain": [
       "(array([2016]), array([6]), array([18, 17]))"
      ]
     },
     "execution_count": 17,
     "metadata": {},
     "output_type": "execute_result"
    }
   ],
   "source": [
    "df['year'].unique(), df['risehour'].unique(),df['sethour'].unique()"
   ]
  },
  {
   "cell_type": "code",
   "execution_count": 18,
   "id": "8541cf10",
   "metadata": {},
   "outputs": [
    {
     "data": {
      "text/html": [
       "<div>\n",
       "<style scoped>\n",
       "    .dataframe tbody tr th:only-of-type {\n",
       "        vertical-align: middle;\n",
       "    }\n",
       "\n",
       "    .dataframe tbody tr th {\n",
       "        vertical-align: top;\n",
       "    }\n",
       "\n",
       "    .dataframe thead th {\n",
       "        text-align: right;\n",
       "    }\n",
       "</style>\n",
       "<table border=\"1\" class=\"dataframe\">\n",
       "  <thead>\n",
       "    <tr style=\"text-align: right;\">\n",
       "      <th></th>\n",
       "      <th>UNIXTime</th>\n",
       "      <th>Radiation</th>\n",
       "      <th>Temperature</th>\n",
       "      <th>Pressure</th>\n",
       "      <th>Humidity</th>\n",
       "      <th>WindDirection(Degrees)</th>\n",
       "      <th>Speed</th>\n",
       "      <th>month</th>\n",
       "      <th>date</th>\n",
       "      <th>hour</th>\n",
       "      <th>minute</th>\n",
       "      <th>second</th>\n",
       "      <th>riseminuter</th>\n",
       "      <th>sethour</th>\n",
       "      <th>setminute</th>\n",
       "    </tr>\n",
       "  </thead>\n",
       "  <tbody>\n",
       "    <tr>\n",
       "      <th>0</th>\n",
       "      <td>1475229326</td>\n",
       "      <td>1.21</td>\n",
       "      <td>48</td>\n",
       "      <td>30.46</td>\n",
       "      <td>59</td>\n",
       "      <td>177.39</td>\n",
       "      <td>5.62</td>\n",
       "      <td>9</td>\n",
       "      <td>29</td>\n",
       "      <td>23</td>\n",
       "      <td>55</td>\n",
       "      <td>26</td>\n",
       "      <td>13</td>\n",
       "      <td>18</td>\n",
       "      <td>13</td>\n",
       "    </tr>\n",
       "    <tr>\n",
       "      <th>1</th>\n",
       "      <td>1475229023</td>\n",
       "      <td>1.21</td>\n",
       "      <td>48</td>\n",
       "      <td>30.46</td>\n",
       "      <td>58</td>\n",
       "      <td>176.78</td>\n",
       "      <td>3.37</td>\n",
       "      <td>9</td>\n",
       "      <td>29</td>\n",
       "      <td>23</td>\n",
       "      <td>50</td>\n",
       "      <td>23</td>\n",
       "      <td>13</td>\n",
       "      <td>18</td>\n",
       "      <td>13</td>\n",
       "    </tr>\n",
       "    <tr>\n",
       "      <th>2</th>\n",
       "      <td>1475228726</td>\n",
       "      <td>1.23</td>\n",
       "      <td>48</td>\n",
       "      <td>30.46</td>\n",
       "      <td>57</td>\n",
       "      <td>158.75</td>\n",
       "      <td>3.37</td>\n",
       "      <td>9</td>\n",
       "      <td>29</td>\n",
       "      <td>23</td>\n",
       "      <td>45</td>\n",
       "      <td>26</td>\n",
       "      <td>13</td>\n",
       "      <td>18</td>\n",
       "      <td>13</td>\n",
       "    </tr>\n",
       "    <tr>\n",
       "      <th>3</th>\n",
       "      <td>1475228421</td>\n",
       "      <td>1.21</td>\n",
       "      <td>48</td>\n",
       "      <td>30.46</td>\n",
       "      <td>60</td>\n",
       "      <td>137.71</td>\n",
       "      <td>3.37</td>\n",
       "      <td>9</td>\n",
       "      <td>29</td>\n",
       "      <td>23</td>\n",
       "      <td>40</td>\n",
       "      <td>21</td>\n",
       "      <td>13</td>\n",
       "      <td>18</td>\n",
       "      <td>13</td>\n",
       "    </tr>\n",
       "    <tr>\n",
       "      <th>4</th>\n",
       "      <td>1475228124</td>\n",
       "      <td>1.17</td>\n",
       "      <td>48</td>\n",
       "      <td>30.46</td>\n",
       "      <td>62</td>\n",
       "      <td>104.95</td>\n",
       "      <td>5.62</td>\n",
       "      <td>9</td>\n",
       "      <td>29</td>\n",
       "      <td>23</td>\n",
       "      <td>35</td>\n",
       "      <td>24</td>\n",
       "      <td>13</td>\n",
       "      <td>18</td>\n",
       "      <td>13</td>\n",
       "    </tr>\n",
       "  </tbody>\n",
       "</table>\n",
       "</div>"
      ],
      "text/plain": [
       "     UNIXTime  Radiation  Temperature  Pressure  Humidity  \\\n",
       "0  1475229326       1.21           48     30.46        59   \n",
       "1  1475229023       1.21           48     30.46        58   \n",
       "2  1475228726       1.23           48     30.46        57   \n",
       "3  1475228421       1.21           48     30.46        60   \n",
       "4  1475228124       1.17           48     30.46        62   \n",
       "\n",
       "   WindDirection(Degrees)  Speed  month  date  hour  minute  second  \\\n",
       "0                  177.39   5.62      9    29    23      55      26   \n",
       "1                  176.78   3.37      9    29    23      50      23   \n",
       "2                  158.75   3.37      9    29    23      45      26   \n",
       "3                  137.71   3.37      9    29    23      40      21   \n",
       "4                  104.95   5.62      9    29    23      35      24   \n",
       "\n",
       "   riseminuter  sethour  setminute  \n",
       "0           13       18         13  \n",
       "1           13       18         13  \n",
       "2           13       18         13  \n",
       "3           13       18         13  \n",
       "4           13       18         13  "
      ]
     },
     "execution_count": 18,
     "metadata": {},
     "output_type": "execute_result"
    }
   ],
   "source": [
    "df.drop(['year','risehour'],axis=1,inplace=True)\n",
    "df.head()"
   ]
  },
  {
   "cell_type": "code",
   "execution_count": 19,
   "id": "cb879c0d",
   "metadata": {},
   "outputs": [],
   "source": [
    "y = df['Radiation'].copy()\n",
    "X = df.drop('Radiation', axis=1).copy()"
   ]
  },
  {
   "cell_type": "code",
   "execution_count": 21,
   "id": "684f85b5",
   "metadata": {},
   "outputs": [],
   "source": [
    "from sklearn.preprocessing import StandardScaler\n",
    "scaler = StandardScaler()\n",
    "\n",
    "X = scaler.fit_transform(X)"
   ]
  },
  {
   "cell_type": "code",
   "execution_count": 26,
   "id": "a0498989",
   "metadata": {},
   "outputs": [],
   "source": [
    "from sklearn.model_selection import train_test_split\n",
    "xtrain, xtest, ytrain, ytest = train_test_split(X, y, train_size = 0.85, random_state = 0)\n",
    "xtrain, xval, ytrain, yval = train_test_split(xtrain, ytrain, train_size = 0.8, random_state = 0)"
   ]
  },
  {
   "cell_type": "code",
   "execution_count": 27,
   "id": "6adab8bc",
   "metadata": {},
   "outputs": [
    {
     "data": {
      "text/plain": [
       "((22226, 14), (4903, 14), (5557, 14))"
      ]
     },
     "execution_count": 27,
     "metadata": {},
     "output_type": "execute_result"
    }
   ],
   "source": [
    "xtrain.shape, xtest.shape,xval.shape"
   ]
  },
  {
   "cell_type": "code",
   "execution_count": 30,
   "id": "3d5674bf",
   "metadata": {},
   "outputs": [],
   "source": [
    "import optuna\n",
    "import xgboost as xgb\n",
    "\n",
    "from sklearn.metrics import r2_score"
   ]
  },
  {
   "cell_type": "code",
   "execution_count": 34,
   "id": "a6f361f1",
   "metadata": {},
   "outputs": [],
   "source": [
    "dtrain = xgb.DMatrix(xtrain, label = ytrain)\n",
    "dtest = xgb.DMatrix(xtest, label = ytest)\n",
    "dval = xgb.DMatrix(xval, label = yval)"
   ]
  },
  {
   "cell_type": "code",
   "execution_count": 35,
   "id": "7aceccc0",
   "metadata": {},
   "outputs": [],
   "source": [
    "def get_model_rmse(params):\n",
    "    model = xgb.train(params, dtrain, num_boost_round=100, evals=[(dval, 'eval')], early_stopping_rounds=10, verbose_eval=0)\n",
    "    results = model.eval(dval)\n",
    "    rmse = np.float(re.search(r'[\\d.]+$', results).group(0))\n",
    "    return rmse"
   ]
  },
  {
   "cell_type": "code",
   "execution_count": 36,
   "id": "6da4a0be",
   "metadata": {},
   "outputs": [],
   "source": [
    "def objective(trial):\n",
    "    learning_rate = trial.suggest_loguniform('learning_rate', 0.00001, 10.0)\n",
    "    max_depth = trial.suggest_int('max_depth', 4, 8)\n",
    "    l1_reg = trial.suggest_loguniform('l1_reg', 0.00001, 10.0)\n",
    "    l2_reg = trial.suggest_loguniform('l2_reg', 0.00001, 10.0)\n",
    "    \n",
    "    params = {'learning_rate': learning_rate, 'max_depth': max_depth, 'alpha': l1_reg, 'lambda': l2_reg}\n",
    "    \n",
    "    return get_model_rmse(params)"
   ]
  },
  {
   "cell_type": "code",
   "execution_count": 37,
   "id": "8e9b2674",
   "metadata": {},
   "outputs": [
    {
     "name": "stderr",
     "output_type": "stream",
     "text": [
      "\u001b[32m[I 2022-06-14 20:24:11,910]\u001b[0m A new study created in memory with name: no-name-fc5f4883-2e1b-45b8-8828-ae9508516c35\u001b[0m\n",
      "C:\\Users\\Abhimanyu\\anaconda\\lib\\site-packages\\optuna\\progress_bar.py:47: ExperimentalWarning: Progress bar is experimental (supported from v1.2.0). The interface can change in the future.\n",
      "  self._init_valid()\n"
     ]
    },
    {
     "data": {
      "application/vnd.jupyter.widget-view+json": {
       "model_id": "e47f20b4f6b64719903f3fd979c1f3e1",
       "version_major": 2,
       "version_minor": 0
      },
      "text/plain": [
       "  0%|          | 0/100 [00:00<?, ?it/s]"
      ]
     },
     "metadata": {},
     "output_type": "display_data"
    },
    {
     "name": "stderr",
     "output_type": "stream",
     "text": [
      "C:\\Users\\Abhimanyu\\AppData\\Local\\Temp\\ipykernel_4300\\1559402670.py:4: DeprecationWarning: `np.float` is a deprecated alias for the builtin `float`. To silence this warning, use `float` by itself. Doing this will not modify any behavior and is safe. If you specifically wanted the numpy scalar type, use `np.float64` here.\n",
      "Deprecated in NumPy 1.20; for more details and guidance: https://numpy.org/devdocs/release/1.20.0-notes.html#deprecations\n",
      "  rmse = np.float(re.search(r'[\\d.]+$', results).group(0))\n",
      "C:\\Users\\Abhimanyu\\AppData\\Local\\Temp\\ipykernel_4300\\1559402670.py:4: DeprecationWarning: `np.float` is a deprecated alias for the builtin `float`. To silence this warning, use `float` by itself. Doing this will not modify any behavior and is safe. If you specifically wanted the numpy scalar type, use `np.float64` here.\n",
      "Deprecated in NumPy 1.20; for more details and guidance: https://numpy.org/devdocs/release/1.20.0-notes.html#deprecations\n",
      "  rmse = np.float(re.search(r'[\\d.]+$', results).group(0))\n"
     ]
    },
    {
     "name": "stdout",
     "output_type": "stream",
     "text": [
      "\u001b[32m[I 2022-06-14 20:24:13,423]\u001b[0m Trial 0 finished with value: 345.75094601647794 and parameters: {'learning_rate': 0.0011918985246516618, 'max_depth': 5, 'l1_reg': 2.083014083554672, 'l2_reg': 0.007730281041224867}. Best is trial 0 with value: 345.75094601647794.\u001b[0m\n",
      "\u001b[32m[I 2022-06-14 20:24:13,600]\u001b[0m Trial 1 finished with value: 25712000.143696826 and parameters: {'learning_rate': 3.770873248108703, 'max_depth': 5, 'l1_reg': 0.22245239652041535, 'l2_reg': 0.9920036198187945}. Best is trial 0 with value: 345.75094601647794.\u001b[0m\n"
     ]
    },
    {
     "name": "stderr",
     "output_type": "stream",
     "text": [
      "C:\\Users\\Abhimanyu\\AppData\\Local\\Temp\\ipykernel_4300\\1559402670.py:4: DeprecationWarning: `np.float` is a deprecated alias for the builtin `float`. To silence this warning, use `float` by itself. Doing this will not modify any behavior and is safe. If you specifically wanted the numpy scalar type, use `np.float64` here.\n",
      "Deprecated in NumPy 1.20; for more details and guidance: https://numpy.org/devdocs/release/1.20.0-notes.html#deprecations\n",
      "  rmse = np.float(re.search(r'[\\d.]+$', results).group(0))\n"
     ]
    },
    {
     "name": "stdout",
     "output_type": "stream",
     "text": [
      "\u001b[32m[I 2022-06-14 20:24:15,634]\u001b[0m Trial 2 finished with value: 81.64644648824114 and parameters: {'learning_rate': 0.11368814226422323, 'max_depth': 8, 'l1_reg': 1.0508575239359325e-05, 'l2_reg': 1.1980518969966418}. Best is trial 2 with value: 81.64644648824114.\u001b[0m\n"
     ]
    },
    {
     "name": "stderr",
     "output_type": "stream",
     "text": [
      "C:\\Users\\Abhimanyu\\AppData\\Local\\Temp\\ipykernel_4300\\1559402670.py:4: DeprecationWarning: `np.float` is a deprecated alias for the builtin `float`. To silence this warning, use `float` by itself. Doing this will not modify any behavior and is safe. If you specifically wanted the numpy scalar type, use `np.float64` here.\n",
      "Deprecated in NumPy 1.20; for more details and guidance: https://numpy.org/devdocs/release/1.20.0-notes.html#deprecations\n",
      "  rmse = np.float(re.search(r'[\\d.]+$', results).group(0))\n"
     ]
    },
    {
     "name": "stdout",
     "output_type": "stream",
     "text": [
      "\u001b[32m[I 2022-06-14 20:24:16,824]\u001b[0m Trial 3 finished with value: 345.77203910961447 and parameters: {'learning_rate': 0.0012317457393543469, 'max_depth': 4, 'l1_reg': 0.11461682166130935, 'l2_reg': 0.0036870571791317508}. Best is trial 2 with value: 81.64644648824114.\u001b[0m\n"
     ]
    },
    {
     "name": "stderr",
     "output_type": "stream",
     "text": [
      "C:\\Users\\Abhimanyu\\AppData\\Local\\Temp\\ipykernel_4300\\1559402670.py:4: DeprecationWarning: `np.float` is a deprecated alias for the builtin `float`. To silence this warning, use `float` by itself. Doing this will not modify any behavior and is safe. If you specifically wanted the numpy scalar type, use `np.float64` here.\n",
      "Deprecated in NumPy 1.20; for more details and guidance: https://numpy.org/devdocs/release/1.20.0-notes.html#deprecations\n",
      "  rmse = np.float(re.search(r'[\\d.]+$', results).group(0))\n"
     ]
    },
    {
     "name": "stdout",
     "output_type": "stream",
     "text": [
      "\u001b[32m[I 2022-06-14 20:24:18,009]\u001b[0m Trial 4 finished with value: 346.32200136345 and parameters: {'learning_rate': 0.00121246564235913, 'max_depth': 4, 'l1_reg': 0.0032555343995000503, 'l2_reg': 0.014082947886889475}. Best is trial 2 with value: 81.64644648824114.\u001b[0m\n"
     ]
    },
    {
     "name": "stderr",
     "output_type": "stream",
     "text": [
      "C:\\Users\\Abhimanyu\\AppData\\Local\\Temp\\ipykernel_4300\\1559402670.py:4: DeprecationWarning: `np.float` is a deprecated alias for the builtin `float`. To silence this warning, use `float` by itself. Doing this will not modify any behavior and is safe. If you specifically wanted the numpy scalar type, use `np.float64` here.\n",
      "Deprecated in NumPy 1.20; for more details and guidance: https://numpy.org/devdocs/release/1.20.0-notes.html#deprecations\n",
      "  rmse = np.float(re.search(r'[\\d.]+$', results).group(0))\n"
     ]
    },
    {
     "name": "stdout",
     "output_type": "stream",
     "text": [
      "\u001b[32m[I 2022-06-14 20:24:19,543]\u001b[0m Trial 5 finished with value: 90.01592071710945 and parameters: {'learning_rate': 0.08090632438346426, 'max_depth': 5, 'l1_reg': 0.0005373046304368772, 'l2_reg': 0.033459678213998}. Best is trial 2 with value: 81.64644648824114.\u001b[0m\n"
     ]
    },
    {
     "name": "stderr",
     "output_type": "stream",
     "text": [
      "C:\\Users\\Abhimanyu\\AppData\\Local\\Temp\\ipykernel_4300\\1559402670.py:4: DeprecationWarning: `np.float` is a deprecated alias for the builtin `float`. To silence this warning, use `float` by itself. Doing this will not modify any behavior and is safe. If you specifically wanted the numpy scalar type, use `np.float64` here.\n",
      "Deprecated in NumPy 1.20; for more details and guidance: https://numpy.org/devdocs/release/1.20.0-notes.html#deprecations\n",
      "  rmse = np.float(re.search(r'[\\d.]+$', results).group(0))\n"
     ]
    },
    {
     "name": "stdout",
     "output_type": "stream",
     "text": [
      "\u001b[32m[I 2022-06-14 20:24:19,785]\u001b[0m Trial 6 finished with value: 14493527.603974182 and parameters: {'learning_rate': 3.6189877898978122, 'max_depth': 7, 'l1_reg': 1.2543474411856017, 'l2_reg': 0.0006735015475537924}. Best is trial 2 with value: 81.64644648824114.\u001b[0m\n"
     ]
    },
    {
     "name": "stderr",
     "output_type": "stream",
     "text": [
      "C:\\Users\\Abhimanyu\\AppData\\Local\\Temp\\ipykernel_4300\\1559402670.py:4: DeprecationWarning: `np.float` is a deprecated alias for the builtin `float`. To silence this warning, use `float` by itself. Doing this will not modify any behavior and is safe. If you specifically wanted the numpy scalar type, use `np.float64` here.\n",
      "Deprecated in NumPy 1.20; for more details and guidance: https://numpy.org/devdocs/release/1.20.0-notes.html#deprecations\n",
      "  rmse = np.float(re.search(r'[\\d.]+$', results).group(0))\n"
     ]
    },
    {
     "name": "stdout",
     "output_type": "stream",
     "text": [
      "\u001b[32m[I 2022-06-14 20:24:20,991]\u001b[0m Trial 7 finished with value: 108.64165337536427 and parameters: {'learning_rate': 0.04199575888335063, 'max_depth': 4, 'l1_reg': 0.03195909582049057, 'l2_reg': 0.012815026955303467}. Best is trial 2 with value: 81.64644648824114.\u001b[0m\n"
     ]
    },
    {
     "name": "stderr",
     "output_type": "stream",
     "text": [
      "C:\\Users\\Abhimanyu\\AppData\\Local\\Temp\\ipykernel_4300\\1559402670.py:4: DeprecationWarning: `np.float` is a deprecated alias for the builtin `float`. To silence this warning, use `float` by itself. Doing this will not modify any behavior and is safe. If you specifically wanted the numpy scalar type, use `np.float64` here.\n",
      "Deprecated in NumPy 1.20; for more details and guidance: https://numpy.org/devdocs/release/1.20.0-notes.html#deprecations\n",
      "  rmse = np.float(re.search(r'[\\d.]+$', results).group(0))\n"
     ]
    },
    {
     "name": "stdout",
     "output_type": "stream",
     "text": [
      "\u001b[32m[I 2022-06-14 20:24:22,383]\u001b[0m Trial 8 finished with value: 85.8803846726525 and parameters: {'learning_rate': 0.41958335464856855, 'max_depth': 5, 'l1_reg': 0.00162558470511345, 'l2_reg': 4.284176287894437}. Best is trial 2 with value: 81.64644648824114.\u001b[0m\n"
     ]
    },
    {
     "name": "stderr",
     "output_type": "stream",
     "text": [
      "C:\\Users\\Abhimanyu\\AppData\\Local\\Temp\\ipykernel_4300\\1559402670.py:4: DeprecationWarning: `np.float` is a deprecated alias for the builtin `float`. To silence this warning, use `float` by itself. Doing this will not modify any behavior and is safe. If you specifically wanted the numpy scalar type, use `np.float64` here.\n",
      "Deprecated in NumPy 1.20; for more details and guidance: https://numpy.org/devdocs/release/1.20.0-notes.html#deprecations\n",
      "  rmse = np.float(re.search(r'[\\d.]+$', results).group(0))\n"
     ]
    },
    {
     "name": "stdout",
     "output_type": "stream",
     "text": [
      "\u001b[32m[I 2022-06-14 20:24:23,052]\u001b[0m Trial 9 finished with value: 86.26108385201734 and parameters: {'learning_rate': 0.4366526659046945, 'max_depth': 8, 'l1_reg': 2.9838714231545245, 'l2_reg': 0.3091324906135116}. Best is trial 2 with value: 81.64644648824114.\u001b[0m\n"
     ]
    },
    {
     "name": "stderr",
     "output_type": "stream",
     "text": [
      "C:\\Users\\Abhimanyu\\AppData\\Local\\Temp\\ipykernel_4300\\1559402670.py:4: DeprecationWarning: `np.float` is a deprecated alias for the builtin `float`. To silence this warning, use `float` by itself. Doing this will not modify any behavior and is safe. If you specifically wanted the numpy scalar type, use `np.float64` here.\n",
      "Deprecated in NumPy 1.20; for more details and guidance: https://numpy.org/devdocs/release/1.20.0-notes.html#deprecations\n",
      "  rmse = np.float(re.search(r'[\\d.]+$', results).group(0))\n"
     ]
    },
    {
     "name": "stdout",
     "output_type": "stream",
     "text": [
      "\u001b[32m[I 2022-06-14 20:24:25,738]\u001b[0m Trial 10 finished with value: 382.3700763117754 and parameters: {'learning_rate': 2.8694865616539293e-05, 'max_depth': 8, 'l1_reg': 2.180777416425054e-05, 'l2_reg': 1.7930132451648556e-05}. Best is trial 2 with value: 81.64644648824114.\u001b[0m\n"
     ]
    },
    {
     "name": "stderr",
     "output_type": "stream",
     "text": [
      "C:\\Users\\Abhimanyu\\AppData\\Local\\Temp\\ipykernel_4300\\1559402670.py:4: DeprecationWarning: `np.float` is a deprecated alias for the builtin `float`. To silence this warning, use `float` by itself. Doing this will not modify any behavior and is safe. If you specifically wanted the numpy scalar type, use `np.float64` here.\n",
      "Deprecated in NumPy 1.20; for more details and guidance: https://numpy.org/devdocs/release/1.20.0-notes.html#deprecations\n",
      "  rmse = np.float(re.search(r'[\\d.]+$', results).group(0))\n"
     ]
    },
    {
     "name": "stdout",
     "output_type": "stream",
     "text": [
      "\u001b[32m[I 2022-06-14 20:24:27,250]\u001b[0m Trial 11 finished with value: 84.38491789719613 and parameters: {'learning_rate': 0.3486056446852841, 'max_depth': 6, 'l1_reg': 1.1724425105277722e-05, 'l2_reg': 9.53943425251868}. Best is trial 2 with value: 81.64644648824114.\u001b[0m\n"
     ]
    },
    {
     "name": "stderr",
     "output_type": "stream",
     "text": [
      "C:\\Users\\Abhimanyu\\AppData\\Local\\Temp\\ipykernel_4300\\1559402670.py:4: DeprecationWarning: `np.float` is a deprecated alias for the builtin `float`. To silence this warning, use `float` by itself. Doing this will not modify any behavior and is safe. If you specifically wanted the numpy scalar type, use `np.float64` here.\n",
      "Deprecated in NumPy 1.20; for more details and guidance: https://numpy.org/devdocs/release/1.20.0-notes.html#deprecations\n",
      "  rmse = np.float(re.search(r'[\\d.]+$', results).group(0))\n"
     ]
    },
    {
     "name": "stdout",
     "output_type": "stream",
     "text": [
      "\u001b[32m[I 2022-06-14 20:24:29,540]\u001b[0m Trial 12 finished with value: 156.55446279322038 and parameters: {'learning_rate': 0.012039648028260007, 'max_depth': 7, 'l1_reg': 1.6892039830682013e-05, 'l2_reg': 8.220804505967328}. Best is trial 2 with value: 81.64644648824114.\u001b[0m\n"
     ]
    },
    {
     "name": "stderr",
     "output_type": "stream",
     "text": [
      "C:\\Users\\Abhimanyu\\AppData\\Local\\Temp\\ipykernel_4300\\1559402670.py:4: DeprecationWarning: `np.float` is a deprecated alias for the builtin `float`. To silence this warning, use `float` by itself. Doing this will not modify any behavior and is safe. If you specifically wanted the numpy scalar type, use `np.float64` here.\n",
      "Deprecated in NumPy 1.20; for more details and guidance: https://numpy.org/devdocs/release/1.20.0-notes.html#deprecations\n",
      "  rmse = np.float(re.search(r'[\\d.]+$', results).group(0))\n"
     ]
    },
    {
     "name": "stdout",
     "output_type": "stream",
     "text": [
      "\u001b[32m[I 2022-06-14 20:24:30,700]\u001b[0m Trial 13 finished with value: 86.23878795986245 and parameters: {'learning_rate': 0.3851726582765912, 'max_depth': 6, 'l1_reg': 0.00013603907232197219, 'l2_reg': 0.293202146466479}. Best is trial 2 with value: 81.64644648824114.\u001b[0m\n"
     ]
    },
    {
     "name": "stderr",
     "output_type": "stream",
     "text": [
      "C:\\Users\\Abhimanyu\\AppData\\Local\\Temp\\ipykernel_4300\\1559402670.py:4: DeprecationWarning: `np.float` is a deprecated alias for the builtin `float`. To silence this warning, use `float` by itself. Doing this will not modify any behavior and is safe. If you specifically wanted the numpy scalar type, use `np.float64` here.\n",
      "Deprecated in NumPy 1.20; for more details and guidance: https://numpy.org/devdocs/release/1.20.0-notes.html#deprecations\n",
      "  rmse = np.float(re.search(r'[\\d.]+$', results).group(0))\n"
     ]
    },
    {
     "name": "stdout",
     "output_type": "stream",
     "text": [
      "\u001b[32m[I 2022-06-14 20:24:31,096]\u001b[0m Trial 14 finished with value: 2327835678211.6177 and parameters: {'learning_rate': 8.832994393584043, 'max_depth': 7, 'l1_reg': 9.20953799668763e-05, 'l2_reg': 1.2145890537108903}. Best is trial 2 with value: 81.64644648824114.\u001b[0m\n"
     ]
    },
    {
     "name": "stderr",
     "output_type": "stream",
     "text": [
      "C:\\Users\\Abhimanyu\\AppData\\Local\\Temp\\ipykernel_4300\\1559402670.py:4: DeprecationWarning: `np.float` is a deprecated alias for the builtin `float`. To silence this warning, use `float` by itself. Doing this will not modify any behavior and is safe. If you specifically wanted the numpy scalar type, use `np.float64` here.\n",
      "Deprecated in NumPy 1.20; for more details and guidance: https://numpy.org/devdocs/release/1.20.0-notes.html#deprecations\n",
      "  rmse = np.float(re.search(r'[\\d.]+$', results).group(0))\n"
     ]
    },
    {
     "name": "stdout",
     "output_type": "stream",
     "text": [
      "\u001b[32m[I 2022-06-14 20:24:38,174]\u001b[0m Trial 15 finished with value: 83.83653397678742 and parameters: {'learning_rate': 0.09757604407871989, 'max_depth': 6, 'l1_reg': 1.3330748756893948e-05, 'l2_reg': 0.1003659432816529}. Best is trial 2 with value: 81.64644648824114.\u001b[0m\n"
     ]
    },
    {
     "name": "stderr",
     "output_type": "stream",
     "text": [
      "C:\\Users\\Abhimanyu\\AppData\\Local\\Temp\\ipykernel_4300\\1559402670.py:4: DeprecationWarning: `np.float` is a deprecated alias for the builtin `float`. To silence this warning, use `float` by itself. Doing this will not modify any behavior and is safe. If you specifically wanted the numpy scalar type, use `np.float64` here.\n",
      "Deprecated in NumPy 1.20; for more details and guidance: https://numpy.org/devdocs/release/1.20.0-notes.html#deprecations\n",
      "  rmse = np.float(re.search(r'[\\d.]+$', results).group(0))\n"
     ]
    },
    {
     "name": "stdout",
     "output_type": "stream",
     "text": [
      "\u001b[32m[I 2022-06-14 20:24:42,715]\u001b[0m Trial 16 finished with value: 83.87973778098372 and parameters: {'learning_rate': 0.05877997900520706, 'max_depth': 7, 'l1_reg': 0.00012810843429996954, 'l2_reg': 0.10651189492130066}. Best is trial 2 with value: 81.64644648824114.\u001b[0m\n"
     ]
    },
    {
     "name": "stderr",
     "output_type": "stream",
     "text": [
      "C:\\Users\\Abhimanyu\\AppData\\Local\\Temp\\ipykernel_4300\\1559402670.py:4: DeprecationWarning: `np.float` is a deprecated alias for the builtin `float`. To silence this warning, use `float` by itself. Doing this will not modify any behavior and is safe. If you specifically wanted the numpy scalar type, use `np.float64` here.\n",
      "Deprecated in NumPy 1.20; for more details and guidance: https://numpy.org/devdocs/release/1.20.0-notes.html#deprecations\n",
      "  rmse = np.float(re.search(r'[\\d.]+$', results).group(0))\n"
     ]
    },
    {
     "name": "stdout",
     "output_type": "stream",
     "text": [
      "\u001b[32m[I 2022-06-14 20:24:45,115]\u001b[0m Trial 17 finished with value: 218.93120598953664 and parameters: {'learning_rate': 0.006514225426664555, 'max_depth': 8, 'l1_reg': 0.00042924429902550267, 'l2_reg': 0.08969017085883209}. Best is trial 2 with value: 81.64644648824114.\u001b[0m\n"
     ]
    },
    {
     "name": "stderr",
     "output_type": "stream",
     "text": [
      "C:\\Users\\Abhimanyu\\AppData\\Local\\Temp\\ipykernel_4300\\1559402670.py:4: DeprecationWarning: `np.float` is a deprecated alias for the builtin `float`. To silence this warning, use `float` by itself. Doing this will not modify any behavior and is safe. If you specifically wanted the numpy scalar type, use `np.float64` here.\n",
      "Deprecated in NumPy 1.20; for more details and guidance: https://numpy.org/devdocs/release/1.20.0-notes.html#deprecations\n",
      "  rmse = np.float(re.search(r'[\\d.]+$', results).group(0))\n"
     ]
    },
    {
     "name": "stdout",
     "output_type": "stream",
     "text": [
      "\u001b[32m[I 2022-06-14 20:24:46,928]\u001b[0m Trial 18 finished with value: 381.43725720162337 and parameters: {'learning_rate': 5.682855013427432e-05, 'max_depth': 6, 'l1_reg': 4.2099939338371576e-05, 'l2_reg': 0.000991799040770911}. Best is trial 2 with value: 81.64644648824114.\u001b[0m\n"
     ]
    },
    {
     "name": "stderr",
     "output_type": "stream",
     "text": [
      "C:\\Users\\Abhimanyu\\AppData\\Local\\Temp\\ipykernel_4300\\1559402670.py:4: DeprecationWarning: `np.float` is a deprecated alias for the builtin `float`. To silence this warning, use `float` by itself. Doing this will not modify any behavior and is safe. If you specifically wanted the numpy scalar type, use `np.float64` here.\n",
      "Deprecated in NumPy 1.20; for more details and guidance: https://numpy.org/devdocs/release/1.20.0-notes.html#deprecations\n",
      "  rmse = np.float(re.search(r'[\\d.]+$', results).group(0))\n"
     ]
    },
    {
     "name": "stdout",
     "output_type": "stream",
     "text": [
      "\u001b[32m[I 2022-06-14 20:24:49,317]\u001b[0m Trial 19 finished with value: 204.80196954349177 and parameters: {'learning_rate': 0.007774881755071693, 'max_depth': 6, 'l1_reg': 0.004409235994587588, 'l2_reg': 1.469719564365688}. Best is trial 2 with value: 81.64644648824114.\u001b[0m\n"
     ]
    },
    {
     "name": "stderr",
     "output_type": "stream",
     "text": [
      "C:\\Users\\Abhimanyu\\AppData\\Local\\Temp\\ipykernel_4300\\1559402670.py:4: DeprecationWarning: `np.float` is a deprecated alias for the builtin `float`. To silence this warning, use `float` by itself. Doing this will not modify any behavior and is safe. If you specifically wanted the numpy scalar type, use `np.float64` here.\n",
      "Deprecated in NumPy 1.20; for more details and guidance: https://numpy.org/devdocs/release/1.20.0-notes.html#deprecations\n",
      "  rmse = np.float(re.search(r'[\\d.]+$', results).group(0))\n"
     ]
    },
    {
     "name": "stdout",
     "output_type": "stream",
     "text": [
      "\u001b[32m[I 2022-06-14 20:24:51,972]\u001b[0m Trial 20 finished with value: 81.82221195589273 and parameters: {'learning_rate': 0.11307852574408912, 'max_depth': 7, 'l1_reg': 0.0005447510267017299, 'l2_reg': 3.90527787237365e-05}. Best is trial 2 with value: 81.64644648824114.\u001b[0m\n"
     ]
    },
    {
     "name": "stderr",
     "output_type": "stream",
     "text": [
      "C:\\Users\\Abhimanyu\\AppData\\Local\\Temp\\ipykernel_4300\\1559402670.py:4: DeprecationWarning: `np.float` is a deprecated alias for the builtin `float`. To silence this warning, use `float` by itself. Doing this will not modify any behavior and is safe. If you specifically wanted the numpy scalar type, use `np.float64` here.\n",
      "Deprecated in NumPy 1.20; for more details and guidance: https://numpy.org/devdocs/release/1.20.0-notes.html#deprecations\n",
      "  rmse = np.float(re.search(r'[\\d.]+$', results).group(0))\n"
     ]
    },
    {
     "name": "stdout",
     "output_type": "stream",
     "text": [
      "\u001b[32m[I 2022-06-14 20:24:54,203]\u001b[0m Trial 21 finished with value: 82.3735077259947 and parameters: {'learning_rate': 0.13124776771389035, 'max_depth': 8, 'l1_reg': 0.0005330697708880124, 'l2_reg': 1.68761665361876e-05}. Best is trial 2 with value: 81.64644648824114.\u001b[0m\n"
     ]
    },
    {
     "name": "stderr",
     "output_type": "stream",
     "text": [
      "C:\\Users\\Abhimanyu\\AppData\\Local\\Temp\\ipykernel_4300\\1559402670.py:4: DeprecationWarning: `np.float` is a deprecated alias for the builtin `float`. To silence this warning, use `float` by itself. Doing this will not modify any behavior and is safe. If you specifically wanted the numpy scalar type, use `np.float64` here.\n",
      "Deprecated in NumPy 1.20; for more details and guidance: https://numpy.org/devdocs/release/1.20.0-notes.html#deprecations\n",
      "  rmse = np.float(re.search(r'[\\d.]+$', results).group(0))\n"
     ]
    },
    {
     "name": "stdout",
     "output_type": "stream",
     "text": [
      "\u001b[32m[I 2022-06-14 20:24:54,659]\u001b[0m Trial 22 finished with value: 120.52643114402953 and parameters: {'learning_rate': 1.3350538129902412, 'max_depth': 8, 'l1_reg': 0.0006435969729412061, 'l2_reg': 1.4118168636922317e-05}. Best is trial 2 with value: 81.64644648824114.\u001b[0m\n"
     ]
    },
    {
     "name": "stderr",
     "output_type": "stream",
     "text": [
      "C:\\Users\\Abhimanyu\\AppData\\Local\\Temp\\ipykernel_4300\\1559402670.py:4: DeprecationWarning: `np.float` is a deprecated alias for the builtin `float`. To silence this warning, use `float` by itself. Doing this will not modify any behavior and is safe. If you specifically wanted the numpy scalar type, use `np.float64` here.\n",
      "Deprecated in NumPy 1.20; for more details and guidance: https://numpy.org/devdocs/release/1.20.0-notes.html#deprecations\n",
      "  rmse = np.float(re.search(r'[\\d.]+$', results).group(0))\n"
     ]
    },
    {
     "name": "stdout",
     "output_type": "stream",
     "text": [
      "\u001b[32m[I 2022-06-14 20:24:57,717]\u001b[0m Trial 23 finished with value: 99.17397014102383 and parameters: {'learning_rate': 0.021805691171768133, 'max_depth': 8, 'l1_reg': 0.0075950462943123855, 'l2_reg': 7.982930053378648e-05}. Best is trial 2 with value: 81.64644648824114.\u001b[0m\n"
     ]
    },
    {
     "name": "stderr",
     "output_type": "stream",
     "text": [
      "C:\\Users\\Abhimanyu\\AppData\\Local\\Temp\\ipykernel_4300\\1559402670.py:4: DeprecationWarning: `np.float` is a deprecated alias for the builtin `float`. To silence this warning, use `float` by itself. Doing this will not modify any behavior and is safe. If you specifically wanted the numpy scalar type, use `np.float64` here.\n",
      "Deprecated in NumPy 1.20; for more details and guidance: https://numpy.org/devdocs/release/1.20.0-notes.html#deprecations\n",
      "  rmse = np.float(re.search(r'[\\d.]+$', results).group(0))\n"
     ]
    },
    {
     "name": "stdout",
     "output_type": "stream",
     "text": [
      "\u001b[32m[I 2022-06-14 20:24:59,665]\u001b[0m Trial 24 finished with value: 82.2347836583494 and parameters: {'learning_rate': 0.1929115219378684, 'max_depth': 7, 'l1_reg': 0.001234025158603896, 'l2_reg': 8.785398250021941e-05}. Best is trial 2 with value: 81.64644648824114.\u001b[0m\n"
     ]
    },
    {
     "name": "stderr",
     "output_type": "stream",
     "text": [
      "C:\\Users\\Abhimanyu\\AppData\\Local\\Temp\\ipykernel_4300\\1559402670.py:4: DeprecationWarning: `np.float` is a deprecated alias for the builtin `float`. To silence this warning, use `float` by itself. Doing this will not modify any behavior and is safe. If you specifically wanted the numpy scalar type, use `np.float64` here.\n",
      "Deprecated in NumPy 1.20; for more details and guidance: https://numpy.org/devdocs/release/1.20.0-notes.html#deprecations\n",
      "  rmse = np.float(re.search(r'[\\d.]+$', results).group(0))\n"
     ]
    },
    {
     "name": "stdout",
     "output_type": "stream",
     "text": [
      "\u001b[32m[I 2022-06-14 20:25:00,110]\u001b[0m Trial 25 finished with value: 113.48011806356074 and parameters: {'learning_rate': 1.2157768329505696, 'max_depth': 7, 'l1_reg': 0.0014133448940733947, 'l2_reg': 0.00010325354567019053}. Best is trial 2 with value: 81.64644648824114.\u001b[0m\n"
     ]
    },
    {
     "name": "stderr",
     "output_type": "stream",
     "text": [
      "C:\\Users\\Abhimanyu\\AppData\\Local\\Temp\\ipykernel_4300\\1559402670.py:4: DeprecationWarning: `np.float` is a deprecated alias for the builtin `float`. To silence this warning, use `float` by itself. Doing this will not modify any behavior and is safe. If you specifically wanted the numpy scalar type, use `np.float64` here.\n",
      "Deprecated in NumPy 1.20; for more details and guidance: https://numpy.org/devdocs/release/1.20.0-notes.html#deprecations\n",
      "  rmse = np.float(re.search(r'[\\d.]+$', results).group(0))\n"
     ]
    },
    {
     "name": "stdout",
     "output_type": "stream",
     "text": [
      "\u001b[32m[I 2022-06-14 20:25:02,734]\u001b[0m Trial 26 finished with value: 287.2279293069538 and parameters: {'learning_rate': 0.003274809630106239, 'max_depth': 7, 'l1_reg': 0.012603024617079805, 'l2_reg': 8.776205223580873e-05}. Best is trial 2 with value: 81.64644648824114.\u001b[0m\n"
     ]
    },
    {
     "name": "stderr",
     "output_type": "stream",
     "text": [
      "C:\\Users\\Abhimanyu\\AppData\\Local\\Temp\\ipykernel_4300\\1559402670.py:4: DeprecationWarning: `np.float` is a deprecated alias for the builtin `float`. To silence this warning, use `float` by itself. Doing this will not modify any behavior and is safe. If you specifically wanted the numpy scalar type, use `np.float64` here.\n",
      "Deprecated in NumPy 1.20; for more details and guidance: https://numpy.org/devdocs/release/1.20.0-notes.html#deprecations\n",
      "  rmse = np.float(re.search(r'[\\d.]+$', results).group(0))\n"
     ]
    },
    {
     "name": "stdout",
     "output_type": "stream",
     "text": [
      "\u001b[32m[I 2022-06-14 20:25:04,826]\u001b[0m Trial 27 finished with value: 82.33562460518061 and parameters: {'learning_rate': 0.18849597235985213, 'max_depth': 7, 'l1_reg': 0.03087886234268309, 'l2_reg': 0.0004148995188916745}. Best is trial 2 with value: 81.64644648824114.\u001b[0m\n"
     ]
    },
    {
     "name": "stderr",
     "output_type": "stream",
     "text": [
      "C:\\Users\\Abhimanyu\\AppData\\Local\\Temp\\ipykernel_4300\\1559402670.py:4: DeprecationWarning: `np.float` is a deprecated alias for the builtin `float`. To silence this warning, use `float` by itself. Doing this will not modify any behavior and is safe. If you specifically wanted the numpy scalar type, use `np.float64` here.\n",
      "Deprecated in NumPy 1.20; for more details and guidance: https://numpy.org/devdocs/release/1.20.0-notes.html#deprecations\n",
      "  rmse = np.float(re.search(r'[\\d.]+$', results).group(0))\n"
     ]
    },
    {
     "name": "stdout",
     "output_type": "stream",
     "text": [
      "\u001b[32m[I 2022-06-14 20:25:07,615]\u001b[0m Trial 28 finished with value: 99.59289578496309 and parameters: {'learning_rate': 0.0235315851919221, 'max_depth': 7, 'l1_reg': 0.00021292569394989273, 'l2_reg': 0.0015760595224003709}. Best is trial 2 with value: 81.64644648824114.\u001b[0m\n"
     ]
    },
    {
     "name": "stderr",
     "output_type": "stream",
     "text": [
      "C:\\Users\\Abhimanyu\\AppData\\Local\\Temp\\ipykernel_4300\\1559402670.py:4: DeprecationWarning: `np.float` is a deprecated alias for the builtin `float`. To silence this warning, use `float` by itself. Doing this will not modify any behavior and is safe. If you specifically wanted the numpy scalar type, use `np.float64` here.\n",
      "Deprecated in NumPy 1.20; for more details and guidance: https://numpy.org/devdocs/release/1.20.0-notes.html#deprecations\n",
      "  rmse = np.float(re.search(r'[\\d.]+$', results).group(0))\n"
     ]
    },
    {
     "name": "stdout",
     "output_type": "stream",
     "text": [
      "\u001b[32m[I 2022-06-14 20:25:10,522]\u001b[0m Trial 29 finished with value: 376.65711281320415 and parameters: {'learning_rate': 0.00019352186516668134, 'max_depth': 8, 'l1_reg': 9.487601214145883, 'l2_reg': 0.00028752654576978264}. Best is trial 2 with value: 81.64644648824114.\u001b[0m\n"
     ]
    },
    {
     "name": "stderr",
     "output_type": "stream",
     "text": [
      "C:\\Users\\Abhimanyu\\AppData\\Local\\Temp\\ipykernel_4300\\1559402670.py:4: DeprecationWarning: `np.float` is a deprecated alias for the builtin `float`. To silence this warning, use `float` by itself. Doing this will not modify any behavior and is safe. If you specifically wanted the numpy scalar type, use `np.float64` here.\n",
      "Deprecated in NumPy 1.20; for more details and guidance: https://numpy.org/devdocs/release/1.20.0-notes.html#deprecations\n",
      "  rmse = np.float(re.search(r'[\\d.]+$', results).group(0))\n"
     ]
    },
    {
     "name": "stdout",
     "output_type": "stream",
     "text": [
      "\u001b[32m[I 2022-06-14 20:25:10,933]\u001b[0m Trial 30 finished with value: 123.8093558894508 and parameters: {'learning_rate': 1.4211010649826685, 'max_depth': 7, 'l1_reg': 6.546656274739107e-05, 'l2_reg': 4.6761495483670276e-05}. Best is trial 2 with value: 81.64644648824114.\u001b[0m\n"
     ]
    },
    {
     "name": "stderr",
     "output_type": "stream",
     "text": [
      "C:\\Users\\Abhimanyu\\AppData\\Local\\Temp\\ipykernel_4300\\1559402670.py:4: DeprecationWarning: `np.float` is a deprecated alias for the builtin `float`. To silence this warning, use `float` by itself. Doing this will not modify any behavior and is safe. If you specifically wanted the numpy scalar type, use `np.float64` here.\n",
      "Deprecated in NumPy 1.20; for more details and guidance: https://numpy.org/devdocs/release/1.20.0-notes.html#deprecations\n",
      "  rmse = np.float(re.search(r'[\\d.]+$', results).group(0))\n"
     ]
    },
    {
     "name": "stdout",
     "output_type": "stream",
     "text": [
      "\u001b[32m[I 2022-06-14 20:25:12,602]\u001b[0m Trial 31 finished with value: 83.67234383435414 and parameters: {'learning_rate': 0.18154903644028797, 'max_depth': 7, 'l1_reg': 0.02368319648873114, 'l2_reg': 0.00022371721919083891}. Best is trial 2 with value: 81.64644648824114.\u001b[0m\n"
     ]
    },
    {
     "name": "stderr",
     "output_type": "stream",
     "text": [
      "C:\\Users\\Abhimanyu\\AppData\\Local\\Temp\\ipykernel_4300\\1559402670.py:4: DeprecationWarning: `np.float` is a deprecated alias for the builtin `float`. To silence this warning, use `float` by itself. Doing this will not modify any behavior and is safe. If you specifically wanted the numpy scalar type, use `np.float64` here.\n",
      "Deprecated in NumPy 1.20; for more details and guidance: https://numpy.org/devdocs/release/1.20.0-notes.html#deprecations\n",
      "  rmse = np.float(re.search(r'[\\d.]+$', results).group(0))\n"
     ]
    },
    {
     "name": "stdout",
     "output_type": "stream",
     "text": [
      "\u001b[32m[I 2022-06-14 20:25:14,156]\u001b[0m Trial 32 finished with value: 83.81549127263484 and parameters: {'learning_rate': 0.24616238055716722, 'max_depth': 6, 'l1_reg': 0.16426153937636329, 'l2_reg': 0.00028406911658344924}. Best is trial 2 with value: 81.64644648824114.\u001b[0m\n"
     ]
    },
    {
     "name": "stderr",
     "output_type": "stream",
     "text": [
      "C:\\Users\\Abhimanyu\\AppData\\Local\\Temp\\ipykernel_4300\\1559402670.py:4: DeprecationWarning: `np.float` is a deprecated alias for the builtin `float`. To silence this warning, use `float` by itself. Doing this will not modify any behavior and is safe. If you specifically wanted the numpy scalar type, use `np.float64` here.\n",
      "Deprecated in NumPy 1.20; for more details and guidance: https://numpy.org/devdocs/release/1.20.0-notes.html#deprecations\n",
      "  rmse = np.float(re.search(r'[\\d.]+$', results).group(0))\n"
     ]
    },
    {
     "name": "stdout",
     "output_type": "stream",
     "text": [
      "\u001b[32m[I 2022-06-14 20:25:14,700]\u001b[0m Trial 33 finished with value: 98.52609253510275 and parameters: {'learning_rate': 0.8476413580112698, 'max_depth': 7, 'l1_reg': 0.052371288647112206, 'l2_reg': 5.095348876579811e-05}. Best is trial 2 with value: 81.64644648824114.\u001b[0m\n"
     ]
    },
    {
     "name": "stderr",
     "output_type": "stream",
     "text": [
      "C:\\Users\\Abhimanyu\\AppData\\Local\\Temp\\ipykernel_4300\\1559402670.py:4: DeprecationWarning: `np.float` is a deprecated alias for the builtin `float`. To silence this warning, use `float` by itself. Doing this will not modify any behavior and is safe. If you specifically wanted the numpy scalar type, use `np.float64` here.\n",
      "Deprecated in NumPy 1.20; for more details and guidance: https://numpy.org/devdocs/release/1.20.0-notes.html#deprecations\n",
      "  rmse = np.float(re.search(r'[\\d.]+$', results).group(0))\n"
     ]
    },
    {
     "name": "stdout",
     "output_type": "stream",
     "text": [
      "\u001b[32m[I 2022-06-14 20:25:18,050]\u001b[0m Trial 34 finished with value: 86.93824789692376 and parameters: {'learning_rate': 0.032308703784677595, 'max_depth': 8, 'l1_reg': 0.5469141150293703, 'l2_reg': 0.002879394262898534}. Best is trial 2 with value: 81.64644648824114.\u001b[0m\n"
     ]
    },
    {
     "name": "stderr",
     "output_type": "stream",
     "text": [
      "C:\\Users\\Abhimanyu\\AppData\\Local\\Temp\\ipykernel_4300\\1559402670.py:4: DeprecationWarning: `np.float` is a deprecated alias for the builtin `float`. To silence this warning, use `float` by itself. Doing this will not modify any behavior and is safe. If you specifically wanted the numpy scalar type, use `np.float64` here.\n",
      "Deprecated in NumPy 1.20; for more details and guidance: https://numpy.org/devdocs/release/1.20.0-notes.html#deprecations\n",
      "  rmse = np.float(re.search(r'[\\d.]+$', results).group(0))\n"
     ]
    },
    {
     "name": "stdout",
     "output_type": "stream",
     "text": [
      "\u001b[32m[I 2022-06-14 20:25:18,429]\u001b[0m Trial 35 finished with value: 2215046.302663294 and parameters: {'learning_rate': 3.207908382329458, 'max_depth': 7, 'l1_reg': 0.06551463439399256, 'l2_reg': 0.00468052640712276}. Best is trial 2 with value: 81.64644648824114.\u001b[0m\n"
     ]
    },
    {
     "name": "stderr",
     "output_type": "stream",
     "text": [
      "C:\\Users\\Abhimanyu\\AppData\\Local\\Temp\\ipykernel_4300\\1559402670.py:4: DeprecationWarning: `np.float` is a deprecated alias for the builtin `float`. To silence this warning, use `float` by itself. Doing this will not modify any behavior and is safe. If you specifically wanted the numpy scalar type, use `np.float64` here.\n",
      "Deprecated in NumPy 1.20; for more details and guidance: https://numpy.org/devdocs/release/1.20.0-notes.html#deprecations\n",
      "  rmse = np.float(re.search(r'[\\d.]+$', results).group(0))\n"
     ]
    },
    {
     "name": "stdout",
     "output_type": "stream",
     "text": [
      "\u001b[32m[I 2022-06-14 20:25:21,988]\u001b[0m Trial 36 finished with value: 82.73776316856184 and parameters: {'learning_rate': 0.13112061796295285, 'max_depth': 8, 'l1_reg': 0.0027437835861985494, 'l2_reg': 0.00063457624167618}. Best is trial 2 with value: 81.64644648824114.\u001b[0m\n"
     ]
    },
    {
     "name": "stderr",
     "output_type": "stream",
     "text": [
      "C:\\Users\\Abhimanyu\\AppData\\Local\\Temp\\ipykernel_4300\\1559402670.py:4: DeprecationWarning: `np.float` is a deprecated alias for the builtin `float`. To silence this warning, use `float` by itself. Doing this will not modify any behavior and is safe. If you specifically wanted the numpy scalar type, use `np.float64` here.\n",
      "Deprecated in NumPy 1.20; for more details and guidance: https://numpy.org/devdocs/release/1.20.0-notes.html#deprecations\n",
      "  rmse = np.float(re.search(r'[\\d.]+$', results).group(0))\n"
     ]
    },
    {
     "name": "stdout",
     "output_type": "stream",
     "text": [
      "\u001b[32m[I 2022-06-14 20:25:24,426]\u001b[0m Trial 37 finished with value: 320.73224893527004 and parameters: {'learning_rate': 0.0020339997115260498, 'max_depth': 6, 'l1_reg': 0.009196200139906482, 'l2_reg': 2.867546647892649e-05}. Best is trial 2 with value: 81.64644648824114.\u001b[0m\n"
     ]
    },
    {
     "name": "stderr",
     "output_type": "stream",
     "text": [
      "C:\\Users\\Abhimanyu\\AppData\\Local\\Temp\\ipykernel_4300\\1559402670.py:4: DeprecationWarning: `np.float` is a deprecated alias for the builtin `float`. To silence this warning, use `float` by itself. Doing this will not modify any behavior and is safe. If you specifically wanted the numpy scalar type, use `np.float64` here.\n",
      "Deprecated in NumPy 1.20; for more details and guidance: https://numpy.org/devdocs/release/1.20.0-notes.html#deprecations\n",
      "  rmse = np.float(re.search(r'[\\d.]+$', results).group(0))\n"
     ]
    },
    {
     "name": "stdout",
     "output_type": "stream",
     "text": [
      "\u001b[32m[I 2022-06-14 20:25:26,564]\u001b[0m Trial 38 finished with value: 91.23684760123287 and parameters: {'learning_rate': 0.07165955026089837, 'max_depth': 5, 'l1_reg': 0.0011291445096812856, 'l2_reg': 0.00015922719103025237}. Best is trial 2 with value: 81.64644648824114.\u001b[0m\n"
     ]
    },
    {
     "name": "stderr",
     "output_type": "stream",
     "text": [
      "C:\\Users\\Abhimanyu\\AppData\\Local\\Temp\\ipykernel_4300\\1559402670.py:4: DeprecationWarning: `np.float` is a deprecated alias for the builtin `float`. To silence this warning, use `float` by itself. Doing this will not modify any behavior and is safe. If you specifically wanted the numpy scalar type, use `np.float64` here.\n",
      "Deprecated in NumPy 1.20; for more details and guidance: https://numpy.org/devdocs/release/1.20.0-notes.html#deprecations\n",
      "  rmse = np.float(re.search(r'[\\d.]+$', results).group(0))\n"
     ]
    },
    {
     "name": "stdout",
     "output_type": "stream",
     "text": [
      "\u001b[32m[I 2022-06-14 20:25:29,343]\u001b[0m Trial 39 finished with value: 125.28686198881131 and parameters: {'learning_rate': 0.015796901158549606, 'max_depth': 7, 'l1_reg': 0.0002187851526541827, 'l2_reg': 0.00039481976183458243}. Best is trial 2 with value: 81.64644648824114.\u001b[0m\n"
     ]
    },
    {
     "name": "stderr",
     "output_type": "stream",
     "text": [
      "C:\\Users\\Abhimanyu\\AppData\\Local\\Temp\\ipykernel_4300\\1559402670.py:4: DeprecationWarning: `np.float` is a deprecated alias for the builtin `float`. To silence this warning, use `float` by itself. Doing this will not modify any behavior and is safe. If you specifically wanted the numpy scalar type, use `np.float64` here.\n",
      "Deprecated in NumPy 1.20; for more details and guidance: https://numpy.org/devdocs/release/1.20.0-notes.html#deprecations\n",
      "  rmse = np.float(re.search(r'[\\d.]+$', results).group(0))\n"
     ]
    },
    {
     "name": "stdout",
     "output_type": "stream",
     "text": [
      "\u001b[32m[I 2022-06-14 20:25:32,495]\u001b[0m Trial 40 finished with value: 369.92842350441447 and parameters: {'learning_rate': 0.0003915317010046967, 'max_depth': 8, 'l1_reg': 0.33664969472838885, 'l2_reg': 0.0018105139662595619}. Best is trial 2 with value: 81.64644648824114.\u001b[0m\n"
     ]
    },
    {
     "name": "stderr",
     "output_type": "stream",
     "text": [
      "C:\\Users\\Abhimanyu\\AppData\\Local\\Temp\\ipykernel_4300\\1559402670.py:4: DeprecationWarning: `np.float` is a deprecated alias for the builtin `float`. To silence this warning, use `float` by itself. Doing this will not modify any behavior and is safe. If you specifically wanted the numpy scalar type, use `np.float64` here.\n",
      "Deprecated in NumPy 1.20; for more details and guidance: https://numpy.org/devdocs/release/1.20.0-notes.html#deprecations\n",
      "  rmse = np.float(re.search(r'[\\d.]+$', results).group(0))\n"
     ]
    },
    {
     "name": "stdout",
     "output_type": "stream",
     "text": [
      "\u001b[32m[I 2022-06-14 20:25:35,281]\u001b[0m Trial 41 finished with value: 82.18057574195396 and parameters: {'learning_rate': 0.1617315888748388, 'max_depth': 8, 'l1_reg': 0.0004085689966987757, 'l2_reg': 1.0118884847489729e-05}. Best is trial 2 with value: 81.64644648824114.\u001b[0m\n"
     ]
    },
    {
     "name": "stderr",
     "output_type": "stream",
     "text": [
      "C:\\Users\\Abhimanyu\\AppData\\Local\\Temp\\ipykernel_4300\\1559402670.py:4: DeprecationWarning: `np.float` is a deprecated alias for the builtin `float`. To silence this warning, use `float` by itself. Doing this will not modify any behavior and is safe. If you specifically wanted the numpy scalar type, use `np.float64` here.\n",
      "Deprecated in NumPy 1.20; for more details and guidance: https://numpy.org/devdocs/release/1.20.0-notes.html#deprecations\n",
      "  rmse = np.float(re.search(r'[\\d.]+$', results).group(0))\n"
     ]
    },
    {
     "name": "stdout",
     "output_type": "stream",
     "text": [
      "\u001b[32m[I 2022-06-14 20:25:35,814]\u001b[0m Trial 42 finished with value: 90.37805938982991 and parameters: {'learning_rate': 0.643657844035732, 'max_depth': 8, 'l1_reg': 3.9474733839921794e-05, 'l2_reg': 4.31597672065679e-05}. Best is trial 2 with value: 81.64644648824114.\u001b[0m\n"
     ]
    },
    {
     "name": "stderr",
     "output_type": "stream",
     "text": [
      "C:\\Users\\Abhimanyu\\AppData\\Local\\Temp\\ipykernel_4300\\1559402670.py:4: DeprecationWarning: `np.float` is a deprecated alias for the builtin `float`. To silence this warning, use `float` by itself. Doing this will not modify any behavior and is safe. If you specifically wanted the numpy scalar type, use `np.float64` here.\n",
      "Deprecated in NumPy 1.20; for more details and guidance: https://numpy.org/devdocs/release/1.20.0-notes.html#deprecations\n",
      "  rmse = np.float(re.search(r'[\\d.]+$', results).group(0))\n"
     ]
    },
    {
     "name": "stdout",
     "output_type": "stream",
     "text": [
      "\u001b[32m[I 2022-06-14 20:25:37,337]\u001b[0m Trial 43 finished with value: 83.19535075282838 and parameters: {'learning_rate': 0.20166381972679773, 'max_depth': 8, 'l1_reg': 0.0032226592218462763, 'l2_reg': 0.02537216422907111}. Best is trial 2 with value: 81.64644648824114.\u001b[0m\n"
     ]
    },
    {
     "name": "stderr",
     "output_type": "stream",
     "text": [
      "C:\\Users\\Abhimanyu\\AppData\\Local\\Temp\\ipykernel_4300\\1559402670.py:4: DeprecationWarning: `np.float` is a deprecated alias for the builtin `float`. To silence this warning, use `float` by itself. Doing this will not modify any behavior and is safe. If you specifically wanted the numpy scalar type, use `np.float64` here.\n",
      "Deprecated in NumPy 1.20; for more details and guidance: https://numpy.org/devdocs/release/1.20.0-notes.html#deprecations\n",
      "  rmse = np.float(re.search(r'[\\d.]+$', results).group(0))\n"
     ]
    },
    {
     "name": "stdout",
     "output_type": "stream",
     "text": [
      "\u001b[32m[I 2022-06-14 20:25:40,205]\u001b[0m Trial 44 finished with value: 84.5166894909774 and parameters: {'learning_rate': 0.04926732261262913, 'max_depth': 7, 'l1_reg': 0.02067347200469499, 'l2_reg': 1.1163600006626679e-05}. Best is trial 2 with value: 81.64644648824114.\u001b[0m\n"
     ]
    },
    {
     "name": "stderr",
     "output_type": "stream",
     "text": [
      "C:\\Users\\Abhimanyu\\AppData\\Local\\Temp\\ipykernel_4300\\1559402670.py:4: DeprecationWarning: `np.float` is a deprecated alias for the builtin `float`. To silence this warning, use `float` by itself. Doing this will not modify any behavior and is safe. If you specifically wanted the numpy scalar type, use `np.float64` here.\n",
      "Deprecated in NumPy 1.20; for more details and guidance: https://numpy.org/devdocs/release/1.20.0-notes.html#deprecations\n",
      "  rmse = np.float(re.search(r'[\\d.]+$', results).group(0))\n"
     ]
    },
    {
     "name": "stdout",
     "output_type": "stream",
     "text": [
      "\u001b[32m[I 2022-06-14 20:25:41,412]\u001b[0m Trial 45 finished with value: 91.62308342945819 and parameters: {'learning_rate': 0.6840666676304921, 'max_depth': 4, 'l1_reg': 0.0008358499804877425, 'l2_reg': 3.0695138407779266e-05}. Best is trial 2 with value: 81.64644648824114.\u001b[0m\n"
     ]
    },
    {
     "name": "stderr",
     "output_type": "stream",
     "text": [
      "C:\\Users\\Abhimanyu\\AppData\\Local\\Temp\\ipykernel_4300\\1559402670.py:4: DeprecationWarning: `np.float` is a deprecated alias for the builtin `float`. To silence this warning, use `float` by itself. Doing this will not modify any behavior and is safe. If you specifically wanted the numpy scalar type, use `np.float64` here.\n",
      "Deprecated in NumPy 1.20; for more details and guidance: https://numpy.org/devdocs/release/1.20.0-notes.html#deprecations\n",
      "  rmse = np.float(re.search(r'[\\d.]+$', results).group(0))\n"
     ]
    },
    {
     "name": "stdout",
     "output_type": "stream",
     "text": [
      "\u001b[32m[I 2022-06-14 20:25:43,539]\u001b[0m Trial 46 finished with value: 83.19609744476108 and parameters: {'learning_rate': 0.25885533194624355, 'max_depth': 8, 'l1_reg': 0.00030663354522779147, 'l2_reg': 0.00013929949787605566}. Best is trial 2 with value: 81.64644648824114.\u001b[0m\n"
     ]
    },
    {
     "name": "stderr",
     "output_type": "stream",
     "text": [
      "C:\\Users\\Abhimanyu\\AppData\\Local\\Temp\\ipykernel_4300\\1559402670.py:4: DeprecationWarning: `np.float` is a deprecated alias for the builtin `float`. To silence this warning, use `float` by itself. Doing this will not modify any behavior and is safe. If you specifically wanted the numpy scalar type, use `np.float64` here.\n",
      "Deprecated in NumPy 1.20; for more details and guidance: https://numpy.org/devdocs/release/1.20.0-notes.html#deprecations\n",
      "  rmse = np.float(re.search(r'[\\d.]+$', results).group(0))\n"
     ]
    },
    {
     "name": "stdout",
     "output_type": "stream",
     "text": [
      "\u001b[32m[I 2022-06-14 20:25:46,305]\u001b[0m Trial 47 finished with value: 82.37445121043616 and parameters: {'learning_rate': 0.09180322039824164, 'max_depth': 7, 'l1_reg': 0.001505169234509808, 'l2_reg': 1.013993344404958e-05}. Best is trial 2 with value: 81.64644648824114.\u001b[0m\n"
     ]
    },
    {
     "name": "stderr",
     "output_type": "stream",
     "text": [
      "C:\\Users\\Abhimanyu\\AppData\\Local\\Temp\\ipykernel_4300\\1559402670.py:4: DeprecationWarning: `np.float` is a deprecated alias for the builtin `float`. To silence this warning, use `float` by itself. Doing this will not modify any behavior and is safe. If you specifically wanted the numpy scalar type, use `np.float64` here.\n",
      "Deprecated in NumPy 1.20; for more details and guidance: https://numpy.org/devdocs/release/1.20.0-notes.html#deprecations\n",
      "  rmse = np.float(re.search(r'[\\d.]+$', results).group(0))\n"
     ]
    },
    {
     "name": "stdout",
     "output_type": "stream",
     "text": [
      "\u001b[32m[I 2022-06-14 20:25:46,578]\u001b[0m Trial 48 finished with value: 4955019.998991675 and parameters: {'learning_rate': 3.379879994781641, 'max_depth': 5, 'l1_reg': 3.096451775347602e-05, 'l2_reg': 2.381768560450188e-05}. Best is trial 2 with value: 81.64644648824114.\u001b[0m\n"
     ]
    },
    {
     "name": "stderr",
     "output_type": "stream",
     "text": [
      "C:\\Users\\Abhimanyu\\AppData\\Local\\Temp\\ipykernel_4300\\1559402670.py:4: DeprecationWarning: `np.float` is a deprecated alias for the builtin `float`. To silence this warning, use `float` by itself. Doing this will not modify any behavior and is safe. If you specifically wanted the numpy scalar type, use `np.float64` here.\n",
      "Deprecated in NumPy 1.20; for more details and guidance: https://numpy.org/devdocs/release/1.20.0-notes.html#deprecations\n",
      "  rmse = np.float(re.search(r'[\\d.]+$', results).group(0))\n"
     ]
    },
    {
     "name": "stdout",
     "output_type": "stream",
     "text": [
      "\u001b[32m[I 2022-06-14 20:25:49,803]\u001b[0m Trial 49 finished with value: 83.07869314137524 and parameters: {'learning_rate': 0.046679227345590074, 'max_depth': 8, 'l1_reg': 0.005811765648733481, 'l2_reg': 2.3366307020425454}. Best is trial 2 with value: 81.64644648824114.\u001b[0m\n"
     ]
    },
    {
     "name": "stderr",
     "output_type": "stream",
     "text": [
      "C:\\Users\\Abhimanyu\\AppData\\Local\\Temp\\ipykernel_4300\\1559402670.py:4: DeprecationWarning: `np.float` is a deprecated alias for the builtin `float`. To silence this warning, use `float` by itself. Doing this will not modify any behavior and is safe. If you specifically wanted the numpy scalar type, use `np.float64` here.\n",
      "Deprecated in NumPy 1.20; for more details and guidance: https://numpy.org/devdocs/release/1.20.0-notes.html#deprecations\n",
      "  rmse = np.float(re.search(r'[\\d.]+$', results).group(0))\n"
     ]
    },
    {
     "name": "stdout",
     "output_type": "stream",
     "text": [
      "\u001b[32m[I 2022-06-14 20:25:50,715]\u001b[0m Trial 50 finished with value: 89.23566771336496 and parameters: {'learning_rate': 0.4997956902368275, 'max_depth': 6, 'l1_reg': 0.0023822519707425195, 'l2_reg': 0.010061580774985498}. Best is trial 2 with value: 81.64644648824114.\u001b[0m\n"
     ]
    },
    {
     "name": "stderr",
     "output_type": "stream",
     "text": [
      "C:\\Users\\Abhimanyu\\AppData\\Local\\Temp\\ipykernel_4300\\1559402670.py:4: DeprecationWarning: `np.float` is a deprecated alias for the builtin `float`. To silence this warning, use `float` by itself. Doing this will not modify any behavior and is safe. If you specifically wanted the numpy scalar type, use `np.float64` here.\n",
      "Deprecated in NumPy 1.20; for more details and guidance: https://numpy.org/devdocs/release/1.20.0-notes.html#deprecations\n",
      "  rmse = np.float(re.search(r'[\\d.]+$', results).group(0))\n"
     ]
    },
    {
     "name": "stdout",
     "output_type": "stream",
     "text": [
      "\u001b[32m[I 2022-06-14 20:25:52,837]\u001b[0m Trial 51 finished with value: 83.7097704181917 and parameters: {'learning_rate': 0.1754581909633964, 'max_depth': 8, 'l1_reg': 0.000579069179318529, 'l2_reg': 2.2170737684530143e-05}. Best is trial 2 with value: 81.64644648824114.\u001b[0m\n"
     ]
    },
    {
     "name": "stderr",
     "output_type": "stream",
     "text": [
      "C:\\Users\\Abhimanyu\\AppData\\Local\\Temp\\ipykernel_4300\\1559402670.py:4: DeprecationWarning: `np.float` is a deprecated alias for the builtin `float`. To silence this warning, use `float` by itself. Doing this will not modify any behavior and is safe. If you specifically wanted the numpy scalar type, use `np.float64` here.\n",
      "Deprecated in NumPy 1.20; for more details and guidance: https://numpy.org/devdocs/release/1.20.0-notes.html#deprecations\n",
      "  rmse = np.float(re.search(r'[\\d.]+$', results).group(0))\n"
     ]
    },
    {
     "name": "stdout",
     "output_type": "stream",
     "text": [
      "\u001b[32m[I 2022-06-14 20:25:56,057]\u001b[0m Trial 52 finished with value: 81.91635223307979 and parameters: {'learning_rate': 0.1185326018663029, 'max_depth': 8, 'l1_reg': 0.0003115863902723472, 'l2_reg': 0.5466434915810638}. Best is trial 2 with value: 81.64644648824114.\u001b[0m\n"
     ]
    },
    {
     "name": "stderr",
     "output_type": "stream",
     "text": [
      "C:\\Users\\Abhimanyu\\AppData\\Local\\Temp\\ipykernel_4300\\1559402670.py:4: DeprecationWarning: `np.float` is a deprecated alias for the builtin `float`. To silence this warning, use `float` by itself. Doing this will not modify any behavior and is safe. If you specifically wanted the numpy scalar type, use `np.float64` here.\n",
      "Deprecated in NumPy 1.20; for more details and guidance: https://numpy.org/devdocs/release/1.20.0-notes.html#deprecations\n",
      "  rmse = np.float(re.search(r'[\\d.]+$', results).group(0))\n"
     ]
    },
    {
     "name": "stdout",
     "output_type": "stream",
     "text": [
      "\u001b[32m[I 2022-06-14 20:25:58,387]\u001b[0m Trial 53 finished with value: 82.31453408570864 and parameters: {'learning_rate': 0.09741749200393866, 'max_depth': 8, 'l1_reg': 0.00010975157229205528, 'l2_reg': 0.34660316953967313}. Best is trial 2 with value: 81.64644648824114.\u001b[0m\n"
     ]
    },
    {
     "name": "stderr",
     "output_type": "stream",
     "text": [
      "C:\\Users\\Abhimanyu\\AppData\\Local\\Temp\\ipykernel_4300\\1559402670.py:4: DeprecationWarning: `np.float` is a deprecated alias for the builtin `float`. To silence this warning, use `float` by itself. Doing this will not modify any behavior and is safe. If you specifically wanted the numpy scalar type, use `np.float64` here.\n",
      "Deprecated in NumPy 1.20; for more details and guidance: https://numpy.org/devdocs/release/1.20.0-notes.html#deprecations\n",
      "  rmse = np.float(re.search(r'[\\d.]+$', results).group(0))\n"
     ]
    },
    {
     "name": "stdout",
     "output_type": "stream",
     "text": [
      "\u001b[32m[I 2022-06-14 20:26:01,587]\u001b[0m Trial 54 finished with value: 81.6283896211122 and parameters: {'learning_rate': 0.09264771121023793, 'max_depth': 8, 'l1_reg': 0.00015245968521960987, 'l2_reg': 0.24229832904292156}. Best is trial 54 with value: 81.6283896211122.\u001b[0m\n"
     ]
    },
    {
     "name": "stderr",
     "output_type": "stream",
     "text": [
      "C:\\Users\\Abhimanyu\\AppData\\Local\\Temp\\ipykernel_4300\\1559402670.py:4: DeprecationWarning: `np.float` is a deprecated alias for the builtin `float`. To silence this warning, use `float` by itself. Doing this will not modify any behavior and is safe. If you specifically wanted the numpy scalar type, use `np.float64` here.\n",
      "Deprecated in NumPy 1.20; for more details and guidance: https://numpy.org/devdocs/release/1.20.0-notes.html#deprecations\n",
      "  rmse = np.float(re.search(r'[\\d.]+$', results).group(0))\n"
     ]
    },
    {
     "name": "stdout",
     "output_type": "stream",
     "text": [
      "\u001b[32m[I 2022-06-14 20:26:04,804]\u001b[0m Trial 55 finished with value: 92.79830214824825 and parameters: {'learning_rate': 0.025796858732920487, 'max_depth': 8, 'l1_reg': 7.073182127545254e-05, 'l2_reg': 0.6538008163427406}. Best is trial 54 with value: 81.6283896211122.\u001b[0m\n"
     ]
    },
    {
     "name": "stderr",
     "output_type": "stream",
     "text": [
      "C:\\Users\\Abhimanyu\\AppData\\Local\\Temp\\ipykernel_4300\\1559402670.py:4: DeprecationWarning: `np.float` is a deprecated alias for the builtin `float`. To silence this warning, use `float` by itself. Doing this will not modify any behavior and is safe. If you specifically wanted the numpy scalar type, use `np.float64` here.\n",
      "Deprecated in NumPy 1.20; for more details and guidance: https://numpy.org/devdocs/release/1.20.0-notes.html#deprecations\n",
      "  rmse = np.float(re.search(r'[\\d.]+$', results).group(0))\n"
     ]
    },
    {
     "name": "stdout",
     "output_type": "stream",
     "text": [
      "\u001b[32m[I 2022-06-14 20:26:08,073]\u001b[0m Trial 56 finished with value: 153.52434744747234 and parameters: {'learning_rate': 0.011574967538633926, 'max_depth': 8, 'l1_reg': 0.0003417339645766561, 'l2_reg': 0.7602969423170286}. Best is trial 54 with value: 81.6283896211122.\u001b[0m\n"
     ]
    },
    {
     "name": "stderr",
     "output_type": "stream",
     "text": [
      "C:\\Users\\Abhimanyu\\AppData\\Local\\Temp\\ipykernel_4300\\1559402670.py:4: DeprecationWarning: `np.float` is a deprecated alias for the builtin `float`. To silence this warning, use `float` by itself. Doing this will not modify any behavior and is safe. If you specifically wanted the numpy scalar type, use `np.float64` here.\n",
      "Deprecated in NumPy 1.20; for more details and guidance: https://numpy.org/devdocs/release/1.20.0-notes.html#deprecations\n",
      "  rmse = np.float(re.search(r'[\\d.]+$', results).group(0))\n"
     ]
    },
    {
     "name": "stdout",
     "output_type": "stream",
     "text": [
      "\u001b[32m[I 2022-06-14 20:26:10,341]\u001b[0m Trial 57 finished with value: 85.30056789466698 and parameters: {'learning_rate': 0.35400158592538444, 'max_depth': 8, 'l1_reg': 0.0001959945520828612, 'l2_reg': 4.135021972869123}. Best is trial 54 with value: 81.6283896211122.\u001b[0m\n"
     ]
    },
    {
     "name": "stderr",
     "output_type": "stream",
     "text": [
      "C:\\Users\\Abhimanyu\\AppData\\Local\\Temp\\ipykernel_4300\\1559402670.py:4: DeprecationWarning: `np.float` is a deprecated alias for the builtin `float`. To silence this warning, use `float` by itself. Doing this will not modify any behavior and is safe. If you specifically wanted the numpy scalar type, use `np.float64` here.\n",
      "Deprecated in NumPy 1.20; for more details and guidance: https://numpy.org/devdocs/release/1.20.0-notes.html#deprecations\n",
      "  rmse = np.float(re.search(r'[\\d.]+$', results).group(0))\n"
     ]
    },
    {
     "name": "stdout",
     "output_type": "stream",
     "text": [
      "\u001b[32m[I 2022-06-14 20:26:13,612]\u001b[0m Trial 58 finished with value: 265.974757513352 and parameters: {'learning_rate': 0.004140136551392988, 'max_depth': 8, 'l1_reg': 1.697447547384231e-05, 'l2_reg': 0.17219621854645023}. Best is trial 54 with value: 81.6283896211122.\u001b[0m\n"
     ]
    },
    {
     "name": "stderr",
     "output_type": "stream",
     "text": [
      "C:\\Users\\Abhimanyu\\AppData\\Local\\Temp\\ipykernel_4300\\1559402670.py:4: DeprecationWarning: `np.float` is a deprecated alias for the builtin `float`. To silence this warning, use `float` by itself. Doing this will not modify any behavior and is safe. If you specifically wanted the numpy scalar type, use `np.float64` here.\n",
      "Deprecated in NumPy 1.20; for more details and guidance: https://numpy.org/devdocs/release/1.20.0-notes.html#deprecations\n",
      "  rmse = np.float(re.search(r'[\\d.]+$', results).group(0))\n"
     ]
    },
    {
     "name": "stdout",
     "output_type": "stream",
     "text": [
      "\u001b[32m[I 2022-06-14 20:26:16,837]\u001b[0m Trial 59 finished with value: 81.49554975078001 and parameters: {'learning_rate': 0.06389201097576297, 'max_depth': 8, 'l1_reg': 0.0008231681120454978, 'l2_reg': 0.03963877657792141}. Best is trial 59 with value: 81.49554975078001.\u001b[0m\n"
     ]
    },
    {
     "name": "stderr",
     "output_type": "stream",
     "text": [
      "C:\\Users\\Abhimanyu\\AppData\\Local\\Temp\\ipykernel_4300\\1559402670.py:4: DeprecationWarning: `np.float` is a deprecated alias for the builtin `float`. To silence this warning, use `float` by itself. Doing this will not modify any behavior and is safe. If you specifically wanted the numpy scalar type, use `np.float64` here.\n",
      "Deprecated in NumPy 1.20; for more details and guidance: https://numpy.org/devdocs/release/1.20.0-notes.html#deprecations\n",
      "  rmse = np.float(re.search(r'[\\d.]+$', results).group(0))\n"
     ]
    },
    {
     "name": "stdout",
     "output_type": "stream",
     "text": [
      "\u001b[32m[I 2022-06-14 20:26:20,103]\u001b[0m Trial 60 finished with value: 84.44646179570951 and parameters: {'learning_rate': 0.03941663963230722, 'max_depth': 8, 'l1_reg': 0.00018160646411698408, 'l2_reg': 0.05006663433906548}. Best is trial 59 with value: 81.49554975078001.\u001b[0m\n"
     ]
    },
    {
     "name": "stderr",
     "output_type": "stream",
     "text": [
      "C:\\Users\\Abhimanyu\\AppData\\Local\\Temp\\ipykernel_4300\\1559402670.py:4: DeprecationWarning: `np.float` is a deprecated alias for the builtin `float`. To silence this warning, use `float` by itself. Doing this will not modify any behavior and is safe. If you specifically wanted the numpy scalar type, use `np.float64` here.\n",
      "Deprecated in NumPy 1.20; for more details and guidance: https://numpy.org/devdocs/release/1.20.0-notes.html#deprecations\n",
      "  rmse = np.float(re.search(r'[\\d.]+$', results).group(0))\n"
     ]
    },
    {
     "name": "stdout",
     "output_type": "stream",
     "text": [
      "\u001b[32m[I 2022-06-14 20:26:23,351]\u001b[0m Trial 61 finished with value: 82.0354175194385 and parameters: {'learning_rate': 0.07859987007620128, 'max_depth': 8, 'l1_reg': 0.0003825665269857208, 'l2_reg': 0.3976075501451047}. Best is trial 59 with value: 81.49554975078001.\u001b[0m\n"
     ]
    },
    {
     "name": "stderr",
     "output_type": "stream",
     "text": [
      "C:\\Users\\Abhimanyu\\AppData\\Local\\Temp\\ipykernel_4300\\1559402670.py:4: DeprecationWarning: `np.float` is a deprecated alias for the builtin `float`. To silence this warning, use `float` by itself. Doing this will not modify any behavior and is safe. If you specifically wanted the numpy scalar type, use `np.float64` here.\n",
      "Deprecated in NumPy 1.20; for more details and guidance: https://numpy.org/devdocs/release/1.20.0-notes.html#deprecations\n",
      "  rmse = np.float(re.search(r'[\\d.]+$', results).group(0))\n"
     ]
    },
    {
     "name": "stdout",
     "output_type": "stream",
     "text": [
      "\u001b[32m[I 2022-06-14 20:26:27,071]\u001b[0m Trial 62 finished with value: 82.14728418934106 and parameters: {'learning_rate': 0.06657704818613654, 'max_depth': 8, 'l1_reg': 0.0003018743223525842, 'l2_reg': 0.5014473903141827}. Best is trial 59 with value: 81.49554975078001.\u001b[0m\n"
     ]
    },
    {
     "name": "stderr",
     "output_type": "stream",
     "text": [
      "C:\\Users\\Abhimanyu\\AppData\\Local\\Temp\\ipykernel_4300\\1559402670.py:4: DeprecationWarning: `np.float` is a deprecated alias for the builtin `float`. To silence this warning, use `float` by itself. Doing this will not modify any behavior and is safe. If you specifically wanted the numpy scalar type, use `np.float64` here.\n",
      "Deprecated in NumPy 1.20; for more details and guidance: https://numpy.org/devdocs/release/1.20.0-notes.html#deprecations\n",
      "  rmse = np.float(re.search(r'[\\d.]+$', results).group(0))\n"
     ]
    },
    {
     "name": "stdout",
     "output_type": "stream",
     "text": [
      "\u001b[32m[I 2022-06-14 20:26:30,496]\u001b[0m Trial 63 finished with value: 121.55478983219712 and parameters: {'learning_rate': 0.01582407419973945, 'max_depth': 8, 'l1_reg': 6.407965334614453e-05, 'l2_reg': 0.4106029931968809}. Best is trial 59 with value: 81.49554975078001.\u001b[0m\n"
     ]
    },
    {
     "name": "stderr",
     "output_type": "stream",
     "text": [
      "C:\\Users\\Abhimanyu\\AppData\\Local\\Temp\\ipykernel_4300\\1559402670.py:4: DeprecationWarning: `np.float` is a deprecated alias for the builtin `float`. To silence this warning, use `float` by itself. Doing this will not modify any behavior and is safe. If you specifically wanted the numpy scalar type, use `np.float64` here.\n",
      "Deprecated in NumPy 1.20; for more details and guidance: https://numpy.org/devdocs/release/1.20.0-notes.html#deprecations\n",
      "  rmse = np.float(re.search(r'[\\d.]+$', results).group(0))\n"
     ]
    },
    {
     "name": "stdout",
     "output_type": "stream",
     "text": [
      "\u001b[32m[I 2022-06-14 20:26:33,846]\u001b[0m Trial 64 finished with value: 81.76391775932383 and parameters: {'learning_rate': 0.06619118543270884, 'max_depth': 8, 'l1_reg': 1.014950536744408e-05, 'l2_reg': 0.2113435370714555}. Best is trial 59 with value: 81.49554975078001.\u001b[0m\n"
     ]
    },
    {
     "name": "stderr",
     "output_type": "stream",
     "text": [
      "C:\\Users\\Abhimanyu\\AppData\\Local\\Temp\\ipykernel_4300\\1559402670.py:4: DeprecationWarning: `np.float` is a deprecated alias for the builtin `float`. To silence this warning, use `float` by itself. Doing this will not modify any behavior and is safe. If you specifically wanted the numpy scalar type, use `np.float64` here.\n",
      "Deprecated in NumPy 1.20; for more details and guidance: https://numpy.org/devdocs/release/1.20.0-notes.html#deprecations\n",
      "  rmse = np.float(re.search(r'[\\d.]+$', results).group(0))\n"
     ]
    },
    {
     "name": "stdout",
     "output_type": "stream",
     "text": [
      "\u001b[32m[I 2022-06-14 20:26:36,475]\u001b[0m Trial 65 finished with value: 81.65995513307276 and parameters: {'learning_rate': 0.122237842656638, 'max_depth': 8, 'l1_reg': 2.5677956794955258e-05, 'l2_reg': 0.20723166791564612}. Best is trial 59 with value: 81.49554975078001.\u001b[0m\n"
     ]
    },
    {
     "name": "stderr",
     "output_type": "stream",
     "text": [
      "C:\\Users\\Abhimanyu\\AppData\\Local\\Temp\\ipykernel_4300\\1559402670.py:4: DeprecationWarning: `np.float` is a deprecated alias for the builtin `float`. To silence this warning, use `float` by itself. Doing this will not modify any behavior and is safe. If you specifically wanted the numpy scalar type, use `np.float64` here.\n",
      "Deprecated in NumPy 1.20; for more details and guidance: https://numpy.org/devdocs/release/1.20.0-notes.html#deprecations\n",
      "  rmse = np.float(re.search(r'[\\d.]+$', results).group(0))\n"
     ]
    },
    {
     "name": "stdout",
     "output_type": "stream",
     "text": [
      "\u001b[32m[I 2022-06-14 20:26:39,795]\u001b[0m Trial 66 finished with value: 86.81144097015736 and parameters: {'learning_rate': 0.033227399699741256, 'max_depth': 8, 'l1_reg': 1.1308403319521792e-05, 'l2_reg': 0.13734901081651477}. Best is trial 59 with value: 81.49554975078001.\u001b[0m\n"
     ]
    },
    {
     "name": "stderr",
     "output_type": "stream",
     "text": [
      "C:\\Users\\Abhimanyu\\AppData\\Local\\Temp\\ipykernel_4300\\1559402670.py:4: DeprecationWarning: `np.float` is a deprecated alias for the builtin `float`. To silence this warning, use `float` by itself. Doing this will not modify any behavior and is safe. If you specifically wanted the numpy scalar type, use `np.float64` here.\n",
      "Deprecated in NumPy 1.20; for more details and guidance: https://numpy.org/devdocs/release/1.20.0-notes.html#deprecations\n",
      "  rmse = np.float(re.search(r'[\\d.]+$', results).group(0))\n"
     ]
    },
    {
     "name": "stdout",
     "output_type": "stream",
     "text": [
      "\u001b[32m[I 2022-06-14 20:26:42,813]\u001b[0m Trial 67 finished with value: 82.55754661770156 and parameters: {'learning_rate': 0.12396719658025858, 'max_depth': 8, 'l1_reg': 3.199745713927069e-05, 'l2_reg': 0.06207017092464454}. Best is trial 59 with value: 81.49554975078001.\u001b[0m\n"
     ]
    },
    {
     "name": "stderr",
     "output_type": "stream",
     "text": [
      "C:\\Users\\Abhimanyu\\AppData\\Local\\Temp\\ipykernel_4300\\1559402670.py:4: DeprecationWarning: `np.float` is a deprecated alias for the builtin `float`. To silence this warning, use `float` by itself. Doing this will not modify any behavior and is safe. If you specifically wanted the numpy scalar type, use `np.float64` here.\n",
      "Deprecated in NumPy 1.20; for more details and guidance: https://numpy.org/devdocs/release/1.20.0-notes.html#deprecations\n",
      "  rmse = np.float(re.search(r'[\\d.]+$', results).group(0))\n"
     ]
    },
    {
     "name": "stdout",
     "output_type": "stream",
     "text": [
      "\u001b[32m[I 2022-06-14 20:26:46,117]\u001b[0m Trial 68 finished with value: 82.3165882058427 and parameters: {'learning_rate': 0.05294383027452303, 'max_depth': 8, 'l1_reg': 2.0569821168029736e-05, 'l2_reg': 0.1783045769933103}. Best is trial 59 with value: 81.49554975078001.\u001b[0m\n"
     ]
    },
    {
     "name": "stderr",
     "output_type": "stream",
     "text": [
      "C:\\Users\\Abhimanyu\\AppData\\Local\\Temp\\ipykernel_4300\\1559402670.py:4: DeprecationWarning: `np.float` is a deprecated alias for the builtin `float`. To silence this warning, use `float` by itself. Doing this will not modify any behavior and is safe. If you specifically wanted the numpy scalar type, use `np.float64` here.\n",
      "Deprecated in NumPy 1.20; for more details and guidance: https://numpy.org/devdocs/release/1.20.0-notes.html#deprecations\n",
      "  rmse = np.float(re.search(r'[\\d.]+$', results).group(0))\n"
     ]
    },
    {
     "name": "stdout",
     "output_type": "stream",
     "text": [
      "\u001b[32m[I 2022-06-14 20:26:47,482]\u001b[0m Trial 69 finished with value: 83.37674483832448 and parameters: {'learning_rate': 0.30740192064139904, 'max_depth': 8, 'l1_reg': 5.1835712392164994e-05, 'l2_reg': 0.03332331324224912}. Best is trial 59 with value: 81.49554975078001.\u001b[0m\n"
     ]
    },
    {
     "name": "stderr",
     "output_type": "stream",
     "text": [
      "C:\\Users\\Abhimanyu\\AppData\\Local\\Temp\\ipykernel_4300\\1559402670.py:4: DeprecationWarning: `np.float` is a deprecated alias for the builtin `float`. To silence this warning, use `float` by itself. Doing this will not modify any behavior and is safe. If you specifically wanted the numpy scalar type, use `np.float64` here.\n",
      "Deprecated in NumPy 1.20; for more details and guidance: https://numpy.org/devdocs/release/1.20.0-notes.html#deprecations\n",
      "  rmse = np.float(re.search(r'[\\d.]+$', results).group(0))\n"
     ]
    },
    {
     "name": "stdout",
     "output_type": "stream",
     "text": [
      "\u001b[32m[I 2022-06-14 20:26:50,745]\u001b[0m Trial 70 finished with value: 108.67770101207445 and parameters: {'learning_rate': 0.018701669185144685, 'max_depth': 8, 'l1_reg': 2.7165114302353503e-05, 'l2_reg': 0.2390160818614075}. Best is trial 59 with value: 81.49554975078001.\u001b[0m\n"
     ]
    },
    {
     "name": "stderr",
     "output_type": "stream",
     "text": [
      "C:\\Users\\Abhimanyu\\AppData\\Local\\Temp\\ipykernel_4300\\1559402670.py:4: DeprecationWarning: `np.float` is a deprecated alias for the builtin `float`. To silence this warning, use `float` by itself. Doing this will not modify any behavior and is safe. If you specifically wanted the numpy scalar type, use `np.float64` here.\n",
      "Deprecated in NumPy 1.20; for more details and guidance: https://numpy.org/devdocs/release/1.20.0-notes.html#deprecations\n",
      "  rmse = np.float(re.search(r'[\\d.]+$', results).group(0))\n"
     ]
    },
    {
     "name": "stdout",
     "output_type": "stream",
     "text": [
      "\u001b[32m[I 2022-06-14 20:26:53,898]\u001b[0m Trial 71 finished with value: 81.73997781647971 and parameters: {'learning_rate': 0.08148349681192724, 'max_depth': 8, 'l1_reg': 1.0464909328465367e-05, 'l2_reg': 1.4560535747752446}. Best is trial 59 with value: 81.49554975078001.\u001b[0m\n"
     ]
    },
    {
     "name": "stderr",
     "output_type": "stream",
     "text": [
      "C:\\Users\\Abhimanyu\\AppData\\Local\\Temp\\ipykernel_4300\\1559402670.py:4: DeprecationWarning: `np.float` is a deprecated alias for the builtin `float`. To silence this warning, use `float` by itself. Doing this will not modify any behavior and is safe. If you specifically wanted the numpy scalar type, use `np.float64` here.\n",
      "Deprecated in NumPy 1.20; for more details and guidance: https://numpy.org/devdocs/release/1.20.0-notes.html#deprecations\n",
      "  rmse = np.float(re.search(r'[\\d.]+$', results).group(0))\n"
     ]
    },
    {
     "name": "stdout",
     "output_type": "stream",
     "text": [
      "\u001b[32m[I 2022-06-14 20:26:56,263]\u001b[0m Trial 72 finished with value: 82.48329728139733 and parameters: {'learning_rate': 0.11781843116244912, 'max_depth': 8, 'l1_reg': 1.2741388177295221e-05, 'l2_reg': 1.5155247458380767}. Best is trial 59 with value: 81.49554975078001.\u001b[0m\n"
     ]
    },
    {
     "name": "stderr",
     "output_type": "stream",
     "text": [
      "C:\\Users\\Abhimanyu\\AppData\\Local\\Temp\\ipykernel_4300\\1559402670.py:4: DeprecationWarning: `np.float` is a deprecated alias for the builtin `float`. To silence this warning, use `float` by itself. Doing this will not modify any behavior and is safe. If you specifically wanted the numpy scalar type, use `np.float64` here.\n",
      "Deprecated in NumPy 1.20; for more details and guidance: https://numpy.org/devdocs/release/1.20.0-notes.html#deprecations\n",
      "  rmse = np.float(re.search(r'[\\d.]+$', results).group(0))\n"
     ]
    },
    {
     "name": "stdout",
     "output_type": "stream",
     "text": [
      "\u001b[32m[I 2022-06-14 20:26:59,550]\u001b[0m Trial 73 finished with value: 213.95457869529332 and parameters: {'learning_rate': 0.006968609884692774, 'max_depth': 8, 'l1_reg': 1.0269771075367262e-05, 'l2_reg': 2.8040143231788597}. Best is trial 59 with value: 81.49554975078001.\u001b[0m\n"
     ]
    },
    {
     "name": "stderr",
     "output_type": "stream",
     "text": [
      "C:\\Users\\Abhimanyu\\AppData\\Local\\Temp\\ipykernel_4300\\1559402670.py:4: DeprecationWarning: `np.float` is a deprecated alias for the builtin `float`. To silence this warning, use `float` by itself. Doing this will not modify any behavior and is safe. If you specifically wanted the numpy scalar type, use `np.float64` here.\n",
      "Deprecated in NumPy 1.20; for more details and guidance: https://numpy.org/devdocs/release/1.20.0-notes.html#deprecations\n",
      "  rmse = np.float(re.search(r'[\\d.]+$', results).group(0))\n"
     ]
    },
    {
     "name": "stdout",
     "output_type": "stream",
     "text": [
      "\u001b[32m[I 2022-06-14 20:27:02,746]\u001b[0m Trial 74 finished with value: 82.67607012188934 and parameters: {'learning_rate': 0.06727243414594328, 'max_depth': 8, 'l1_reg': 2.1155027181724495e-05, 'l2_reg': 0.9544518895281295}. Best is trial 59 with value: 81.49554975078001.\u001b[0m\n"
     ]
    },
    {
     "name": "stderr",
     "output_type": "stream",
     "text": [
      "C:\\Users\\Abhimanyu\\AppData\\Local\\Temp\\ipykernel_4300\\1559402670.py:4: DeprecationWarning: `np.float` is a deprecated alias for the builtin `float`. To silence this warning, use `float` by itself. Doing this will not modify any behavior and is safe. If you specifically wanted the numpy scalar type, use `np.float64` here.\n",
      "Deprecated in NumPy 1.20; for more details and guidance: https://numpy.org/devdocs/release/1.20.0-notes.html#deprecations\n",
      "  rmse = np.float(re.search(r'[\\d.]+$', results).group(0))\n"
     ]
    },
    {
     "name": "stdout",
     "output_type": "stream",
     "text": [
      "\u001b[32m[I 2022-06-14 20:27:05,594]\u001b[0m Trial 75 finished with value: 92.04936663881675 and parameters: {'learning_rate': 0.029044894261580308, 'max_depth': 7, 'l1_reg': 0.00013335502151883705, 'l2_reg': 0.021038906063635253}. Best is trial 59 with value: 81.49554975078001.\u001b[0m\n"
     ]
    },
    {
     "name": "stderr",
     "output_type": "stream",
     "text": [
      "C:\\Users\\Abhimanyu\\AppData\\Local\\Temp\\ipykernel_4300\\1559402670.py:4: DeprecationWarning: `np.float` is a deprecated alias for the builtin `float`. To silence this warning, use `float` by itself. Doing this will not modify any behavior and is safe. If you specifically wanted the numpy scalar type, use `np.float64` here.\n",
      "Deprecated in NumPy 1.20; for more details and guidance: https://numpy.org/devdocs/release/1.20.0-notes.html#deprecations\n",
      "  rmse = np.float(re.search(r'[\\d.]+$', results).group(0))\n"
     ]
    },
    {
     "name": "stdout",
     "output_type": "stream",
     "text": [
      "\u001b[32m[I 2022-06-14 20:27:06,110]\u001b[0m Trial 76 finished with value: 106.74382204521999 and parameters: {'learning_rate': 1.0217797214008622, 'max_depth': 8, 'l1_reg': 1.658236633648446e-05, 'l2_reg': 0.0748178109885649}. Best is trial 59 with value: 81.49554975078001.\u001b[0m\n"
     ]
    },
    {
     "name": "stderr",
     "output_type": "stream",
     "text": [
      "C:\\Users\\Abhimanyu\\AppData\\Local\\Temp\\ipykernel_4300\\1559402670.py:4: DeprecationWarning: `np.float` is a deprecated alias for the builtin `float`. To silence this warning, use `float` by itself. Doing this will not modify any behavior and is safe. If you specifically wanted the numpy scalar type, use `np.float64` here.\n",
      "Deprecated in NumPy 1.20; for more details and guidance: https://numpy.org/devdocs/release/1.20.0-notes.html#deprecations\n",
      "  rmse = np.float(re.search(r'[\\d.]+$', results).group(0))\n"
     ]
    },
    {
     "name": "stdout",
     "output_type": "stream",
     "text": [
      "\u001b[32m[I 2022-06-14 20:27:07,133]\u001b[0m Trial 77 finished with value: 86.80224107025843 and parameters: {'learning_rate': 0.5169987477589154, 'max_depth': 7, 'l1_reg': 8.521151148481449e-05, 'l2_reg': 1.9572047798508516}. Best is trial 59 with value: 81.49554975078001.\u001b[0m\n"
     ]
    },
    {
     "name": "stderr",
     "output_type": "stream",
     "text": [
      "C:\\Users\\Abhimanyu\\AppData\\Local\\Temp\\ipykernel_4300\\1559402670.py:4: DeprecationWarning: `np.float` is a deprecated alias for the builtin `float`. To silence this warning, use `float` by itself. Doing this will not modify any behavior and is safe. If you specifically wanted the numpy scalar type, use `np.float64` here.\n",
      "Deprecated in NumPy 1.20; for more details and guidance: https://numpy.org/devdocs/release/1.20.0-notes.html#deprecations\n",
      "  rmse = np.float(re.search(r'[\\d.]+$', results).group(0))\n"
     ]
    },
    {
     "name": "stdout",
     "output_type": "stream",
     "text": [
      "\u001b[32m[I 2022-06-14 20:27:10,380]\u001b[0m Trial 78 finished with value: 382.9146026604534 and parameters: {'learning_rate': 1.3205857351669471e-05, 'max_depth': 8, 'l1_reg': 3.837880382689998e-05, 'l2_reg': 0.2303096580872941}. Best is trial 59 with value: 81.49554975078001.\u001b[0m\n"
     ]
    },
    {
     "name": "stderr",
     "output_type": "stream",
     "text": [
      "C:\\Users\\Abhimanyu\\AppData\\Local\\Temp\\ipykernel_4300\\1559402670.py:4: DeprecationWarning: `np.float` is a deprecated alias for the builtin `float`. To silence this warning, use `float` by itself. Doing this will not modify any behavior and is safe. If you specifically wanted the numpy scalar type, use `np.float64` here.\n",
      "Deprecated in NumPy 1.20; for more details and guidance: https://numpy.org/devdocs/release/1.20.0-notes.html#deprecations\n",
      "  rmse = np.float(re.search(r'[\\d.]+$', results).group(0))\n"
     ]
    },
    {
     "name": "stdout",
     "output_type": "stream",
     "text": [
      "\u001b[32m[I 2022-06-14 20:27:13,571]\u001b[0m Trial 79 finished with value: 82.6897933491891 and parameters: {'learning_rate': 0.26516898320229215, 'max_depth': 8, 'l1_reg': 1.0032648418504765e-05, 'l2_reg': 0.11238005094896851}. Best is trial 59 with value: 81.49554975078001.\u001b[0m\n"
     ]
    },
    {
     "name": "stderr",
     "output_type": "stream",
     "text": [
      "C:\\Users\\Abhimanyu\\AppData\\Local\\Temp\\ipykernel_4300\\1559402670.py:4: DeprecationWarning: `np.float` is a deprecated alias for the builtin `float`. To silence this warning, use `float` by itself. Doing this will not modify any behavior and is safe. If you specifically wanted the numpy scalar type, use `np.float64` here.\n",
      "Deprecated in NumPy 1.20; for more details and guidance: https://numpy.org/devdocs/release/1.20.0-notes.html#deprecations\n",
      "  rmse = np.float(re.search(r'[\\d.]+$', results).group(0))\n"
     ]
    },
    {
     "name": "stdout",
     "output_type": "stream",
     "text": [
      "\u001b[32m[I 2022-06-14 20:27:16,178]\u001b[0m Trial 80 finished with value: 82.86497892448946 and parameters: {'learning_rate': 0.12547129524437992, 'max_depth': 7, 'l1_reg': 2.509819936984198e-05, 'l2_reg': 0.6238151578962083}. Best is trial 59 with value: 81.49554975078001.\u001b[0m\n"
     ]
    },
    {
     "name": "stderr",
     "output_type": "stream",
     "text": [
      "C:\\Users\\Abhimanyu\\AppData\\Local\\Temp\\ipykernel_4300\\1559402670.py:4: DeprecationWarning: `np.float` is a deprecated alias for the builtin `float`. To silence this warning, use `float` by itself. Doing this will not modify any behavior and is safe. If you specifically wanted the numpy scalar type, use `np.float64` here.\n",
      "Deprecated in NumPy 1.20; for more details and guidance: https://numpy.org/devdocs/release/1.20.0-notes.html#deprecations\n",
      "  rmse = np.float(re.search(r'[\\d.]+$', results).group(0))\n"
     ]
    },
    {
     "name": "stdout",
     "output_type": "stream",
     "text": [
      "\u001b[32m[I 2022-06-14 20:27:19,345]\u001b[0m Trial 81 finished with value: 82.34283375004745 and parameters: {'learning_rate': 0.081111994422634, 'max_depth': 8, 'l1_reg': 0.0009305347853947261, 'l2_reg': 5.546754622215658}. Best is trial 59 with value: 81.49554975078001.\u001b[0m\n"
     ]
    },
    {
     "name": "stderr",
     "output_type": "stream",
     "text": [
      "C:\\Users\\Abhimanyu\\AppData\\Local\\Temp\\ipykernel_4300\\1559402670.py:4: DeprecationWarning: `np.float` is a deprecated alias for the builtin `float`. To silence this warning, use `float` by itself. Doing this will not modify any behavior and is safe. If you specifically wanted the numpy scalar type, use `np.float64` here.\n",
      "Deprecated in NumPy 1.20; for more details and guidance: https://numpy.org/devdocs/release/1.20.0-notes.html#deprecations\n",
      "  rmse = np.float(re.search(r'[\\d.]+$', results).group(0))\n"
     ]
    },
    {
     "name": "stdout",
     "output_type": "stream",
     "text": [
      "\u001b[32m[I 2022-06-14 20:27:21,452]\u001b[0m Trial 82 finished with value: 292.3228203671328 and parameters: {'learning_rate': 1.9984894058783926, 'max_depth': 8, 'l1_reg': 0.0006489148469386017, 'l2_reg': 0.8569649599378301}. Best is trial 59 with value: 81.49554975078001.\u001b[0m\n"
     ]
    },
    {
     "name": "stderr",
     "output_type": "stream",
     "text": [
      "C:\\Users\\Abhimanyu\\AppData\\Local\\Temp\\ipykernel_4300\\1559402670.py:4: DeprecationWarning: `np.float` is a deprecated alias for the builtin `float`. To silence this warning, use `float` by itself. Doing this will not modify any behavior and is safe. If you specifically wanted the numpy scalar type, use `np.float64` here.\n",
      "Deprecated in NumPy 1.20; for more details and guidance: https://numpy.org/devdocs/release/1.20.0-notes.html#deprecations\n",
      "  rmse = np.float(re.search(r'[\\d.]+$', results).group(0))\n"
     ]
    },
    {
     "name": "stdout",
     "output_type": "stream",
     "text": [
      "\u001b[32m[I 2022-06-14 20:27:24,768]\u001b[0m Trial 83 finished with value: 83.83602392323168 and parameters: {'learning_rate': 0.041186349252681415, 'max_depth': 8, 'l1_reg': 4.8091107732960266e-05, 'l2_reg': 1.233700223928457}. Best is trial 59 with value: 81.49554975078001.\u001b[0m\n"
     ]
    },
    {
     "name": "stderr",
     "output_type": "stream",
     "text": [
      "C:\\Users\\Abhimanyu\\AppData\\Local\\Temp\\ipykernel_4300\\1559402670.py:4: DeprecationWarning: `np.float` is a deprecated alias for the builtin `float`. To silence this warning, use `float` by itself. Doing this will not modify any behavior and is safe. If you specifically wanted the numpy scalar type, use `np.float64` here.\n",
      "Deprecated in NumPy 1.20; for more details and guidance: https://numpy.org/devdocs/release/1.20.0-notes.html#deprecations\n",
      "  rmse = np.float(re.search(r'[\\d.]+$', results).group(0))\n"
     ]
    },
    {
     "name": "stdout",
     "output_type": "stream",
     "text": [
      "\u001b[32m[I 2022-06-14 20:27:28,175]\u001b[0m Trial 84 finished with value: 82.45368028929923 and parameters: {'learning_rate': 0.06384639337539877, 'max_depth': 8, 'l1_reg': 0.0019844747602468437, 'l2_reg': 0.47292331248008285}. Best is trial 59 with value: 81.49554975078001.\u001b[0m\n"
     ]
    },
    {
     "name": "stderr",
     "output_type": "stream",
     "text": [
      "C:\\Users\\Abhimanyu\\AppData\\Local\\Temp\\ipykernel_4300\\1559402670.py:4: DeprecationWarning: `np.float` is a deprecated alias for the builtin `float`. To silence this warning, use `float` by itself. Doing this will not modify any behavior and is safe. If you specifically wanted the numpy scalar type, use `np.float64` here.\n",
      "Deprecated in NumPy 1.20; for more details and guidance: https://numpy.org/devdocs/release/1.20.0-notes.html#deprecations\n",
      "  rmse = np.float(re.search(r'[\\d.]+$', results).group(0))\n"
     ]
    },
    {
     "name": "stdout",
     "output_type": "stream",
     "text": [
      "\u001b[32m[I 2022-06-14 20:27:31,605]\u001b[0m Trial 85 finished with value: 82.22699015170188 and parameters: {'learning_rate': 0.09117740104288297, 'max_depth': 8, 'l1_reg': 1.6762899999918124e-05, 'l2_reg': 0.28224062051256}. Best is trial 59 with value: 81.49554975078001.\u001b[0m\n"
     ]
    },
    {
     "name": "stderr",
     "output_type": "stream",
     "text": [
      "C:\\Users\\Abhimanyu\\AppData\\Local\\Temp\\ipykernel_4300\\1559402670.py:4: DeprecationWarning: `np.float` is a deprecated alias for the builtin `float`. To silence this warning, use `float` by itself. Doing this will not modify any behavior and is safe. If you specifically wanted the numpy scalar type, use `np.float64` here.\n",
      "Deprecated in NumPy 1.20; for more details and guidance: https://numpy.org/devdocs/release/1.20.0-notes.html#deprecations\n",
      "  rmse = np.float(re.search(r'[\\d.]+$', results).group(0))\n"
     ]
    },
    {
     "name": "stdout",
     "output_type": "stream",
     "text": [
      "\u001b[32m[I 2022-06-14 20:27:34,106]\u001b[0m Trial 86 finished with value: 82.12364049831316 and parameters: {'learning_rate': 0.14702127874092735, 'max_depth': 8, 'l1_reg': 0.00025010357819916216, 'l2_reg': 0.04069524664957348}. Best is trial 59 with value: 81.49554975078001.\u001b[0m\n"
     ]
    },
    {
     "name": "stderr",
     "output_type": "stream",
     "text": [
      "C:\\Users\\Abhimanyu\\AppData\\Local\\Temp\\ipykernel_4300\\1559402670.py:4: DeprecationWarning: `np.float` is a deprecated alias for the builtin `float`. To silence this warning, use `float` by itself. Doing this will not modify any behavior and is safe. If you specifically wanted the numpy scalar type, use `np.float64` here.\n",
      "Deprecated in NumPy 1.20; for more details and guidance: https://numpy.org/devdocs/release/1.20.0-notes.html#deprecations\n",
      "  rmse = np.float(re.search(r'[\\d.]+$', results).group(0))\n"
     ]
    },
    {
     "name": "stdout",
     "output_type": "stream",
     "text": [
      "\u001b[32m[I 2022-06-14 20:27:36,306]\u001b[0m Trial 87 finished with value: 82.92016063230884 and parameters: {'learning_rate': 0.222536936421544, 'max_depth': 8, 'l1_reg': 0.00046384538525407306, 'l2_reg': 0.16719349242290915}. Best is trial 59 with value: 81.49554975078001.\u001b[0m\n"
     ]
    },
    {
     "name": "stderr",
     "output_type": "stream",
     "text": [
      "C:\\Users\\Abhimanyu\\AppData\\Local\\Temp\\ipykernel_4300\\1559402670.py:4: DeprecationWarning: `np.float` is a deprecated alias for the builtin `float`. To silence this warning, use `float` by itself. Doing this will not modify any behavior and is safe. If you specifically wanted the numpy scalar type, use `np.float64` here.\n",
      "Deprecated in NumPy 1.20; for more details and guidance: https://numpy.org/devdocs/release/1.20.0-notes.html#deprecations\n",
      "  rmse = np.float(re.search(r'[\\d.]+$', results).group(0))\n"
     ]
    },
    {
     "name": "stdout",
     "output_type": "stream",
     "text": [
      "\u001b[32m[I 2022-06-14 20:27:37,730]\u001b[0m Trial 88 finished with value: 84.85240619069931 and parameters: {'learning_rate': 0.4348182636418281, 'max_depth': 8, 'l1_reg': 0.000142787193884254, 'l2_reg': 3.0825334541975598}. Best is trial 59 with value: 81.49554975078001.\u001b[0m\n"
     ]
    },
    {
     "name": "stderr",
     "output_type": "stream",
     "text": [
      "C:\\Users\\Abhimanyu\\AppData\\Local\\Temp\\ipykernel_4300\\1559402670.py:4: DeprecationWarning: `np.float` is a deprecated alias for the builtin `float`. To silence this warning, use `float` by itself. Doing this will not modify any behavior and is safe. If you specifically wanted the numpy scalar type, use `np.float64` here.\n",
      "Deprecated in NumPy 1.20; for more details and guidance: https://numpy.org/devdocs/release/1.20.0-notes.html#deprecations\n",
      "  rmse = np.float(re.search(r'[\\d.]+$', results).group(0))\n"
     ]
    },
    {
     "name": "stdout",
     "output_type": "stream",
     "text": [
      "\u001b[32m[I 2022-06-14 20:27:40,999]\u001b[0m Trial 89 finished with value: 82.59467824449648 and parameters: {'learning_rate': 0.05398285339201641, 'max_depth': 8, 'l1_reg': 0.0007915489341035408, 'l2_reg': 0.005537883442945087}. Best is trial 59 with value: 81.49554975078001.\u001b[0m\n"
     ]
    },
    {
     "name": "stderr",
     "output_type": "stream",
     "text": [
      "C:\\Users\\Abhimanyu\\AppData\\Local\\Temp\\ipykernel_4300\\1559402670.py:4: DeprecationWarning: `np.float` is a deprecated alias for the builtin `float`. To silence this warning, use `float` by itself. Doing this will not modify any behavior and is safe. If you specifically wanted the numpy scalar type, use `np.float64` here.\n",
      "Deprecated in NumPy 1.20; for more details and guidance: https://numpy.org/devdocs/release/1.20.0-notes.html#deprecations\n",
      "  rmse = np.float(re.search(r'[\\d.]+$', results).group(0))\n"
     ]
    },
    {
     "name": "stdout",
     "output_type": "stream",
     "text": [
      "\u001b[32m[I 2022-06-14 20:27:43,967]\u001b[0m Trial 90 finished with value: 82.2809403192493 and parameters: {'learning_rate': 0.08822913970419989, 'max_depth': 8, 'l1_reg': 8.141531480821512e-05, 'l2_reg': 0.016168308843317505}. Best is trial 59 with value: 81.49554975078001.\u001b[0m\n"
     ]
    },
    {
     "name": "stderr",
     "output_type": "stream",
     "text": [
      "C:\\Users\\Abhimanyu\\AppData\\Local\\Temp\\ipykernel_4300\\1559402670.py:4: DeprecationWarning: `np.float` is a deprecated alias for the builtin `float`. To silence this warning, use `float` by itself. Doing this will not modify any behavior and is safe. If you specifically wanted the numpy scalar type, use `np.float64` here.\n",
      "Deprecated in NumPy 1.20; for more details and guidance: https://numpy.org/devdocs/release/1.20.0-notes.html#deprecations\n",
      "  rmse = np.float(re.search(r'[\\d.]+$', results).group(0))\n"
     ]
    },
    {
     "name": "stdout",
     "output_type": "stream",
     "text": [
      "\u001b[32m[I 2022-06-14 20:27:46,823]\u001b[0m Trial 91 finished with value: 82.68573923324954 and parameters: {'learning_rate': 0.14798825770015628, 'max_depth': 8, 'l1_reg': 0.0002597003683981538, 'l2_reg': 0.042940976808175865}. Best is trial 59 with value: 81.49554975078001.\u001b[0m\n"
     ]
    },
    {
     "name": "stderr",
     "output_type": "stream",
     "text": [
      "C:\\Users\\Abhimanyu\\AppData\\Local\\Temp\\ipykernel_4300\\1559402670.py:4: DeprecationWarning: `np.float` is a deprecated alias for the builtin `float`. To silence this warning, use `float` by itself. Doing this will not modify any behavior and is safe. If you specifically wanted the numpy scalar type, use `np.float64` here.\n",
      "Deprecated in NumPy 1.20; for more details and guidance: https://numpy.org/devdocs/release/1.20.0-notes.html#deprecations\n",
      "  rmse = np.float(re.search(r'[\\d.]+$', results).group(0))\n"
     ]
    },
    {
     "name": "stdout",
     "output_type": "stream",
     "text": [
      "\u001b[32m[I 2022-06-14 20:27:48,514]\u001b[0m Trial 92 finished with value: 83.41897893409119 and parameters: {'learning_rate': 0.16582348936720193, 'max_depth': 8, 'l1_reg': 0.00017663921233929586, 'l2_reg': 0.0974695036895714}. Best is trial 59 with value: 81.49554975078001.\u001b[0m\n"
     ]
    },
    {
     "name": "stderr",
     "output_type": "stream",
     "text": [
      "C:\\Users\\Abhimanyu\\AppData\\Local\\Temp\\ipykernel_4300\\1559402670.py:4: DeprecationWarning: `np.float` is a deprecated alias for the builtin `float`. To silence this warning, use `float` by itself. Doing this will not modify any behavior and is safe. If you specifically wanted the numpy scalar type, use `np.float64` here.\n",
      "Deprecated in NumPy 1.20; for more details and guidance: https://numpy.org/devdocs/release/1.20.0-notes.html#deprecations\n",
      "  rmse = np.float(re.search(r'[\\d.]+$', results).group(0))\n"
     ]
    },
    {
     "name": "stdout",
     "output_type": "stream",
     "text": [
      "\u001b[32m[I 2022-06-14 20:27:51,767]\u001b[0m Trial 93 finished with value: 85.42278416601535 and parameters: {'learning_rate': 0.036434020283361575, 'max_depth': 8, 'l1_reg': 0.00042999131955740187, 'l2_reg': 1.7558358124919888}. Best is trial 59 with value: 81.49554975078001.\u001b[0m\n"
     ]
    },
    {
     "name": "stderr",
     "output_type": "stream",
     "text": [
      "C:\\Users\\Abhimanyu\\AppData\\Local\\Temp\\ipykernel_4300\\1559402670.py:4: DeprecationWarning: `np.float` is a deprecated alias for the builtin `float`. To silence this warning, use `float` by itself. Doing this will not modify any behavior and is safe. If you specifically wanted the numpy scalar type, use `np.float64` here.\n",
      "Deprecated in NumPy 1.20; for more details and guidance: https://numpy.org/devdocs/release/1.20.0-notes.html#deprecations\n",
      "  rmse = np.float(re.search(r'[\\d.]+$', results).group(0))\n"
     ]
    },
    {
     "name": "stdout",
     "output_type": "stream",
     "text": [
      "\u001b[32m[I 2022-06-14 20:27:54,995]\u001b[0m Trial 94 finished with value: 100.46185005970031 and parameters: {'learning_rate': 0.021397055460524422, 'max_depth': 8, 'l1_reg': 0.00010666821254970028, 'l2_reg': 0.31333891540189396}. Best is trial 59 with value: 81.49554975078001.\u001b[0m\n"
     ]
    },
    {
     "name": "stderr",
     "output_type": "stream",
     "text": [
      "C:\\Users\\Abhimanyu\\AppData\\Local\\Temp\\ipykernel_4300\\1559402670.py:4: DeprecationWarning: `np.float` is a deprecated alias for the builtin `float`. To silence this warning, use `float` by itself. Doing this will not modify any behavior and is safe. If you specifically wanted the numpy scalar type, use `np.float64` here.\n",
      "Deprecated in NumPy 1.20; for more details and guidance: https://numpy.org/devdocs/release/1.20.0-notes.html#deprecations\n",
      "  rmse = np.float(re.search(r'[\\d.]+$', results).group(0))\n"
     ]
    },
    {
     "name": "stdout",
     "output_type": "stream",
     "text": [
      "\u001b[32m[I 2022-06-14 20:27:57,064]\u001b[0m Trial 95 finished with value: 83.74019874100405 and parameters: {'learning_rate': 0.2940462735196691, 'max_depth': 8, 'l1_reg': 5.5199035494351495e-05, 'l2_reg': 0.5693925734130861}. Best is trial 59 with value: 81.49554975078001.\u001b[0m\n"
     ]
    },
    {
     "name": "stderr",
     "output_type": "stream",
     "text": [
      "C:\\Users\\Abhimanyu\\AppData\\Local\\Temp\\ipykernel_4300\\1559402670.py:4: DeprecationWarning: `np.float` is a deprecated alias for the builtin `float`. To silence this warning, use `float` by itself. Doing this will not modify any behavior and is safe. If you specifically wanted the numpy scalar type, use `np.float64` here.\n",
      "Deprecated in NumPy 1.20; for more details and guidance: https://numpy.org/devdocs/release/1.20.0-notes.html#deprecations\n",
      "  rmse = np.float(re.search(r'[\\d.]+$', results).group(0))\n"
     ]
    },
    {
     "name": "stdout",
     "output_type": "stream",
     "text": [
      "\u001b[32m[I 2022-06-14 20:28:00,239]\u001b[0m Trial 96 finished with value: 81.05432638847444 and parameters: {'learning_rate': 0.11285131141538315, 'max_depth': 8, 'l1_reg': 1.3514462017019979e-05, 'l2_reg': 1.1493892360372862}. Best is trial 96 with value: 81.05432638847444.\u001b[0m\n"
     ]
    },
    {
     "name": "stderr",
     "output_type": "stream",
     "text": [
      "C:\\Users\\Abhimanyu\\AppData\\Local\\Temp\\ipykernel_4300\\1559402670.py:4: DeprecationWarning: `np.float` is a deprecated alias for the builtin `float`. To silence this warning, use `float` by itself. Doing this will not modify any behavior and is safe. If you specifically wanted the numpy scalar type, use `np.float64` here.\n",
      "Deprecated in NumPy 1.20; for more details and guidance: https://numpy.org/devdocs/release/1.20.0-notes.html#deprecations\n",
      "  rmse = np.float(re.search(r'[\\d.]+$', results).group(0))\n"
     ]
    },
    {
     "name": "stdout",
     "output_type": "stream",
     "text": [
      "\u001b[32m[I 2022-06-14 20:28:03,326]\u001b[0m Trial 97 finished with value: 81.39359263160526 and parameters: {'learning_rate': 0.11355986305631416, 'max_depth': 8, 'l1_reg': 1.4810305287259469e-05, 'l2_reg': 1.14684627335074}. Best is trial 96 with value: 81.05432638847444.\u001b[0m\n"
     ]
    },
    {
     "name": "stderr",
     "output_type": "stream",
     "text": [
      "C:\\Users\\Abhimanyu\\AppData\\Local\\Temp\\ipykernel_4300\\1559402670.py:4: DeprecationWarning: `np.float` is a deprecated alias for the builtin `float`. To silence this warning, use `float` by itself. Doing this will not modify any behavior and is safe. If you specifically wanted the numpy scalar type, use `np.float64` here.\n",
      "Deprecated in NumPy 1.20; for more details and guidance: https://numpy.org/devdocs/release/1.20.0-notes.html#deprecations\n",
      "  rmse = np.float(re.search(r'[\\d.]+$', results).group(0))\n"
     ]
    },
    {
     "name": "stdout",
     "output_type": "stream",
     "text": [
      "\u001b[32m[I 2022-06-14 20:28:06,133]\u001b[0m Trial 98 finished with value: 81.31480161043487 and parameters: {'learning_rate': 0.10961327941480582, 'max_depth': 7, 'l1_reg': 1.3438625479661067e-05, 'l2_reg': 1.1183453196856472}. Best is trial 96 with value: 81.05432638847444.\u001b[0m\n"
     ]
    },
    {
     "name": "stderr",
     "output_type": "stream",
     "text": [
      "C:\\Users\\Abhimanyu\\AppData\\Local\\Temp\\ipykernel_4300\\1559402670.py:4: DeprecationWarning: `np.float` is a deprecated alias for the builtin `float`. To silence this warning, use `float` by itself. Doing this will not modify any behavior and is safe. If you specifically wanted the numpy scalar type, use `np.float64` here.\n",
      "Deprecated in NumPy 1.20; for more details and guidance: https://numpy.org/devdocs/release/1.20.0-notes.html#deprecations\n",
      "  rmse = np.float(re.search(r'[\\d.]+$', results).group(0))\n"
     ]
    },
    {
     "name": "stdout",
     "output_type": "stream",
     "text": [
      "\u001b[32m[I 2022-06-14 20:28:08,562]\u001b[0m Trial 99 finished with value: 185.62473924102235 and parameters: {'learning_rate': 0.009216554876551647, 'max_depth': 6, 'l1_reg': 1.4514059751739591e-05, 'l2_reg': 1.2578332570613282}. Best is trial 96 with value: 81.05432638847444.\u001b[0m\n"
     ]
    }
   ],
   "source": [
    "study = optuna.create_study()\n",
    "study.optimize(objective, n_trials=100, show_progress_bar=True)"
   ]
  },
  {
   "cell_type": "code",
   "execution_count": 38,
   "id": "bda0cc84",
   "metadata": {},
   "outputs": [
    {
     "data": {
      "text/plain": [
       "{'learning_rate': 0.11285131141538315,\n",
       " 'max_depth': 8,\n",
       " 'l1_reg': 1.3514462017019979e-05,\n",
       " 'l2_reg': 1.1493892360372862}"
      ]
     },
     "execution_count": 38,
     "metadata": {},
     "output_type": "execute_result"
    }
   ],
   "source": [
    "best_params = study.best_params\n",
    "\n",
    "best_params"
   ]
  },
  {
   "cell_type": "code",
   "execution_count": 39,
   "id": "f923abb4",
   "metadata": {},
   "outputs": [
    {
     "name": "stdout",
     "output_type": "stream",
     "text": [
      "[20:29:11] WARNING: C:/Users/Administrator/workspace/xgboost-win64_release_1.6.0/src/learner.cc:627: \n",
      "Parameters: { \"l1_reg\", \"l2_reg\" } might not be used.\n",
      "\n",
      "  This could be a false alarm, with some parameters getting used by language bindings but\n",
      "  then being mistakenly passed down to XGBoost core, or some parameter actually being used\n",
      "  but getting flagged wrongly here. Please open an issue if you find any such cases.\n",
      "\n",
      "\n",
      "[0]\teval-rmse:344.47864\n",
      "[1]\teval-rmse:310.05602\n",
      "[2]\teval-rmse:279.81233\n",
      "[3]\teval-rmse:253.32226\n",
      "[4]\teval-rmse:230.14259\n",
      "[5]\teval-rmse:209.55344\n",
      "[6]\teval-rmse:191.68181\n",
      "[7]\teval-rmse:176.15258\n",
      "[8]\teval-rmse:162.88961\n",
      "[9]\teval-rmse:151.47304\n",
      "[10]\teval-rmse:141.58440\n",
      "[11]\teval-rmse:132.74380\n",
      "[12]\teval-rmse:125.38690\n",
      "[13]\teval-rmse:119.25468\n",
      "[14]\teval-rmse:113.94108\n",
      "[15]\teval-rmse:109.33917\n",
      "[16]\teval-rmse:105.40402\n",
      "[17]\teval-rmse:102.29950\n",
      "[18]\teval-rmse:99.44120\n",
      "[19]\teval-rmse:97.24844\n",
      "[20]\teval-rmse:95.33722\n",
      "[21]\teval-rmse:93.73352\n",
      "[22]\teval-rmse:92.34282\n",
      "[23]\teval-rmse:91.29840\n",
      "[24]\teval-rmse:90.42699\n",
      "[25]\teval-rmse:89.56745\n",
      "[26]\teval-rmse:88.81986\n",
      "[27]\teval-rmse:88.26566\n",
      "[28]\teval-rmse:87.73363\n",
      "[29]\teval-rmse:87.24084\n",
      "[30]\teval-rmse:86.92045\n",
      "[31]\teval-rmse:86.64039\n",
      "[32]\teval-rmse:86.28096\n",
      "[33]\teval-rmse:85.88209\n",
      "[34]\teval-rmse:85.45124\n",
      "[35]\teval-rmse:85.23256\n",
      "[36]\teval-rmse:85.00027\n",
      "[37]\teval-rmse:84.80848\n",
      "[38]\teval-rmse:84.56509\n",
      "[39]\teval-rmse:84.47348\n",
      "[40]\teval-rmse:84.39649\n",
      "[41]\teval-rmse:84.24596\n",
      "[42]\teval-rmse:84.08910\n",
      "[43]\teval-rmse:83.99538\n",
      "[44]\teval-rmse:83.95248\n",
      "[45]\teval-rmse:83.95786\n",
      "[46]\teval-rmse:83.80555\n",
      "[47]\teval-rmse:83.76738\n",
      "[48]\teval-rmse:83.63749\n",
      "[49]\teval-rmse:83.43904\n",
      "[50]\teval-rmse:83.34495\n",
      "[51]\teval-rmse:83.32858\n",
      "[52]\teval-rmse:83.29316\n",
      "[53]\teval-rmse:83.29542\n",
      "[54]\teval-rmse:83.24990\n",
      "[55]\teval-rmse:83.24698\n",
      "[56]\teval-rmse:83.24925\n",
      "[57]\teval-rmse:83.14833\n",
      "[58]\teval-rmse:83.11471\n",
      "[59]\teval-rmse:83.01957\n",
      "[60]\teval-rmse:82.98212\n",
      "[61]\teval-rmse:82.93332\n",
      "[62]\teval-rmse:82.95457\n",
      "[63]\teval-rmse:82.87348\n",
      "[64]\teval-rmse:82.84033\n",
      "[65]\teval-rmse:82.79601\n",
      "[66]\teval-rmse:82.75673\n",
      "[67]\teval-rmse:82.79160\n",
      "[68]\teval-rmse:82.68230\n",
      "[69]\teval-rmse:82.67276\n",
      "[70]\teval-rmse:82.66016\n",
      "[71]\teval-rmse:82.67464\n",
      "[72]\teval-rmse:82.70394\n",
      "[73]\teval-rmse:82.65868\n",
      "[74]\teval-rmse:82.64643\n",
      "[75]\teval-rmse:82.64061\n",
      "[76]\teval-rmse:82.65040\n",
      "[77]\teval-rmse:82.59607\n",
      "[78]\teval-rmse:82.60739\n",
      "[79]\teval-rmse:82.58809\n",
      "[80]\teval-rmse:82.55361\n",
      "[81]\teval-rmse:82.51280\n",
      "[82]\teval-rmse:82.53237\n",
      "[83]\teval-rmse:82.51726\n",
      "[84]\teval-rmse:82.45456\n",
      "[85]\teval-rmse:82.41745\n",
      "[86]\teval-rmse:82.41413\n",
      "[87]\teval-rmse:82.37419\n",
      "[88]\teval-rmse:82.39008\n",
      "[89]\teval-rmse:82.34659\n",
      "[90]\teval-rmse:82.31580\n",
      "[91]\teval-rmse:82.27706\n",
      "[92]\teval-rmse:82.24636\n",
      "[93]\teval-rmse:82.24807\n",
      "[94]\teval-rmse:82.25200\n",
      "[95]\teval-rmse:82.22123\n",
      "[96]\teval-rmse:82.26449\n",
      "[97]\teval-rmse:82.24677\n",
      "[98]\teval-rmse:82.25412\n",
      "[99]\teval-rmse:82.27211\n",
      "[100]\teval-rmse:82.20784\n",
      "[101]\teval-rmse:82.17696\n",
      "[102]\teval-rmse:82.16869\n",
      "[103]\teval-rmse:82.25740\n",
      "[104]\teval-rmse:82.32806\n",
      "[105]\teval-rmse:82.34529\n",
      "[106]\teval-rmse:82.32566\n",
      "[107]\teval-rmse:82.30797\n",
      "[108]\teval-rmse:82.33466\n",
      "[109]\teval-rmse:82.30335\n",
      "[110]\teval-rmse:82.27800\n",
      "[111]\teval-rmse:82.22318\n"
     ]
    }
   ],
   "source": [
    "model = xgb.train(best_params, dtrain, num_boost_round=10000, evals=[(dval, 'eval')], early_stopping_rounds=10)"
   ]
  },
  {
   "cell_type": "code",
   "execution_count": 40,
   "id": "01c01be2",
   "metadata": {},
   "outputs": [
    {
     "name": "stderr",
     "output_type": "stream",
     "text": [
      "C:\\Users\\Abhimanyu\\AppData\\Local\\Temp\\ipykernel_4300\\217773829.py:1: DeprecationWarning: `np.float` is a deprecated alias for the builtin `float`. To silence this warning, use `float` by itself. Doing this will not modify any behavior and is safe. If you specifically wanted the numpy scalar type, use `np.float64` here.\n",
      "Deprecated in NumPy 1.20; for more details and guidance: https://numpy.org/devdocs/release/1.20.0-notes.html#deprecations\n",
      "  ytrue = np.array(ytest, dtype = np.float)\n",
      "C:\\Users\\Abhimanyu\\AppData\\Local\\Temp\\ipykernel_4300\\217773829.py:3: DeprecationWarning: `np.float` is a deprecated alias for the builtin `float`. To silence this warning, use `float` by itself. Doing this will not modify any behavior and is safe. If you specifically wanted the numpy scalar type, use `np.float64` here.\n",
      "Deprecated in NumPy 1.20; for more details and guidance: https://numpy.org/devdocs/release/1.20.0-notes.html#deprecations\n",
      "  ypred = np.array(model.predict(dtest), dtype = np.float)\n"
     ]
    }
   ],
   "source": [
    "ytrue = np.array(ytest, dtype = np.float)\n",
    "\n",
    "ypred = np.array(model.predict(dtest), dtype = np.float)"
   ]
  },
  {
   "cell_type": "code",
   "execution_count": 41,
   "id": "8636fdd5",
   "metadata": {},
   "outputs": [
    {
     "name": "stdout",
     "output_type": "stream",
     "text": [
      "R^2 Score: 0.9393\n"
     ]
    }
   ],
   "source": [
    "r2 = r2_score(ytrue, ypred)\n",
    "\n",
    "print(\"R^2 Score: {:.4f}\".format(r2))"
   ]
  },
  {
   "cell_type": "code",
   "execution_count": 42,
   "id": "2de59033",
   "metadata": {},
   "outputs": [],
   "source": [
    "import optuna\n",
    "\n",
    "def objective(trial):\n",
    "    x = trial.suggest_float('x', -10, 10)\n",
    "    return (x - 2) ** 2"
   ]
  },
  {
   "cell_type": "code",
   "execution_count": 43,
   "id": "1aa5e4d2",
   "metadata": {},
   "outputs": [
    {
     "name": "stderr",
     "output_type": "stream",
     "text": [
      "\u001b[32m[I 2022-06-14 22:41:38,226]\u001b[0m A new study created in memory with name: no-name-4f4cadbd-4079-4e3b-96bf-34dc0c600505\u001b[0m\n",
      "\u001b[32m[I 2022-06-14 22:41:38,238]\u001b[0m Trial 0 finished with value: 29.065618762419167 and parameters: {'x': -3.391253913740213}. Best is trial 0 with value: 29.065618762419167.\u001b[0m\n",
      "\u001b[32m[I 2022-06-14 22:41:38,239]\u001b[0m Trial 1 finished with value: 34.309611294946365 and parameters: {'x': 7.857440677885382}. Best is trial 0 with value: 29.065618762419167.\u001b[0m\n",
      "\u001b[32m[I 2022-06-14 22:41:38,239]\u001b[0m Trial 2 finished with value: 15.087174931379048 and parameters: {'x': -1.8842212773449258}. Best is trial 2 with value: 15.087174931379048.\u001b[0m\n",
      "\u001b[32m[I 2022-06-14 22:41:38,239]\u001b[0m Trial 3 finished with value: 7.18740687404434 and parameters: {'x': 4.680933955554359}. Best is trial 3 with value: 7.18740687404434.\u001b[0m\n",
      "\u001b[32m[I 2022-06-14 22:41:38,250]\u001b[0m Trial 4 finished with value: 0.5964299881737214 and parameters: {'x': 1.2277112015743583}. Best is trial 4 with value: 0.5964299881737214.\u001b[0m\n",
      "\u001b[32m[I 2022-06-14 22:41:38,251]\u001b[0m Trial 5 finished with value: 19.715286238580486 and parameters: {'x': -2.4401898876715267}. Best is trial 4 with value: 0.5964299881737214.\u001b[0m\n",
      "\u001b[32m[I 2022-06-14 22:41:38,256]\u001b[0m Trial 6 finished with value: 0.22746406778027 and parameters: {'x': 1.5230680679800628}. Best is trial 6 with value: 0.22746406778027.\u001b[0m\n",
      "\u001b[32m[I 2022-06-14 22:41:38,259]\u001b[0m Trial 7 finished with value: 21.275285428134808 and parameters: {'x': -2.612514003028588}. Best is trial 6 with value: 0.22746406778027.\u001b[0m\n",
      "\u001b[32m[I 2022-06-14 22:41:38,261]\u001b[0m Trial 8 finished with value: 9.13512362268988 and parameters: {'x': 5.0224367028425725}. Best is trial 6 with value: 0.22746406778027.\u001b[0m\n",
      "\u001b[32m[I 2022-06-14 22:41:38,263]\u001b[0m Trial 9 finished with value: 5.165076268800017 and parameters: {'x': -0.27268041501659823}. Best is trial 6 with value: 0.22746406778027.\u001b[0m\n",
      "\u001b[32m[I 2022-06-14 22:41:38,276]\u001b[0m Trial 10 finished with value: 77.61185765089891 and parameters: {'x': -6.809759227748447}. Best is trial 6 with value: 0.22746406778027.\u001b[0m\n",
      "\u001b[32m[I 2022-06-14 22:41:38,290]\u001b[0m Trial 11 finished with value: 1.6598846193028354 and parameters: {'x': 3.288365095500043}. Best is trial 6 with value: 0.22746406778027.\u001b[0m\n",
      "\u001b[32m[I 2022-06-14 22:41:38,302]\u001b[0m Trial 12 finished with value: 0.0039015986856771063 and parameters: {'x': 1.937537221598162}. Best is trial 12 with value: 0.0039015986856771063.\u001b[0m\n",
      "\u001b[32m[I 2022-06-14 22:41:38,326]\u001b[0m Trial 13 finished with value: 56.47250967724051 and parameters: {'x': 9.514819337631511}. Best is trial 12 with value: 0.0039015986856771063.\u001b[0m\n",
      "\u001b[32m[I 2022-06-14 22:41:38,343]\u001b[0m Trial 14 finished with value: 126.6391370208391 and parameters: {'x': -9.25340557435122}. Best is trial 12 with value: 0.0039015986856771063.\u001b[0m\n",
      "\u001b[32m[I 2022-06-14 22:41:38,359]\u001b[0m Trial 15 finished with value: 0.12036616592684225 and parameters: {'x': 1.653061726056576}. Best is trial 12 with value: 0.0039015986856771063.\u001b[0m\n",
      "\u001b[32m[I 2022-06-14 22:41:38,382]\u001b[0m Trial 16 finished with value: 21.399942950644864 and parameters: {'x': 6.626007236337278}. Best is trial 12 with value: 0.0039015986856771063.\u001b[0m\n",
      "\u001b[32m[I 2022-06-14 22:41:38,402]\u001b[0m Trial 17 finished with value: 60.389491040942666 and parameters: {'x': -5.771067561213367}. Best is trial 12 with value: 0.0039015986856771063.\u001b[0m\n",
      "\u001b[32m[I 2022-06-14 22:41:38,422]\u001b[0m Trial 18 finished with value: 0.5356646043995528 and parameters: {'x': 2.731891115125435}. Best is trial 12 with value: 0.0039015986856771063.\u001b[0m\n",
      "\u001b[32m[I 2022-06-14 22:41:38,441]\u001b[0m Trial 19 finished with value: 5.0295972140644505 and parameters: {'x': -0.2426763507168061}. Best is trial 12 with value: 0.0039015986856771063.\u001b[0m\n",
      "\u001b[32m[I 2022-06-14 22:41:38,459]\u001b[0m Trial 20 finished with value: 14.689737769914355 and parameters: {'x': 5.832719370096688}. Best is trial 12 with value: 0.0039015986856771063.\u001b[0m\n",
      "\u001b[32m[I 2022-06-14 22:41:38,477]\u001b[0m Trial 21 finished with value: 0.016705227629309875 and parameters: {'x': 1.8707512954443648}. Best is trial 12 with value: 0.0039015986856771063.\u001b[0m\n",
      "\u001b[32m[I 2022-06-14 22:41:38,497]\u001b[0m Trial 22 finished with value: 1.8655302775034281 and parameters: {'x': 3.365844162964219}. Best is trial 12 with value: 0.0039015986856771063.\u001b[0m\n",
      "\u001b[32m[I 2022-06-14 22:41:38,519]\u001b[0m Trial 23 finished with value: 0.6398422807239803 and parameters: {'x': 1.200098580621349}. Best is trial 12 with value: 0.0039015986856771063.\u001b[0m\n",
      "\u001b[32m[I 2022-06-14 22:41:38,533]\u001b[0m Trial 24 finished with value: 0.17424930324145932 and parameters: {'x': 2.4174317947179627}. Best is trial 12 with value: 0.0039015986856771063.\u001b[0m\n",
      "\u001b[32m[I 2022-06-14 22:41:38,553]\u001b[0m Trial 25 finished with value: 5.3233787068155625 and parameters: {'x': -0.30724483027171656}. Best is trial 12 with value: 0.0039015986856771063.\u001b[0m\n",
      "\u001b[32m[I 2022-06-14 22:41:38,576]\u001b[0m Trial 26 finished with value: 3.0856120245003082 and parameters: {'x': 3.7565910236877302}. Best is trial 12 with value: 0.0039015986856771063.\u001b[0m\n",
      "\u001b[32m[I 2022-06-14 22:41:38,597]\u001b[0m Trial 27 finished with value: 11.281186199966307 and parameters: {'x': -1.358747713057101}. Best is trial 12 with value: 0.0039015986856771063.\u001b[0m\n",
      "\u001b[32m[I 2022-06-14 22:41:38,613]\u001b[0m Trial 28 finished with value: 45.76782028590743 and parameters: {'x': -4.765191814420891}. Best is trial 12 with value: 0.0039015986856771063.\u001b[0m\n",
      "\u001b[32m[I 2022-06-14 22:41:38,644]\u001b[0m Trial 29 finished with value: 33.555121663746505 and parameters: {'x': -3.7926782807045747}. Best is trial 12 with value: 0.0039015986856771063.\u001b[0m\n",
      "\u001b[32m[I 2022-06-14 22:41:38,662]\u001b[0m Trial 30 finished with value: 30.189505741553788 and parameters: {'x': 7.494497769728712}. Best is trial 12 with value: 0.0039015986856771063.\u001b[0m\n",
      "\u001b[32m[I 2022-06-14 22:41:38,682]\u001b[0m Trial 31 finished with value: 0.0067559359029130675 and parameters: {'x': 1.917805499557981}. Best is trial 12 with value: 0.0039015986856771063.\u001b[0m\n",
      "\u001b[32m[I 2022-06-14 22:41:38,705]\u001b[0m Trial 32 finished with value: 0.4557218005759008 and parameters: {'x': 1.324928299677804}. Best is trial 12 with value: 0.0039015986856771063.\u001b[0m\n",
      "\u001b[32m[I 2022-06-14 22:41:38,719]\u001b[0m Trial 33 finished with value: 6.618439215282034 and parameters: {'x': 4.572632740070381}. Best is trial 12 with value: 0.0039015986856771063.\u001b[0m\n",
      "\u001b[32m[I 2022-06-14 22:41:38,740]\u001b[0m Trial 34 finished with value: 0.0015785504977643679 and parameters: {'x': 2.039730976551859}. Best is trial 34 with value: 0.0015785504977643679.\u001b[0m\n",
      "\u001b[32m[I 2022-06-14 22:41:38,755]\u001b[0m Trial 35 finished with value: 11.083969960467936 and parameters: {'x': -1.3292596715287825}. Best is trial 34 with value: 0.0015785504977643679.\u001b[0m\n",
      "\u001b[32m[I 2022-06-14 22:41:38,775]\u001b[0m Trial 36 finished with value: 2.2912533436258795 and parameters: {'x': 0.486311345214651}. Best is trial 34 with value: 0.0015785504977643679.\u001b[0m\n",
      "\u001b[32m[I 2022-06-14 22:41:38,793]\u001b[0m Trial 37 finished with value: 5.10390340967724 and parameters: {'x': 4.259182022254347}. Best is trial 34 with value: 0.0015785504977643679.\u001b[0m\n",
      "\u001b[32m[I 2022-06-14 22:41:38,811]\u001b[0m Trial 38 finished with value: 13.683660118621438 and parameters: {'x': 5.699143160060372}. Best is trial 34 with value: 0.0015785504977643679.\u001b[0m\n",
      "\u001b[32m[I 2022-06-14 22:41:38,825]\u001b[0m Trial 39 finished with value: 0.09250401950957109 and parameters: {'x': 2.3041447344761554}. Best is trial 34 with value: 0.0015785504977643679.\u001b[0m\n",
      "\u001b[32m[I 2022-06-14 22:41:38,839]\u001b[0m Trial 40 finished with value: 2.8376168699776225 and parameters: {'x': 0.3154772575065594}. Best is trial 34 with value: 0.0015785504977643679.\u001b[0m\n",
      "\u001b[32m[I 2022-06-14 22:41:38,854]\u001b[0m Trial 41 finished with value: 0.09067775818519858 and parameters: {'x': 2.3011274782964826}. Best is trial 34 with value: 0.0015785504977643679.\u001b[0m\n",
      "\u001b[32m[I 2022-06-14 22:41:38,871]\u001b[0m Trial 42 finished with value: 0.7808757293079286 and parameters: {'x': 2.883671731644692}. Best is trial 34 with value: 0.0015785504977643679.\u001b[0m\n",
      "\u001b[32m[I 2022-06-14 22:41:38,889]\u001b[0m Trial 43 finished with value: 0.05154462517752618 and parameters: {'x': 1.772965585918068}. Best is trial 34 with value: 0.0015785504977643679.\u001b[0m\n",
      "\u001b[32m[I 2022-06-14 22:41:38,903]\u001b[0m Trial 44 finished with value: 11.043637232679588 and parameters: {'x': -1.323196839291887}. Best is trial 34 with value: 0.0015785504977643679.\u001b[0m\n"
     ]
    },
    {
     "name": "stderr",
     "output_type": "stream",
     "text": [
      "\u001b[32m[I 2022-06-14 22:41:38,925]\u001b[0m Trial 45 finished with value: 1.8636744708287094 and parameters: {'x': 0.6348353685988237}. Best is trial 34 with value: 0.0015785504977643679.\u001b[0m\n",
      "\u001b[32m[I 2022-06-14 22:41:38,948]\u001b[0m Trial 46 finished with value: 17.836814696684932 and parameters: {'x': -2.223365328347162}. Best is trial 34 with value: 0.0015785504977643679.\u001b[0m\n",
      "\u001b[32m[I 2022-06-14 22:41:38,972]\u001b[0m Trial 47 finished with value: 11.31022754399115 and parameters: {'x': 5.363068174151566}. Best is trial 34 with value: 0.0015785504977643679.\u001b[0m\n",
      "\u001b[32m[I 2022-06-14 22:41:38,993]\u001b[0m Trial 48 finished with value: 0.051558255946633616 and parameters: {'x': 1.7729355687329396}. Best is trial 34 with value: 0.0015785504977643679.\u001b[0m\n",
      "\u001b[32m[I 2022-06-14 22:41:39,015]\u001b[0m Trial 49 finished with value: 28.598449033904664 and parameters: {'x': -3.347751773774159}. Best is trial 34 with value: 0.0015785504977643679.\u001b[0m\n",
      "\u001b[32m[I 2022-06-14 22:41:39,034]\u001b[0m Trial 50 finished with value: 3.7360853115214034 and parameters: {'x': 3.932895576983248}. Best is trial 34 with value: 0.0015785504977643679.\u001b[0m\n",
      "\u001b[32m[I 2022-06-14 22:41:39,050]\u001b[0m Trial 51 finished with value: 0.18975565879284237 and parameters: {'x': 1.5643904744007056}. Best is trial 34 with value: 0.0015785504977643679.\u001b[0m\n",
      "\u001b[32m[I 2022-06-14 22:41:39,071]\u001b[0m Trial 52 finished with value: 6.519477852779737 and parameters: {'x': -0.5533268205969513}. Best is trial 34 with value: 0.0015785504977643679.\u001b[0m\n",
      "\u001b[32m[I 2022-06-14 22:41:39,089]\u001b[0m Trial 53 finished with value: 0.0026034603662374273 and parameters: {'x': 1.9489758844639378}. Best is trial 34 with value: 0.0015785504977643679.\u001b[0m\n",
      "\u001b[32m[I 2022-06-14 22:41:39,114]\u001b[0m Trial 54 finished with value: 1.496606960652518 and parameters: {'x': 0.7766411153498258}. Best is trial 34 with value: 0.0015785504977643679.\u001b[0m\n",
      "\u001b[32m[I 2022-06-14 22:41:39,133]\u001b[0m Trial 55 finished with value: 1.6179822005766948 and parameters: {'x': 3.2719992926793218}. Best is trial 34 with value: 0.0015785504977643679.\u001b[0m\n",
      "\u001b[32m[I 2022-06-14 22:41:39,154]\u001b[0m Trial 56 finished with value: 0.09296067474661376 and parameters: {'x': 2.3048945305291877}. Best is trial 34 with value: 0.0015785504977643679.\u001b[0m\n",
      "\u001b[32m[I 2022-06-14 22:41:39,168]\u001b[0m Trial 57 finished with value: 6.793926307159523 and parameters: {'x': 4.606516124477177}. Best is trial 34 with value: 0.0015785504977643679.\u001b[0m\n",
      "\u001b[32m[I 2022-06-14 22:41:39,184]\u001b[0m Trial 58 finished with value: 6.124200872515991 and parameters: {'x': -0.4747122807542683}. Best is trial 34 with value: 0.0015785504977643679.\u001b[0m\n",
      "\u001b[32m[I 2022-06-14 22:41:39,208]\u001b[0m Trial 59 finished with value: 19.51749949612519 and parameters: {'x': 6.417861416582144}. Best is trial 34 with value: 0.0015785504977643679.\u001b[0m\n",
      "\u001b[32m[I 2022-06-14 22:41:39,226]\u001b[0m Trial 60 finished with value: 61.78856367998498 and parameters: {'x': 9.860570187968872}. Best is trial 34 with value: 0.0015785504977643679.\u001b[0m\n",
      "\u001b[32m[I 2022-06-14 22:41:39,250]\u001b[0m Trial 61 finished with value: 0.014813134854546944 and parameters: {'x': 1.878290777446625}. Best is trial 34 with value: 0.0015785504977643679.\u001b[0m\n",
      "\u001b[32m[I 2022-06-14 22:41:39,268]\u001b[0m Trial 62 finished with value: 0.004989165948459508 and parameters: {'x': 1.929365971738407}. Best is trial 34 with value: 0.0015785504977643679.\u001b[0m\n",
      "\u001b[32m[I 2022-06-14 22:41:39,288]\u001b[0m Trial 63 finished with value: 1.3935172828859639 and parameters: {'x': 3.1804733300189225}. Best is trial 34 with value: 0.0015785504977643679.\u001b[0m\n",
      "\u001b[32m[I 2022-06-14 22:41:39,302]\u001b[0m Trial 64 finished with value: 0.6103709189701818 and parameters: {'x': 1.2187376119573003}. Best is trial 34 with value: 0.0015785504977643679.\u001b[0m\n",
      "\u001b[32m[I 2022-06-14 22:41:39,324]\u001b[0m Trial 65 finished with value: 2.198242863638093 and parameters: {'x': 3.482647248551756}. Best is trial 34 with value: 0.0015785504977643679.\u001b[0m\n",
      "\u001b[32m[I 2022-06-14 22:41:39,344]\u001b[0m Trial 66 finished with value: 124.03148396152582 and parameters: {'x': -9.13694230754231}. Best is trial 34 with value: 0.0015785504977643679.\u001b[0m\n",
      "\u001b[32m[I 2022-06-14 22:41:39,355]\u001b[0m Trial 67 finished with value: 0.45488291061244457 and parameters: {'x': 2.6744500801485938}. Best is trial 34 with value: 0.0015785504977643679.\u001b[0m\n",
      "\u001b[32m[I 2022-06-14 22:41:39,384]\u001b[0m Trial 68 finished with value: 3.8897473368896285 and parameters: {'x': 0.027755761349617103}. Best is trial 34 with value: 0.0015785504977643679.\u001b[0m\n",
      "\u001b[32m[I 2022-06-14 22:41:39,401]\u001b[0m Trial 69 finished with value: 0.0009173010376600854 and parameters: {'x': 1.9697130219787433}. Best is trial 69 with value: 0.0009173010376600854.\u001b[0m\n",
      "\u001b[32m[I 2022-06-14 22:41:39,426]\u001b[0m Trial 70 finished with value: 1.311008384840001 and parameters: {'x': 0.8550072555513721}. Best is trial 69 with value: 0.0009173010376600854.\u001b[0m\n",
      "\u001b[32m[I 2022-06-14 22:41:39,442]\u001b[0m Trial 71 finished with value: 6.600552245276088e-05 and parameters: {'x': 2.0081243782809985}. Best is trial 71 with value: 6.600552245276088e-05.\u001b[0m\n",
      "\u001b[32m[I 2022-06-14 22:41:39,463]\u001b[0m Trial 72 finished with value: 3.695100356533295 and parameters: {'x': 3.9222643825793826}. Best is trial 71 with value: 6.600552245276088e-05.\u001b[0m\n",
      "\u001b[32m[I 2022-06-14 22:41:39,482]\u001b[0m Trial 73 finished with value: 0.002837002273532926 and parameters: {'x': 2.0532635172846567}. Best is trial 71 with value: 6.600552245276088e-05.\u001b[0m\n",
      "\u001b[32m[I 2022-06-14 22:41:39,502]\u001b[0m Trial 74 finished with value: 0.7425891630588385 and parameters: {'x': 2.8617361330818376}. Best is trial 71 with value: 6.600552245276088e-05.\u001b[0m\n",
      "\u001b[32m[I 2022-06-14 22:41:39,516]\u001b[0m Trial 75 finished with value: 8.382679511353068 and parameters: {'x': -0.895285739154785}. Best is trial 71 with value: 6.600552245276088e-05.\u001b[0m\n",
      "\u001b[32m[I 2022-06-14 22:41:39,533]\u001b[0m Trial 76 finished with value: 0.8262462279008789 and parameters: {'x': 1.0910191267684017}. Best is trial 71 with value: 6.600552245276088e-05.\u001b[0m\n",
      "\u001b[32m[I 2022-06-14 22:41:39,551]\u001b[0m Trial 77 finished with value: 2.864538091031794 and parameters: {'x': 0.3075053645485921}. Best is trial 71 with value: 6.600552245276088e-05.\u001b[0m\n",
      "\u001b[32m[I 2022-06-14 22:41:39,568]\u001b[0m Trial 78 finished with value: 0.0807329924243773 and parameters: {'x': 2.2841355177100837}. Best is trial 71 with value: 6.600552245276088e-05.\u001b[0m\n",
      "\u001b[32m[I 2022-06-14 22:41:39,593]\u001b[0m Trial 79 finished with value: 8.90449583953901 and parameters: {'x': 4.984040187319703}. Best is trial 71 with value: 6.600552245276088e-05.\u001b[0m\n",
      "\u001b[32m[I 2022-06-14 22:41:39,616]\u001b[0m Trial 80 finished with value: 4.089807655214724 and parameters: {'x': 4.022327286868949}. Best is trial 71 with value: 6.600552245276088e-05.\u001b[0m\n",
      "\u001b[32m[I 2022-06-14 22:41:39,634]\u001b[0m Trial 81 finished with value: 0.007985302363502141 and parameters: {'x': 1.9106394809577398}. Best is trial 71 with value: 6.600552245276088e-05.\u001b[0m\n",
      "\u001b[32m[I 2022-06-14 22:41:39,651]\u001b[0m Trial 82 finished with value: 0.00632820605302884 and parameters: {'x': 1.920449977667955}. Best is trial 71 with value: 6.600552245276088e-05.\u001b[0m\n",
      "\u001b[32m[I 2022-06-14 22:41:39,673]\u001b[0m Trial 83 finished with value: 0.8592555473886905 and parameters: {'x': 2.926960380700648}. Best is trial 71 with value: 6.600552245276088e-05.\u001b[0m\n",
      "\u001b[32m[I 2022-06-14 22:41:39,694]\u001b[0m Trial 84 finished with value: 0.6412685387847941 and parameters: {'x': 1.199207555739445}. Best is trial 71 with value: 6.600552245276088e-05.\u001b[0m\n",
      "\u001b[32m[I 2022-06-14 22:41:39,714]\u001b[0m Trial 85 finished with value: 2.291981412328888 and parameters: {'x': 3.5139291305503333}. Best is trial 71 with value: 6.600552245276088e-05.\u001b[0m\n",
      "\u001b[32m[I 2022-06-14 22:41:39,723]\u001b[0m Trial 86 finished with value: 0.07655363381075224 and parameters: {'x': 2.2766832734567672}. Best is trial 71 with value: 6.600552245276088e-05.\u001b[0m\n",
      "\u001b[32m[I 2022-06-14 22:41:39,748]\u001b[0m Trial 87 finished with value: 3.6013489621670844 and parameters: {'x': 0.10227795444983978}. Best is trial 71 with value: 6.600552245276088e-05.\u001b[0m\n",
      "\u001b[32m[I 2022-06-14 22:41:39,772]\u001b[0m Trial 88 finished with value: 0.16274171793809747 and parameters: {'x': 1.5965874097922854}. Best is trial 71 with value: 6.600552245276088e-05.\u001b[0m\n",
      "\u001b[32m[I 2022-06-14 22:41:39,795]\u001b[0m Trial 89 finished with value: 0.5566871029084058 and parameters: {'x': 2.746114671420155}. Best is trial 71 with value: 6.600552245276088e-05.\u001b[0m\n"
     ]
    },
    {
     "name": "stderr",
     "output_type": "stream",
     "text": [
      "\u001b[32m[I 2022-06-14 22:41:39,814]\u001b[0m Trial 90 finished with value: 1.947160627476008 and parameters: {'x': 0.6045930244276374}. Best is trial 71 with value: 6.600552245276088e-05.\u001b[0m\n",
      "\u001b[32m[I 2022-06-14 22:41:39,840]\u001b[0m Trial 91 finished with value: 0.015827866900262794 and parameters: {'x': 2.1258088506435966}. Best is trial 71 with value: 6.600552245276088e-05.\u001b[0m\n",
      "\u001b[32m[I 2022-06-14 22:41:39,859]\u001b[0m Trial 92 finished with value: 0.1923361321832951 and parameters: {'x': 1.561438565098007}. Best is trial 71 with value: 6.600552245276088e-05.\u001b[0m\n",
      "\u001b[32m[I 2022-06-14 22:41:39,880]\u001b[0m Trial 93 finished with value: 0.00034304592658705745 and parameters: {'x': 1.9814785009627445}. Best is trial 71 with value: 6.600552245276088e-05.\u001b[0m\n",
      "\u001b[32m[I 2022-06-14 22:41:39,901]\u001b[0m Trial 94 finished with value: 1.231815811125869 and parameters: {'x': 0.8901280203888968}. Best is trial 71 with value: 6.600552245276088e-05.\u001b[0m\n",
      "\u001b[32m[I 2022-06-14 22:41:39,918]\u001b[0m Trial 95 finished with value: 0.5034166568984698 and parameters: {'x': 2.709518609268615}. Best is trial 71 with value: 6.600552245276088e-05.\u001b[0m\n",
      "\u001b[32m[I 2022-06-14 22:41:39,933]\u001b[0m Trial 96 finished with value: 1.6145561053571706 and parameters: {'x': 3.2706518427001043}. Best is trial 71 with value: 6.600552245276088e-05.\u001b[0m\n",
      "\u001b[32m[I 2022-06-14 22:41:39,949]\u001b[0m Trial 97 finished with value: 5.547829042120208 and parameters: {'x': 4.355382992661747}. Best is trial 71 with value: 6.600552245276088e-05.\u001b[0m\n",
      "\u001b[32m[I 2022-06-14 22:41:39,970]\u001b[0m Trial 98 finished with value: 0.45013138735055847 and parameters: {'x': 1.3290816835481696}. Best is trial 71 with value: 6.600552245276088e-05.\u001b[0m\n",
      "\u001b[32m[I 2022-06-14 22:41:39,992]\u001b[0m Trial 99 finished with value: 9.07738851534556 and parameters: {'x': -1.0128704776915916}. Best is trial 71 with value: 6.600552245276088e-05.\u001b[0m\n"
     ]
    }
   ],
   "source": [
    "study = optuna.create_study()\n",
    "study.optimize(objective, n_trials=100)"
   ]
  },
  {
   "cell_type": "code",
   "execution_count": 44,
   "id": "e8c25f32",
   "metadata": {},
   "outputs": [
    {
     "data": {
      "text/plain": [
       "{'x': 2.0081243782809985}"
      ]
     },
     "execution_count": 44,
     "metadata": {},
     "output_type": "execute_result"
    }
   ],
   "source": [
    "study.best_params"
   ]
  },
  {
   "cell_type": "code",
   "execution_count": 45,
   "id": "c897e87b",
   "metadata": {},
   "outputs": [],
   "source": [
    "import optuna\n",
    "import sklearn\n",
    "from sklearn import datasets\n",
    "def objective(trial):\n",
    "      iris = sklearn.datasets.load_iris()\n",
    "      n_estimators = trial.suggest_int('n_estimators', 2, 20)\n",
    "      max_depth = int(trial.suggest_loguniform('max_depth', 1, 32))\n",
    "      clf = sklearn.ensemble.RandomForestClassifier(n_estimators=n_estimators, max_depth=max_depth)\n",
    "      return sklearn.model_selection.cross_val_score(clf, iris.data, iris.target, \n",
    "           n_jobs=-1, cv=3).mean()"
   ]
  },
  {
   "cell_type": "code",
   "execution_count": 46,
   "id": "7e6e5b84",
   "metadata": {},
   "outputs": [
    {
     "name": "stderr",
     "output_type": "stream",
     "text": [
      "\u001b[32m[I 2022-06-14 22:47:32,021]\u001b[0m A new study created in memory with name: no-name-e6400feb-67ea-485d-b857-adce8d9d8090\u001b[0m\n",
      "\u001b[32m[I 2022-06-14 22:47:39,454]\u001b[0m Trial 0 finished with value: 0.9533333333333333 and parameters: {'n_estimators': 7, 'max_depth': 8.97833013390283}. Best is trial 0 with value: 0.9533333333333333.\u001b[0m\n",
      "\u001b[32m[I 2022-06-14 22:47:40,952]\u001b[0m Trial 1 finished with value: 0.9533333333333333 and parameters: {'n_estimators': 9, 'max_depth': 2.911196489152504}. Best is trial 0 with value: 0.9533333333333333.\u001b[0m\n",
      "\u001b[32m[I 2022-06-14 22:47:42,566]\u001b[0m Trial 2 finished with value: 0.9666666666666667 and parameters: {'n_estimators': 12, 'max_depth': 30.086650483262517}. Best is trial 2 with value: 0.9666666666666667.\u001b[0m\n",
      "\u001b[32m[I 2022-06-14 22:47:42,635]\u001b[0m Trial 3 finished with value: 0.7533333333333334 and parameters: {'n_estimators': 15, 'max_depth': 1.3369413372164676}. Best is trial 2 with value: 0.9666666666666667.\u001b[0m\n",
      "\u001b[32m[I 2022-06-14 22:47:42,735]\u001b[0m Trial 4 finished with value: 0.9466666666666667 and parameters: {'n_estimators': 18, 'max_depth': 1.4196012607834239}. Best is trial 2 with value: 0.9666666666666667.\u001b[0m\n",
      "\u001b[32m[I 2022-06-14 22:47:42,817]\u001b[0m Trial 5 finished with value: 0.9533333333333333 and parameters: {'n_estimators': 16, 'max_depth': 12.106391924454266}. Best is trial 2 with value: 0.9666666666666667.\u001b[0m\n",
      "\u001b[32m[I 2022-06-14 22:47:42,884]\u001b[0m Trial 6 finished with value: 0.9533333333333333 and parameters: {'n_estimators': 12, 'max_depth': 18.914828052570275}. Best is trial 2 with value: 0.9666666666666667.\u001b[0m\n",
      "\u001b[32m[I 2022-06-14 22:47:42,966]\u001b[0m Trial 7 finished with value: 0.9533333333333333 and parameters: {'n_estimators': 14, 'max_depth': 5.3343363568302635}. Best is trial 2 with value: 0.9666666666666667.\u001b[0m\n",
      "\u001b[32m[I 2022-06-14 22:47:43,064]\u001b[0m Trial 8 finished with value: 0.9533333333333333 and parameters: {'n_estimators': 17, 'max_depth': 4.469786034881977}. Best is trial 2 with value: 0.9666666666666667.\u001b[0m\n",
      "\u001b[32m[I 2022-06-14 22:47:43,132]\u001b[0m Trial 9 finished with value: 0.9666666666666667 and parameters: {'n_estimators': 7, 'max_depth': 7.017792563999613}. Best is trial 2 with value: 0.9666666666666667.\u001b[0m\n",
      "\u001b[32m[I 2022-06-14 22:47:43,183]\u001b[0m Trial 10 finished with value: 0.9466666666666667 and parameters: {'n_estimators': 3, 'max_depth': 29.87832224223817}. Best is trial 2 with value: 0.9666666666666667.\u001b[0m\n",
      "\u001b[32m[I 2022-06-14 22:47:43,244]\u001b[0m Trial 11 finished with value: 0.9666666666666667 and parameters: {'n_estimators': 6, 'max_depth': 31.239715262924072}. Best is trial 2 with value: 0.9666666666666667.\u001b[0m\n",
      "\u001b[32m[I 2022-06-14 22:47:43,318]\u001b[0m Trial 12 finished with value: 0.9466666666666667 and parameters: {'n_estimators': 11, 'max_depth': 11.42659135838426}. Best is trial 2 with value: 0.9666666666666667.\u001b[0m\n",
      "\u001b[32m[I 2022-06-14 22:47:43,382]\u001b[0m Trial 13 finished with value: 0.9333333333333332 and parameters: {'n_estimators': 2, 'max_depth': 2.6957868829979}. Best is trial 2 with value: 0.9666666666666667.\u001b[0m\n",
      "\u001b[32m[I 2022-06-14 22:47:43,448]\u001b[0m Trial 14 finished with value: 0.9466666666666667 and parameters: {'n_estimators': 6, 'max_depth': 7.870280269794214}. Best is trial 2 with value: 0.9666666666666667.\u001b[0m\n",
      "\u001b[32m[I 2022-06-14 22:47:43,515]\u001b[0m Trial 15 finished with value: 0.9533333333333333 and parameters: {'n_estimators': 10, 'max_depth': 17.94638205908494}. Best is trial 2 with value: 0.9666666666666667.\u001b[0m\n",
      "\u001b[32m[I 2022-06-14 22:47:43,619]\u001b[0m Trial 16 finished with value: 0.94 and parameters: {'n_estimators': 13, 'max_depth': 2.6804098314897673}. Best is trial 2 with value: 0.9666666666666667.\u001b[0m\n",
      "\u001b[32m[I 2022-06-14 22:47:43,687]\u001b[0m Trial 17 finished with value: 0.94 and parameters: {'n_estimators': 5, 'max_depth': 26.61638495153265}. Best is trial 2 with value: 0.9666666666666667.\u001b[0m\n",
      "\u001b[32m[I 2022-06-14 22:47:43,755]\u001b[0m Trial 18 finished with value: 0.9533333333333333 and parameters: {'n_estimators': 9, 'max_depth': 20.534612699777472}. Best is trial 2 with value: 0.9666666666666667.\u001b[0m\n",
      "\u001b[32m[I 2022-06-14 22:47:43,890]\u001b[0m Trial 19 finished with value: 0.96 and parameters: {'n_estimators': 20, 'max_depth': 4.047797047616398}. Best is trial 2 with value: 0.9666666666666667.\u001b[0m\n",
      "\u001b[32m[I 2022-06-14 22:47:43,938]\u001b[0m Trial 20 finished with value: 0.94 and parameters: {'n_estimators': 4, 'max_depth': 7.1115499156107225}. Best is trial 2 with value: 0.9666666666666667.\u001b[0m\n",
      "\u001b[32m[I 2022-06-14 22:47:44,014]\u001b[0m Trial 21 finished with value: 0.9533333333333333 and parameters: {'n_estimators': 7, 'max_depth': 13.934016710972003}. Best is trial 2 with value: 0.9666666666666667.\u001b[0m\n",
      "\u001b[32m[I 2022-06-14 22:47:44,109]\u001b[0m Trial 22 finished with value: 0.9666666666666667 and parameters: {'n_estimators': 8, 'max_depth': 31.103729117775796}. Best is trial 2 with value: 0.9666666666666667.\u001b[0m\n",
      "\u001b[32m[I 2022-06-14 22:47:44,189]\u001b[0m Trial 23 finished with value: 0.9466666666666667 and parameters: {'n_estimators': 8, 'max_depth': 23.87381267910357}. Best is trial 2 with value: 0.9666666666666667.\u001b[0m\n",
      "\u001b[32m[I 2022-06-14 22:47:44,296]\u001b[0m Trial 24 finished with value: 0.9533333333333333 and parameters: {'n_estimators': 11, 'max_depth': 30.441515281670075}. Best is trial 2 with value: 0.9666666666666667.\u001b[0m\n",
      "\u001b[32m[I 2022-06-14 22:47:44,374]\u001b[0m Trial 25 finished with value: 0.96 and parameters: {'n_estimators': 5, 'max_depth': 15.617035999166426}. Best is trial 2 with value: 0.9666666666666667.\u001b[0m\n",
      "\u001b[32m[I 2022-06-14 22:47:44,443]\u001b[0m Trial 26 finished with value: 0.9466666666666667 and parameters: {'n_estimators': 9, 'max_depth': 24.486044086174264}. Best is trial 2 with value: 0.9666666666666667.\u001b[0m\n",
      "\u001b[32m[I 2022-06-14 22:47:44,562]\u001b[0m Trial 27 finished with value: 0.96 and parameters: {'n_estimators': 13, 'max_depth': 20.99542401922831}. Best is trial 2 with value: 0.9666666666666667.\u001b[0m\n",
      "\u001b[32m[I 2022-06-14 22:47:44,668]\u001b[0m Trial 28 finished with value: 0.9466666666666667 and parameters: {'n_estimators': 10, 'max_depth': 1.0498790716790691}. Best is trial 2 with value: 0.9666666666666667.\u001b[0m\n",
      "\u001b[32m[I 2022-06-14 22:47:44,743]\u001b[0m Trial 29 finished with value: 0.9733333333333333 and parameters: {'n_estimators': 7, 'max_depth': 9.7579122338614}. Best is trial 29 with value: 0.9733333333333333.\u001b[0m\n",
      "\u001b[32m[I 2022-06-14 22:47:44,844]\u001b[0m Trial 30 finished with value: 0.9533333333333333 and parameters: {'n_estimators': 8, 'max_depth': 9.688347627599837}. Best is trial 29 with value: 0.9733333333333333.\u001b[0m\n",
      "\u001b[32m[I 2022-06-14 22:47:44,918]\u001b[0m Trial 31 finished with value: 0.96 and parameters: {'n_estimators': 7, 'max_depth': 8.998886334238204}. Best is trial 29 with value: 0.9733333333333333.\u001b[0m\n",
      "\u001b[32m[I 2022-06-14 22:47:45,018]\u001b[0m Trial 32 finished with value: 0.9666666666666667 and parameters: {'n_estimators': 8, 'max_depth': 6.361769106199784}. Best is trial 29 with value: 0.9733333333333333.\u001b[0m\n",
      "\u001b[32m[I 2022-06-14 22:47:45,130]\u001b[0m Trial 33 finished with value: 0.96 and parameters: {'n_estimators': 10, 'max_depth': 3.525406265935714}. Best is trial 29 with value: 0.9733333333333333.\u001b[0m\n",
      "\u001b[32m[I 2022-06-14 22:47:45,203]\u001b[0m Trial 34 finished with value: 0.94 and parameters: {'n_estimators': 6, 'max_depth': 2.007732676741547}. Best is trial 29 with value: 0.9733333333333333.\u001b[0m\n",
      "\u001b[32m[I 2022-06-14 22:47:45,277]\u001b[0m Trial 35 finished with value: 0.9466666666666667 and parameters: {'n_estimators': 5, 'max_depth': 5.7506820367988}. Best is trial 29 with value: 0.9733333333333333.\u001b[0m\n",
      "\u001b[32m[I 2022-06-14 22:47:45,400]\u001b[0m Trial 36 finished with value: 0.9533333333333333 and parameters: {'n_estimators': 12, 'max_depth': 11.539477781138128}. Best is trial 29 with value: 0.9733333333333333.\u001b[0m\n",
      "\u001b[32m[I 2022-06-14 22:47:45,486]\u001b[0m Trial 37 finished with value: 0.9533333333333333 and parameters: {'n_estimators': 8, 'max_depth': 5.374625527235431}. Best is trial 29 with value: 0.9733333333333333.\u001b[0m\n",
      "\u001b[32m[I 2022-06-14 22:47:45,628]\u001b[0m Trial 38 finished with value: 0.96 and parameters: {'n_estimators': 14, 'max_depth': 7.26392998582945}. Best is trial 29 with value: 0.9733333333333333.\u001b[0m\n",
      "\u001b[32m[I 2022-06-14 22:47:45,784]\u001b[0m Trial 39 finished with value: 0.96 and parameters: {'n_estimators': 15, 'max_depth': 14.378149926120724}. Best is trial 29 with value: 0.9733333333333333.\u001b[0m\n"
     ]
    },
    {
     "name": "stderr",
     "output_type": "stream",
     "text": [
      "\u001b[32m[I 2022-06-14 22:47:45,907]\u001b[0m Trial 40 finished with value: 0.96 and parameters: {'n_estimators': 12, 'max_depth': 17.069350619003337}. Best is trial 29 with value: 0.9733333333333333.\u001b[0m\n",
      "\u001b[32m[I 2022-06-14 22:47:45,999]\u001b[0m Trial 41 finished with value: 0.9533333333333333 and parameters: {'n_estimators': 6, 'max_depth': 31.396223623783307}. Best is trial 29 with value: 0.9733333333333333.\u001b[0m\n",
      "\u001b[32m[I 2022-06-14 22:47:46,084]\u001b[0m Trial 42 finished with value: 0.9466666666666667 and parameters: {'n_estimators': 7, 'max_depth': 25.27931968990834}. Best is trial 29 with value: 0.9733333333333333.\u001b[0m\n",
      "\u001b[32m[I 2022-06-14 22:47:46,177]\u001b[0m Trial 43 finished with value: 0.94 and parameters: {'n_estimators': 4, 'max_depth': 21.756437899134003}. Best is trial 29 with value: 0.9733333333333333.\u001b[0m\n",
      "\u001b[32m[I 2022-06-14 22:47:46,277]\u001b[0m Trial 44 finished with value: 0.9666666666666667 and parameters: {'n_estimators': 9, 'max_depth': 5.85236306853517}. Best is trial 29 with value: 0.9733333333333333.\u001b[0m\n",
      "\u001b[32m[I 2022-06-14 22:47:46,361]\u001b[0m Trial 45 finished with value: 0.9733333333333333 and parameters: {'n_estimators': 8, 'max_depth': 10.10800682683017}. Best is trial 29 with value: 0.9733333333333333.\u001b[0m\n",
      "\u001b[32m[I 2022-06-14 22:47:46,468]\u001b[0m Trial 46 finished with value: 0.94 and parameters: {'n_estimators': 9, 'max_depth': 5.7499794729057685}. Best is trial 29 with value: 0.9733333333333333.\u001b[0m\n",
      "\u001b[32m[I 2022-06-14 22:47:46,568]\u001b[0m Trial 47 finished with value: 0.9666666666666667 and parameters: {'n_estimators': 10, 'max_depth': 4.835269990639485}. Best is trial 29 with value: 0.9733333333333333.\u001b[0m\n",
      "\u001b[32m[I 2022-06-14 22:47:46,641]\u001b[0m Trial 48 finished with value: 0.94 and parameters: {'n_estimators': 6, 'max_depth': 4.344720750865909}. Best is trial 29 with value: 0.9733333333333333.\u001b[0m\n",
      "\u001b[32m[I 2022-06-14 22:47:46,721]\u001b[0m Trial 49 finished with value: 0.9333333333333332 and parameters: {'n_estimators': 2, 'max_depth': 9.935229713244956}. Best is trial 29 with value: 0.9733333333333333.\u001b[0m\n",
      "\u001b[32m[I 2022-06-14 22:47:46,807]\u001b[0m Trial 50 finished with value: 0.9333333333333332 and parameters: {'n_estimators': 4, 'max_depth': 8.3324059088654}. Best is trial 29 with value: 0.9733333333333333.\u001b[0m\n",
      "\u001b[32m[I 2022-06-14 22:47:46,924]\u001b[0m Trial 51 finished with value: 0.9666666666666667 and parameters: {'n_estimators': 11, 'max_depth': 3.5814969025528485}. Best is trial 29 with value: 0.9733333333333333.\u001b[0m\n",
      "\u001b[32m[I 2022-06-14 22:47:47,023]\u001b[0m Trial 52 finished with value: 0.94 and parameters: {'n_estimators': 11, 'max_depth': 3.237747842396225}. Best is trial 29 with value: 0.9733333333333333.\u001b[0m\n",
      "\u001b[32m[I 2022-06-14 22:47:47,120]\u001b[0m Trial 53 finished with value: 0.9533333333333333 and parameters: {'n_estimators': 10, 'max_depth': 2.3243769522437856}. Best is trial 29 with value: 0.9733333333333333.\u001b[0m\n",
      "\u001b[32m[I 2022-06-14 22:47:48,138]\u001b[0m Trial 54 finished with value: 0.9666666666666667 and parameters: {'n_estimators': 7, 'max_depth': 13.19654065383832}. Best is trial 29 with value: 0.9733333333333333.\u001b[0m\n",
      "\u001b[32m[I 2022-06-14 22:47:48,223]\u001b[0m Trial 55 finished with value: 0.9533333333333333 and parameters: {'n_estimators': 13, 'max_depth': 4.933695147281549}. Best is trial 29 with value: 0.9733333333333333.\u001b[0m\n",
      "\u001b[32m[I 2022-06-14 22:47:48,357]\u001b[0m Trial 56 finished with value: 0.9533333333333333 and parameters: {'n_estimators': 17, 'max_depth': 12.657432503282525}. Best is trial 29 with value: 0.9733333333333333.\u001b[0m\n",
      "\u001b[32m[I 2022-06-14 22:47:48,462]\u001b[0m Trial 57 finished with value: 0.96 and parameters: {'n_estimators': 11, 'max_depth': 10.48836667865649}. Best is trial 29 with value: 0.9733333333333333.\u001b[0m\n",
      "\u001b[32m[I 2022-06-14 22:47:48,552]\u001b[0m Trial 58 finished with value: 0.9533333333333333 and parameters: {'n_estimators': 7, 'max_depth': 13.131186987638563}. Best is trial 29 with value: 0.9733333333333333.\u001b[0m\n",
      "\u001b[32m[I 2022-06-14 22:47:48,644]\u001b[0m Trial 59 finished with value: 0.9533333333333333 and parameters: {'n_estimators': 8, 'max_depth': 17.2374139618903}. Best is trial 29 with value: 0.9733333333333333.\u001b[0m\n",
      "\u001b[32m[I 2022-06-14 22:47:48,717]\u001b[0m Trial 60 finished with value: 0.94 and parameters: {'n_estimators': 8, 'max_depth': 28.218539886139496}. Best is trial 29 with value: 0.9733333333333333.\u001b[0m\n",
      "\u001b[32m[I 2022-06-14 22:47:48,816]\u001b[0m Trial 61 finished with value: 0.9533333333333333 and parameters: {'n_estimators': 9, 'max_depth': 6.6672650585555004}. Best is trial 29 with value: 0.9733333333333333.\u001b[0m\n",
      "\u001b[32m[I 2022-06-14 22:47:48,898]\u001b[0m Trial 62 finished with value: 0.9533333333333333 and parameters: {'n_estimators': 10, 'max_depth': 3.7000042261307082}. Best is trial 29 with value: 0.9733333333333333.\u001b[0m\n",
      "\u001b[32m[I 2022-06-14 22:47:48,974]\u001b[0m Trial 63 finished with value: 0.96 and parameters: {'n_estimators': 5, 'max_depth': 4.972553695942459}. Best is trial 29 with value: 0.9733333333333333.\u001b[0m\n",
      "\u001b[32m[I 2022-06-14 22:47:49,054]\u001b[0m Trial 64 finished with value: 0.9466666666666667 and parameters: {'n_estimators': 8, 'max_depth': 6.248620827114195}. Best is trial 29 with value: 0.9733333333333333.\u001b[0m\n",
      "\u001b[32m[I 2022-06-14 22:47:49,197]\u001b[0m Trial 65 finished with value: 0.8133333333333334 and parameters: {'n_estimators': 9, 'max_depth': 1.652340335305946}. Best is trial 29 with value: 0.9733333333333333.\u001b[0m\n",
      "\u001b[32m[I 2022-06-14 22:47:49,284]\u001b[0m Trial 66 finished with value: 0.9466666666666667 and parameters: {'n_estimators': 7, 'max_depth': 7.753180252162116}. Best is trial 29 with value: 0.9733333333333333.\u001b[0m\n",
      "\u001b[32m[I 2022-06-14 22:47:49,373]\u001b[0m Trial 67 finished with value: 0.9533333333333333 and parameters: {'n_estimators': 6, 'max_depth': 8.729625244390888}. Best is trial 29 with value: 0.9733333333333333.\u001b[0m\n",
      "\u001b[32m[I 2022-06-14 22:47:49,451]\u001b[0m Trial 68 finished with value: 0.9533333333333333 and parameters: {'n_estimators': 7, 'max_depth': 10.882988240843076}. Best is trial 29 with value: 0.9733333333333333.\u001b[0m\n",
      "\u001b[32m[I 2022-06-14 22:47:49,531]\u001b[0m Trial 69 finished with value: 0.9533333333333333 and parameters: {'n_estimators': 10, 'max_depth': 4.5560320643378915}. Best is trial 29 with value: 0.9733333333333333.\u001b[0m\n",
      "\u001b[32m[I 2022-06-14 22:47:49,613]\u001b[0m Trial 70 finished with value: 0.9666666666666667 and parameters: {'n_estimators': 5, 'max_depth': 7.1733159405211975}. Best is trial 29 with value: 0.9733333333333333.\u001b[0m\n",
      "\u001b[32m[I 2022-06-14 22:47:49,698]\u001b[0m Trial 71 finished with value: 0.9733333333333333 and parameters: {'n_estimators': 8, 'max_depth': 6.291516117496625}. Best is trial 29 with value: 0.9733333333333333.\u001b[0m\n",
      "\u001b[32m[I 2022-06-14 22:47:49,830]\u001b[0m Trial 72 finished with value: 0.96 and parameters: {'n_estimators': 9, 'max_depth': 6.510835672530095}. Best is trial 29 with value: 0.9733333333333333.\u001b[0m\n",
      "\u001b[32m[I 2022-06-14 22:47:49,938]\u001b[0m Trial 73 finished with value: 0.9666666666666667 and parameters: {'n_estimators': 6, 'max_depth': 18.754365552277847}. Best is trial 29 with value: 0.9733333333333333.\u001b[0m\n",
      "\u001b[32m[I 2022-06-14 22:47:50,007]\u001b[0m Trial 74 finished with value: 0.9466666666666667 and parameters: {'n_estimators': 8, 'max_depth': 14.96128757243318}. Best is trial 29 with value: 0.9733333333333333.\u001b[0m\n",
      "\u001b[32m[I 2022-06-14 22:47:50,095]\u001b[0m Trial 75 finished with value: 0.96 and parameters: {'n_estimators': 9, 'max_depth': 6.226569165664202}. Best is trial 29 with value: 0.9733333333333333.\u001b[0m\n",
      "\u001b[32m[I 2022-06-14 22:47:50,189]\u001b[0m Trial 76 finished with value: 0.96 and parameters: {'n_estimators': 11, 'max_depth': 3.9749385830925874}. Best is trial 29 with value: 0.9733333333333333.\u001b[0m\n",
      "\u001b[32m[I 2022-06-14 22:47:50,262]\u001b[0m Trial 77 finished with value: 0.9733333333333333 and parameters: {'n_estimators': 10, 'max_depth': 3.2943789100452454}. Best is trial 29 with value: 0.9733333333333333.\u001b[0m\n",
      "\u001b[32m[I 2022-06-14 22:47:50,358]\u001b[0m Trial 78 finished with value: 0.9666666666666667 and parameters: {'n_estimators': 9, 'max_depth': 3.185361151694876}. Best is trial 29 with value: 0.9733333333333333.\u001b[0m\n",
      "\u001b[32m[I 2022-06-14 22:47:50,431]\u001b[0m Trial 79 finished with value: 0.9533333333333333 and parameters: {'n_estimators': 9, 'max_depth': 2.9086680091715027}. Best is trial 29 with value: 0.9733333333333333.\u001b[0m\n",
      "\u001b[32m[I 2022-06-14 22:47:50,524]\u001b[0m Trial 80 finished with value: 0.9533333333333333 and parameters: {'n_estimators': 12, 'max_depth': 3.2528157841340053}. Best is trial 29 with value: 0.9733333333333333.\u001b[0m\n"
     ]
    },
    {
     "name": "stderr",
     "output_type": "stream",
     "text": [
      "\u001b[32m[I 2022-06-14 22:47:50,590]\u001b[0m Trial 81 finished with value: 0.9466666666666667 and parameters: {'n_estimators': 6, 'max_depth': 7.531238419795736}. Best is trial 29 with value: 0.9733333333333333.\u001b[0m\n",
      "\u001b[32m[I 2022-06-14 22:47:50,645]\u001b[0m Trial 82 finished with value: 0.9533333333333333 and parameters: {'n_estimators': 4, 'max_depth': 26.57145483445369}. Best is trial 29 with value: 0.9733333333333333.\u001b[0m\n",
      "\u001b[32m[I 2022-06-14 22:47:50,724]\u001b[0m Trial 83 finished with value: 0.96 and parameters: {'n_estimators': 8, 'max_depth': 2.7680519885219272}. Best is trial 29 with value: 0.9733333333333333.\u001b[0m\n",
      "\u001b[32m[I 2022-06-14 22:47:50,781]\u001b[0m Trial 84 finished with value: 0.96 and parameters: {'n_estimators': 3, 'max_depth': 8.969196416677844}. Best is trial 29 with value: 0.9733333333333333.\u001b[0m\n",
      "\u001b[32m[I 2022-06-14 22:47:50,861]\u001b[0m Trial 85 finished with value: 0.96 and parameters: {'n_estimators': 7, 'max_depth': 8.19367475532661}. Best is trial 29 with value: 0.9733333333333333.\u001b[0m\n",
      "\u001b[32m[I 2022-06-14 22:47:50,936]\u001b[0m Trial 86 finished with value: 0.9666666666666667 and parameters: {'n_estimators': 10, 'max_depth': 5.092265300802658}. Best is trial 29 with value: 0.9733333333333333.\u001b[0m\n",
      "\u001b[32m[I 2022-06-14 22:47:51,028]\u001b[0m Trial 87 finished with value: 0.9466666666666667 and parameters: {'n_estimators': 11, 'max_depth': 4.500510124228232}. Best is trial 29 with value: 0.9733333333333333.\u001b[0m\n",
      "\u001b[32m[I 2022-06-14 22:47:51,166]\u001b[0m Trial 88 finished with value: 0.9466666666666667 and parameters: {'n_estimators': 20, 'max_depth': 2.256918407706398}. Best is trial 29 with value: 0.9733333333333333.\u001b[0m\n",
      "\u001b[32m[I 2022-06-14 22:47:51,264]\u001b[0m Trial 89 finished with value: 0.9533333333333333 and parameters: {'n_estimators': 12, 'max_depth': 12.048743071175105}. Best is trial 29 with value: 0.9733333333333333.\u001b[0m\n",
      "\u001b[32m[I 2022-06-14 22:47:51,316]\u001b[0m Trial 90 finished with value: 0.96 and parameters: {'n_estimators': 5, 'max_depth': 3.9564302274193586}. Best is trial 29 with value: 0.9733333333333333.\u001b[0m\n",
      "\u001b[32m[I 2022-06-14 22:47:51,380]\u001b[0m Trial 91 finished with value: 0.9533333333333333 and parameters: {'n_estimators': 7, 'max_depth': 22.255819063511925}. Best is trial 29 with value: 0.9733333333333333.\u001b[0m\n",
      "\u001b[32m[I 2022-06-14 22:47:51,450]\u001b[0m Trial 92 finished with value: 0.96 and parameters: {'n_estimators': 8, 'max_depth': 5.70112454498951}. Best is trial 29 with value: 0.9733333333333333.\u001b[0m\n",
      "\u001b[32m[I 2022-06-14 22:47:51,511]\u001b[0m Trial 93 finished with value: 0.9733333333333333 and parameters: {'n_estimators': 6, 'max_depth': 19.420356856182163}. Best is trial 29 with value: 0.9733333333333333.\u001b[0m\n",
      "\u001b[32m[I 2022-06-14 22:47:51,564]\u001b[0m Trial 94 finished with value: 0.9533333333333333 and parameters: {'n_estimators': 5, 'max_depth': 9.75041697850207}. Best is trial 29 with value: 0.9733333333333333.\u001b[0m\n",
      "\u001b[32m[I 2022-06-14 22:47:51,632]\u001b[0m Trial 95 finished with value: 0.9466666666666667 and parameters: {'n_estimators': 6, 'max_depth': 6.017169090051682}. Best is trial 29 with value: 0.9733333333333333.\u001b[0m\n",
      "\u001b[32m[I 2022-06-14 22:47:51,705]\u001b[0m Trial 96 finished with value: 0.9666666666666667 and parameters: {'n_estimators': 10, 'max_depth': 6.78167208194209}. Best is trial 29 with value: 0.9733333333333333.\u001b[0m\n",
      "\u001b[32m[I 2022-06-14 22:47:51,777]\u001b[0m Trial 97 finished with value: 0.9533333333333333 and parameters: {'n_estimators': 7, 'max_depth': 5.445899501223773}. Best is trial 29 with value: 0.9733333333333333.\u001b[0m\n",
      "\u001b[32m[I 2022-06-14 22:47:51,855]\u001b[0m Trial 98 finished with value: 0.96 and parameters: {'n_estimators': 10, 'max_depth': 6.988274685159956}. Best is trial 29 with value: 0.9733333333333333.\u001b[0m\n",
      "\u001b[32m[I 2022-06-14 22:47:51,911]\u001b[0m Trial 99 finished with value: 0.9533333333333333 and parameters: {'n_estimators': 6, 'max_depth': 19.343433317693023}. Best is trial 29 with value: 0.9733333333333333.\u001b[0m\n"
     ]
    }
   ],
   "source": [
    "study = optuna.create_study(direction='maximize')\n",
    "study.optimize(objective, n_trials=100)"
   ]
  },
  {
   "cell_type": "code",
   "execution_count": 47,
   "id": "6ecfb008",
   "metadata": {},
   "outputs": [
    {
     "name": "stdout",
     "output_type": "stream",
     "text": [
      "Accuracy: 0.9733333333333333\n"
     ]
    }
   ],
   "source": [
    "trial = study.best_trial\n",
    "print('Accuracy: {}'.format(trial.value))"
   ]
  },
  {
   "cell_type": "code",
   "execution_count": 48,
   "id": "19a8a2dd",
   "metadata": {},
   "outputs": [
    {
     "name": "stdout",
     "output_type": "stream",
     "text": [
      "Best hyperparameters: {'n_estimators': 7, 'max_depth': 9.7579122338614}\n"
     ]
    }
   ],
   "source": [
    "print(\"Best hyperparameters: {}\".format(trial.params))"
   ]
  },
  {
   "cell_type": "code",
   "execution_count": null,
   "id": "046f9b94",
   "metadata": {},
   "outputs": [],
   "source": []
  }
 ],
 "metadata": {
  "kernelspec": {
   "display_name": "Python 3 (ipykernel)",
   "language": "python",
   "name": "python3"
  },
  "language_info": {
   "codemirror_mode": {
    "name": "ipython",
    "version": 3
   },
   "file_extension": ".py",
   "mimetype": "text/x-python",
   "name": "python",
   "nbconvert_exporter": "python",
   "pygments_lexer": "ipython3",
   "version": "3.9.12"
  }
 },
 "nbformat": 4,
 "nbformat_minor": 5
}
